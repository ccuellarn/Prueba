{
 "cells": [
  {
   "cell_type": "code",
   "execution_count": 278,
   "metadata": {},
   "outputs": [],
   "source": [
    "from scipy import constants as C\n",
    "import numpy as np\n",
    "import matplotlib.pyplot as plt\n",
    "import pandas as pd\n",
    "import sympy as sym\n",
    "import matplotlib.colors as mcolors"
   ]
  },
  {
   "cell_type": "code",
   "execution_count": 279,
   "metadata": {},
   "outputs": [],
   "source": [
    "def Data(l:str):\n",
    "    direccion = l\n",
    "    data = pd.read_csv(direccion, delimiter='\\t')\n",
    "    return data\n",
    "\n",
    "def GetFit(x,y,n):\n",
    "    \n",
    "    l = x.shape[0]\n",
    "    b = y\n",
    "    \n",
    "    A = np.ones((l,n+1))\n",
    "    \n",
    "    for i in range(1,n+1):\n",
    "        A[:,i] = x**i\n",
    "        \n",
    "    AT = np.dot(A.T,A)\n",
    "    bT = np.dot(A.T,b)\n",
    "    \n",
    "    xsol = np.linalg.solve(AT,bT)\n",
    "    \n",
    "    return xsol\n",
    "\n",
    "def GetModel(x,p):\n",
    "    y = 0\n",
    "    for n in range(len(p)):\n",
    "        y += p[n]*x**n\n",
    "        \n",
    "    return y\n",
    "\n",
    "def GetError(x,y,p):\n",
    "    n=2\n",
    "    N=3\n",
    "    l = x.shape[0]\n",
    "    \n",
    "    A = np.ones((l,n+1))\n",
    "    \n",
    "    for i in range(1,n+1):\n",
    "        A[:,i] = x**i\n",
    "    \n",
    "    # Residuos\n",
    "    A=A[:,1:3]\n",
    "    R = y - np.dot(A,p)\n",
    "    sigma2 = np.dot( R.T, R )/(N-len(p))\n",
    "    CVar = sigma2*np.linalg.inv(np.dot(A.T,A))\n",
    "    \n",
    "    Barras_error_xy=np.diag(CVar)\n",
    "    Incertidumbre=np.sqrt(np.diag(CVar))\n",
    "    return (Barras_error_xy,Incertidumbre)\n",
    "\n",
    "\n",
    "#_x = np.linspace(np.min(x),np.max(x),2)\n",
    "#param = GetFit(x,y)\n",
    "#ym = GetModel(_x,param)\n",
    "#plt.errorbar(V, n1,xerr=5.25,yerr=0.015,capsize=0.5,color='r',fmt='.',label = \"n=1\")\n",
    "#plt.text(450, 0.35, 'y={}x + {}'.format(round(param[1],2),round(param[0],2)))"
   ]
  },
  {
   "cell_type": "code",
   "execution_count": 280,
   "metadata": {},
   "outputs": [
    {
     "data": {
      "text/html": [
       "<div>\n",
       "<style scoped>\n",
       "    .dataframe tbody tr th:only-of-type {\n",
       "        vertical-align: middle;\n",
       "    }\n",
       "\n",
       "    .dataframe tbody tr th {\n",
       "        vertical-align: top;\n",
       "    }\n",
       "\n",
       "    .dataframe thead th {\n",
       "        text-align: right;\n",
       "    }\n",
       "</style>\n",
       "<table border=\"1\" class=\"dataframe\">\n",
       "  <thead>\n",
       "    <tr style=\"text-align: right;\">\n",
       "      <th></th>\n",
       "      <th>Corriente</th>\n",
       "      <th>Campo</th>\n",
       "      <th>Campo_T</th>\n",
       "    </tr>\n",
       "  </thead>\n",
       "  <tbody>\n",
       "    <tr>\n",
       "      <th>0</th>\n",
       "      <td>1.1</td>\n",
       "      <td>0.05</td>\n",
       "      <td>0.00005</td>\n",
       "    </tr>\n",
       "    <tr>\n",
       "      <th>1</th>\n",
       "      <td>1.5</td>\n",
       "      <td>0.06</td>\n",
       "      <td>0.00006</td>\n",
       "    </tr>\n",
       "    <tr>\n",
       "      <th>2</th>\n",
       "      <td>2.6</td>\n",
       "      <td>0.07</td>\n",
       "      <td>0.00007</td>\n",
       "    </tr>\n",
       "    <tr>\n",
       "      <th>3</th>\n",
       "      <td>3.6</td>\n",
       "      <td>0.10</td>\n",
       "      <td>0.00010</td>\n",
       "    </tr>\n",
       "    <tr>\n",
       "      <th>4</th>\n",
       "      <td>4.3</td>\n",
       "      <td>0.11</td>\n",
       "      <td>0.00011</td>\n",
       "    </tr>\n",
       "    <tr>\n",
       "      <th>5</th>\n",
       "      <td>5.9</td>\n",
       "      <td>0.13</td>\n",
       "      <td>0.00013</td>\n",
       "    </tr>\n",
       "    <tr>\n",
       "      <th>6</th>\n",
       "      <td>6.7</td>\n",
       "      <td>0.15</td>\n",
       "      <td>0.00015</td>\n",
       "    </tr>\n",
       "    <tr>\n",
       "      <th>7</th>\n",
       "      <td>7.7</td>\n",
       "      <td>0.17</td>\n",
       "      <td>0.00017</td>\n",
       "    </tr>\n",
       "    <tr>\n",
       "      <th>8</th>\n",
       "      <td>8.2</td>\n",
       "      <td>0.22</td>\n",
       "      <td>0.00022</td>\n",
       "    </tr>\n",
       "    <tr>\n",
       "      <th>9</th>\n",
       "      <td>9.4</td>\n",
       "      <td>0.23</td>\n",
       "      <td>0.00023</td>\n",
       "    </tr>\n",
       "    <tr>\n",
       "      <th>10</th>\n",
       "      <td>10.1</td>\n",
       "      <td>0.25</td>\n",
       "      <td>0.00025</td>\n",
       "    </tr>\n",
       "    <tr>\n",
       "      <th>11</th>\n",
       "      <td>11.4</td>\n",
       "      <td>0.28</td>\n",
       "      <td>0.00028</td>\n",
       "    </tr>\n",
       "    <tr>\n",
       "      <th>12</th>\n",
       "      <td>12.2</td>\n",
       "      <td>0.30</td>\n",
       "      <td>0.00030</td>\n",
       "    </tr>\n",
       "    <tr>\n",
       "      <th>13</th>\n",
       "      <td>14.2</td>\n",
       "      <td>0.35</td>\n",
       "      <td>0.00035</td>\n",
       "    </tr>\n",
       "  </tbody>\n",
       "</table>\n",
       "</div>"
      ],
      "text/plain": [
       "    Corriente  Campo  Campo_T\n",
       "0         1.1   0.05  0.00005\n",
       "1         1.5   0.06  0.00006\n",
       "2         2.6   0.07  0.00007\n",
       "3         3.6   0.10  0.00010\n",
       "4         4.3   0.11  0.00011\n",
       "5         5.9   0.13  0.00013\n",
       "6         6.7   0.15  0.00015\n",
       "7         7.7   0.17  0.00017\n",
       "8         8.2   0.22  0.00022\n",
       "9         9.4   0.23  0.00023\n",
       "10       10.1   0.25  0.00025\n",
       "11       11.4   0.28  0.00028\n",
       "12       12.2   0.30  0.00030\n",
       "13       14.2   0.35  0.00035"
      ]
     },
     "execution_count": 280,
     "metadata": {},
     "output_type": "execute_result"
    }
   ],
   "source": [
    "Datos_1=Data(\"\"r\"C:\\Users\\aleja\\OneDrive\\Documentos\\Física\\Moderna imágenes\\Carga em nuevo_1.txt\")\n",
    "Datos_1['Campo_T']=Datos_1['Campo']*(10**(-3))\n",
    "Datos_1"
   ]
  },
  {
   "cell_type": "code",
   "execution_count": 290,
   "metadata": {},
   "outputs": [
    {
     "name": "stdout",
     "output_type": "stream",
     "text": [
      "(array([8.38960206e-07, 7.02348187e-09]), array([9.15947709e-04, 8.38062162e-05]))\n"
     ]
    },
    {
     "data": {
      "text/plain": [
       "<matplotlib.legend.Legend at 0x2338a5e9ee0>"
      ]
     },
     "execution_count": 290,
     "metadata": {},
     "output_type": "execute_result"
    },
    {
     "data": {
      "image/png": "[encoded data removed]",
      "text/plain": [
       "<Figure size 432x288 with 1 Axes>"
      ]
     },
     "metadata": {
      "needs_background": "light"
     },
     "output_type": "display_data"
    }
   ],
   "source": [
    "_x = np.linspace(np.min(Datos_1['Corriente']),np.max(Datos_1['Corriente']),2)\n",
    "param = GetFit(Datos_1['Corriente'],Datos_1['Campo_T'],1)\n",
    "ym = GetModel(_x,param)\n",
    "Estadistica=GetError(Datos_1['Corriente'],Datos_1['Campo_T'],param)\n",
    "print(Estadistica)\n",
    "\n",
    "plt.errorbar(Datos_1['Corriente'],Datos_1['Campo_T'],fmt='.',color='#FF8C00',xerr=9.15e-1,yerr=8.38e-6,capsize=0.5)\n",
    "plt.plot(_x,ym,color='k',label='Regresión lineal')\n",
    "plt.text(8.7, 0.00016, r'$y=2.3 \\times 10^{-5} x + 1.25 \\times 10^{-5}$',color='k')\n",
    "plt.text(8.7, 0.00014, r'$R^2=0.98$',color='k')\n",
    "\n",
    "plt.grid()\n",
    "plt.xlabel('I (A)')\n",
    "plt.ylabel('B (T)')\n",
    "plt.legend()"
   ]
  },
  {
   "cell_type": "code",
   "execution_count": 289,
   "metadata": {},
   "outputs": [
    {
     "name": "stdout",
     "output_type": "stream",
     "text": [
      "Los valores de las barras de error son:[8.38960206e-07 7.02348187e-09] y las incertidumbres [9.15947709e-04 8.38062162e-05].\n"
     ]
    }
   ],
   "source": [
    "\n",
    "print('Los valores de las barras de error son:{} y las incertidumbres {}.'.format(Estadistica[0],Estadistica[1]))"
   ]
  },
  {
   "cell_type": "code",
   "execution_count": 282,
   "metadata": {},
   "outputs": [
    {
     "data": {
      "text/plain": [
       "0     0.000026\n",
       "1     0.000035\n",
       "2     0.000060\n",
       "3     0.000084\n",
       "4     0.000100\n",
       "5     0.000137\n",
       "6     0.000155\n",
       "7     0.000179\n",
       "8     0.000190\n",
       "9     0.000218\n",
       "10    0.000234\n",
       "11    0.000264\n",
       "12    0.000283\n",
       "13    0.000329\n",
       "Name: Corriente, dtype: float64"
      ]
     },
     "execution_count": 282,
     "metadata": {},
     "output_type": "execute_result"
    }
   ],
   "source": [
    "#Constantes\n",
    "R=0.2 #m\n",
    "N=154 \n",
    "a=(5/4)**(3/2)\n",
    " \n",
    "#Valor teórico\n",
    "B_I_t=(N*C.mu_0)/(R*a)\n",
    "\n",
    "#Función de B(I)\n",
    "def B(B_I,I):\n",
    "    return B_I*I\n",
    "\n",
    "B_Teorico=B(B_I_t,Datos_1['Corriente'])\n",
    "\n",
    "#Valor experimental dada la regresión\n",
    "B_I_Exp=param[1]\n",
    "B_Experimental=B(B_I_Exp,Datos_1['Corriente'])\n",
    "\n",
    "B_Experimental"
   ]
  },
  {
   "cell_type": "code",
   "execution_count": 283,
   "metadata": {},
   "outputs": [
    {
     "data": {
      "text/plain": [
       "<matplotlib.legend.Legend at 0x2338a3daf40>"
      ]
     },
     "execution_count": 283,
     "metadata": {},
     "output_type": "execute_result"
    },
    {
     "data": {
      "image/png": "[encoded data removed]",
      "text/plain": [
       "<Figure size 432x288 with 1 Axes>"
      ]
     },
     "metadata": {
      "needs_background": "light"
     },
     "output_type": "display_data"
    }
   ],
   "source": [
    "plt.plot(Datos_1['Corriente'],B_Teorico,label='Valores teóricos')\n",
    "plt.plot(Datos_1['Corriente'],B_Experimental,label='Valores experimentales')\n",
    "\n",
    "plt.grid()\n",
    "plt.xlabel('I (A)')\n",
    "plt.ylabel('B (T)')\n",
    "plt.legend()"
   ]
  },
  {
   "cell_type": "code",
   "execution_count": 284,
   "metadata": {},
   "outputs": [
    {
     "data": {
      "text/html": [
       "<div>\n",
       "<style scoped>\n",
       "    .dataframe tbody tr th:only-of-type {\n",
       "        vertical-align: middle;\n",
       "    }\n",
       "\n",
       "    .dataframe tbody tr th {\n",
       "        vertical-align: top;\n",
       "    }\n",
       "\n",
       "    .dataframe thead th {\n",
       "        text-align: right;\n",
       "    }\n",
       "</style>\n",
       "<table border=\"1\" class=\"dataframe\">\n",
       "  <thead>\n",
       "    <tr style=\"text-align: right;\">\n",
       "      <th></th>\n",
       "      <th>V</th>\n",
       "      <th>I_4</th>\n",
       "      <th>I_6</th>\n",
       "      <th>I_8</th>\n",
       "      <th>I_10</th>\n",
       "      <th>B_4</th>\n",
       "      <th>B_6</th>\n",
       "      <th>B_8</th>\n",
       "      <th>B_10</th>\n",
       "    </tr>\n",
       "  </thead>\n",
       "  <tbody>\n",
       "    <tr>\n",
       "      <th>0</th>\n",
       "      <td>100</td>\n",
       "      <td>13.5</td>\n",
       "      <td>0.7</td>\n",
       "      <td>3.9</td>\n",
       "      <td>0.0</td>\n",
       "      <td>9.809442e-08</td>\n",
       "      <td>2.637381e-10</td>\n",
       "      <td>8.186645e-09</td>\n",
       "      <td>0.000000e+00</td>\n",
       "    </tr>\n",
       "    <tr>\n",
       "      <th>1</th>\n",
       "      <td>125</td>\n",
       "      <td>21.6</td>\n",
       "      <td>13.1</td>\n",
       "      <td>9.6</td>\n",
       "      <td>0.0</td>\n",
       "      <td>2.511217e-07</td>\n",
       "      <td>9.236753e-08</td>\n",
       "      <td>4.960429e-08</td>\n",
       "      <td>0.000000e+00</td>\n",
       "    </tr>\n",
       "    <tr>\n",
       "      <th>2</th>\n",
       "      <td>150</td>\n",
       "      <td>25.6</td>\n",
       "      <td>15.5</td>\n",
       "      <td>12.1</td>\n",
       "      <td>8.8</td>\n",
       "      <td>3.527416e-07</td>\n",
       "      <td>1.293124e-07</td>\n",
       "      <td>7.880386e-08</td>\n",
       "      <td>4.168138e-08</td>\n",
       "    </tr>\n",
       "    <tr>\n",
       "      <th>3</th>\n",
       "      <td>175</td>\n",
       "      <td>27.9</td>\n",
       "      <td>17.4</td>\n",
       "      <td>12.9</td>\n",
       "      <td>10.0</td>\n",
       "      <td>4.189721e-07</td>\n",
       "      <td>1.629578e-07</td>\n",
       "      <td>8.956868e-08</td>\n",
       "      <td>5.382410e-08</td>\n",
       "    </tr>\n",
       "    <tr>\n",
       "      <th>4</th>\n",
       "      <td>200</td>\n",
       "      <td>29.6</td>\n",
       "      <td>19.6</td>\n",
       "      <td>14.0</td>\n",
       "      <td>10.9</td>\n",
       "      <td>4.715852e-07</td>\n",
       "      <td>2.067706e-07</td>\n",
       "      <td>1.054952e-07</td>\n",
       "      <td>6.394841e-08</td>\n",
       "    </tr>\n",
       "    <tr>\n",
       "      <th>5</th>\n",
       "      <td>225</td>\n",
       "      <td>0.0</td>\n",
       "      <td>20.2</td>\n",
       "      <td>15.0</td>\n",
       "      <td>11.9</td>\n",
       "      <td>0.000000e+00</td>\n",
       "      <td>2.196238e-07</td>\n",
       "      <td>1.211042e-07</td>\n",
       "      <td>7.622030e-08</td>\n",
       "    </tr>\n",
       "    <tr>\n",
       "      <th>6</th>\n",
       "      <td>250</td>\n",
       "      <td>0.0</td>\n",
       "      <td>21.3</td>\n",
       "      <td>16.2</td>\n",
       "      <td>12.7</td>\n",
       "      <td>0.000000e+00</td>\n",
       "      <td>2.441945e-07</td>\n",
       "      <td>1.412560e-07</td>\n",
       "      <td>8.681289e-08</td>\n",
       "    </tr>\n",
       "    <tr>\n",
       "      <th>7</th>\n",
       "      <td>275</td>\n",
       "      <td>0.0</td>\n",
       "      <td>22.6</td>\n",
       "      <td>17.0</td>\n",
       "      <td>13.4</td>\n",
       "      <td>0.000000e+00</td>\n",
       "      <td>2.749120e-07</td>\n",
       "      <td>1.555516e-07</td>\n",
       "      <td>9.664655e-08</td>\n",
       "    </tr>\n",
       "  </tbody>\n",
       "</table>\n",
       "</div>"
      ],
      "text/plain": [
       "     V   I_4   I_6   I_8  I_10           B_4           B_6           B_8  \\\n",
       "0  100  13.5   0.7   3.9   0.0  9.809442e-08  2.637381e-10  8.186645e-09   \n",
       "1  125  21.6  13.1   9.6   0.0  2.511217e-07  9.236753e-08  4.960429e-08   \n",
       "2  150  25.6  15.5  12.1   8.8  3.527416e-07  1.293124e-07  7.880386e-08   \n",
       "3  175  27.9  17.4  12.9  10.0  4.189721e-07  1.629578e-07  8.956868e-08   \n",
       "4  200  29.6  19.6  14.0  10.9  4.715852e-07  2.067706e-07  1.054952e-07   \n",
       "5  225   0.0  20.2  15.0  11.9  0.000000e+00  2.196238e-07  1.211042e-07   \n",
       "6  250   0.0  21.3  16.2  12.7  0.000000e+00  2.441945e-07  1.412560e-07   \n",
       "7  275   0.0  22.6  17.0  13.4  0.000000e+00  2.749120e-07  1.555516e-07   \n",
       "\n",
       "           B_10  \n",
       "0  0.000000e+00  \n",
       "1  0.000000e+00  \n",
       "2  4.168138e-08  \n",
       "3  5.382410e-08  \n",
       "4  6.394841e-08  \n",
       "5  7.622030e-08  \n",
       "6  8.681289e-08  \n",
       "7  9.664655e-08  "
      ]
     },
     "execution_count": 284,
     "metadata": {},
     "output_type": "execute_result"
    }
   ],
   "source": [
    "Datos_2=Data(\"\"r\"C:\\Users\\aleja\\OneDrive\\Documentos\\Física\\Moderna imágenes\\Carga em nuevo_2.txt\")\n",
    "\n",
    "Datos_2['B_4']=B(B_I_Exp,Datos_2['I_4'])**2\n",
    "\n",
    "Datos_2['B_6']=B(B_I_Exp,Datos_2['I_6'])**2\n",
    "\n",
    "Datos_2['B_8']=B(B_I_Exp,Datos_2['I_8'])**2\n",
    "\n",
    "Datos_2['B_10']=B(B_I_Exp,Datos_2['I_10'])**2\n",
    "\n",
    "Datos_2"
   ]
  },
  {
   "cell_type": "code",
   "execution_count": 285,
   "metadata": {},
   "outputs": [
    {
     "data": {
      "image/png": "[encoded data removed]",
      "text/plain": [
       "<Figure size 432x288 with 1 Axes>"
      ]
     },
     "metadata": {
      "needs_background": "light"
     },
     "output_type": "display_data"
    }
   ],
   "source": [
    "_x1 = np.linspace(np.min(Datos_2['B_4'][0:5]),np.max(Datos_2['B_4'][0:5]),10)\n",
    "param_1 = GetFit(Datos_2['B_4'][0:5],Datos_2['V'][0:5],1)\n",
    "ym_1 = GetModel(_x1,param_1)\n",
    "Estadistica_1=GetError(Datos_2['B_4'][0:5],Datos_2['V'][0:5],param_1)\n",
    "\n",
    "plt.errorbar(Datos_2['B_4'][0:5],Datos_2['V'][0:5],fmt='.',color='#1E90FF',label='r=4cm',xerr=2.29e-8,yerr=5.23,capsize=0.05)\n",
    "plt.plot(_x1,ym_1,color='#1E90FF')\n",
    "plt.text(3e-7, 126, r'$y=2.604 \\times 10^8 x + 67.053$',color='#1E90FF')\n",
    "plt.text(3e-7, 114, r'$R^2=0.77$',color='#1E90FF')\n",
    "\n",
    "\n",
    "_x2 = np.linspace(np.min(Datos_2['B_6']),np.max(Datos_2['B_6']),10)\n",
    "param_2 = GetFit(Datos_2['B_6'],Datos_2['V'],1)\n",
    "ym_2 = GetModel(_x2,param_2)\n",
    "Estadistica_2=GetError(Datos_2['B_6'],Datos_2['V'],param_2)\n",
    "\n",
    "plt.errorbar(Datos_2['B_6'],Datos_2['V'],fmt='.',color='r',label='r=6cm',xerr=0.054e-7,yerr=9.54,capsize=0.05)\n",
    "plt.plot(_x2,ym_2,color='r')\n",
    "plt.text(2e-7, 176, r'$y=6.59 \\times 10^8 x + 77.75$',color='r')\n",
    "plt.text(2e-7, 164, r'$R^2=0.82$',color='r')\n",
    "\n",
    "_x3 = np.linspace(np.min(Datos_2['B_8']),np.max(Datos_2['B_8']),10)\n",
    "param_3 = GetFit(Datos_2['B_8'],Datos_2['V'],1)\n",
    "ym_3 = GetModel(_x3,param_3)\n",
    "Estadistica_3=GetError(Datos_2['B_6'],Datos_2['V'],param_3)\n",
    "\n",
    "plt.errorbar(Datos_2['B_8'],Datos_2['V'],fmt='.',color='g',label='r=8cm',xerr=0.054e-7,yerr=8.54,capsize=0.05)\n",
    "plt.plot(_x3,ym_3,color='g')\n",
    "plt.text(1.75e-7, 286, r'$y=1.23 \\times 10^9 x + 71.42$',color='g')\n",
    "plt.text(1.75e-7, 274, r'$R^2=0.92$',color='g')\n",
    "\n",
    "_x4 = np.linspace(np.min(Datos_2['B_10']),np.max(Datos_2['B_10']),10)\n",
    "param_4 = GetFit(Datos_2['B_10'],Datos_2['V'],1)\n",
    "ym_4 = GetModel(_x4,param_4)\n",
    "Estadistica_4=GetError(Datos_2['B_6'],Datos_2['V'],param_4)\n",
    "\n",
    "plt.errorbar(Datos_2['B_10'],Datos_2['V'],fmt='.',color='m',label='r=10cm',xerr=0.054e-7,yerr=9.54,capsize=0.05)\n",
    "plt.plot(_x4,ym_4,color='m')\n",
    "plt.text(-0.2e-7, 300, r'$y=1.61 \\times 10^9 x + 102.66$',color='m')\n",
    "plt.text(-0.2e-7, 286, r'$R^2=0.94$',color='m')\n",
    "\n",
    "plt.ylabel('V (voltios)')\n",
    "plt.xlabel(r'$B^2$ (T)')\n",
    "plt.ylim(75,325)\n",
    "plt.legend()\n",
    "plt.grid()"
   ]
  },
  {
   "cell_type": "code",
   "execution_count": 286,
   "metadata": {},
   "outputs": [
    {
     "name": "stdout",
     "output_type": "stream",
     "text": [
      "Los valores de las barras de error son:[5.30728344e+18 3.16364258e+31] y las incertidumbres [2.30375420e+09 5.62462672e+15].\n",
      "Los valores de las barras de error son:[2.54077919e+19 4.87818730e+32] y las incertidumbres [5.04061424e+09 2.20866188e+16].\n",
      "Los valores de las barras de error son:[2.54077861e+19 4.87818620e+32] y las incertidumbres [5.04061366e+09 2.20866163e+16].\n",
      "Los valores de las barras de error son:[2.54077806e+19 4.87818515e+32] y las incertidumbres [5.04061312e+09 2.20866139e+16].\n"
     ]
    }
   ],
   "source": [
    "#Valores de las barras de error y respectivas incertidumbres\n",
    "print('Los valores de las barras de error son:{} y las incertidumbres {}.'.format(Estadistica_1[0],Estadistica_1[1]))\n",
    "print('Los valores de las barras de error son:{} y las incertidumbres {}.'.format(Estadistica_2[0],Estadistica_2[1]))\n",
    "print('Los valores de las barras de error son:{} y las incertidumbres {}.'.format(Estadistica_3[0],Estadistica_3[1]))\n",
    "print('Los valores de las barras de error son:{} y las incertidumbres {}.'.format(Estadistica_4[0],Estadistica_4[1]))"
   ]
  },
  {
   "cell_type": "code",
   "execution_count": 292,
   "metadata": {},
   "outputs": [
    {
     "name": "stdout",
     "output_type": "stream",
     "text": [
      "1302130755.5628107\n",
      "2199676285.09231\n",
      "3097145727.7379904\n",
      "32385562613.516296\n",
      "9746128845.477352\n"
     ]
    }
   ],
   "source": [
    "#Relaciones de cada radio\n",
    "em4=param_1[1]*(2/0.4)\n",
    "em6=param_2[1]*(2/0.6)\n",
    "em8=param_3[1]*(2/0.8)\n",
    "em10=param_4[1]*(2/0.10)\n",
    "\n",
    "print(em4)\n",
    "print(em6)\n",
    "print(em8)\n",
    "print(em10)\n",
    "print(np.sum([em4,em6,em8,em10])/4)"
   ]
  },
  {
   "cell_type": "code",
   "execution_count": 291,
   "metadata": {},
   "outputs": [
    {
     "name": "stdout",
     "output_type": "stream",
     "text": [
      "13086280868.01238\n"
     ]
    }
   ],
   "source": [
    "#Desviaciones estándar de las pendientes\n",
    "print(np.std([em4,em6,em8,em10]))"
   ]
  }
 ],
 "metadata": {
  "kernelspec": {
   "display_name": "base",
   "language": "python",
   "name": "python3"
  },
  "language_info": {
   "codemirror_mode": {
    "name": "ipython",
    "version": 3
   },
   "file_extension": ".py",
   "mimetype": "text/x-python",
   "name": "python",
   "nbconvert_exporter": "python",
   "pygments_lexer": "ipython3",
   "version": "3.9.7"
  }
 },
 "nbformat": 4,
 "nbformat_minor": 2
}
