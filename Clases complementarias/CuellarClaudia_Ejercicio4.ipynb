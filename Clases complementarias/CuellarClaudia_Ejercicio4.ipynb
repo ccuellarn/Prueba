{
  "cells": [
    {
      "cell_type": "markdown",
      "metadata": {
        "id": "ySCvWQe5vxeT"
      },
      "source": [
        "## Librerias"
      ]
    },
    {
      "cell_type": "code",
      "execution_count": 2,
      "metadata": {
        "id": "VBo2Hv2tv0UR"
      },
      "outputs": [],
      "source": [
        "import numpy as np\n",
        "import matplotlib.pyplot as plt\n",
        "import sympy as sym"
      ]
    },
    {
      "cell_type": "markdown",
      "metadata": {
        "id": "dEcQng6BpVFN"
      },
      "source": [
        "## Problema 1\n",
        "\n",
        "Implemente el método de interpolación de Lagrange que ajuste un polinomio de grado 4 a los siguientes datos experimentales.\n",
        "\n",
        "\n",
        "\n",
        "```\n",
        "    x_values = 4, 7, 8, 12,  17\n",
        "    y_values = 8, 16, 3,  5,  0\n",
        "```\n",
        "\n",
        "El código debe generar una figura que contenga los puntos asociados a los datos experimentales y la curva generada por el polinomio de Lagrange. Gráfique en el intervalo $[3, 18]$."
      ]
    },
    {
      "cell_type": "code",
      "execution_count": 11,
      "metadata": {
        "id": "dMGmXpTTeNgk"
      },
      "outputs": [],
      "source": [
        "X = np.array([ 4, 7, 8, 12,  17])\n",
        "Y = np.array([ 8, 16, 3,  5,  0])\n",
        "\n",
        "## tu codigo aqui\n",
        "def Lagrange(x,xi,j):\n",
        "    \n",
        "    prod = 1.0\n",
        "    n = len(xi)\n",
        "    \n",
        "    for i in range(n):\n",
        "        if i != j:\n",
        "            prod *= (x - xi[i])/(xi[j]-xi[i])\n",
        "            \n",
        "    return prod\n",
        "\n",
        "def Interpolate(x,xi,yi):\n",
        "    \n",
        "    Sum = 0.\n",
        "    n = len(xi)\n",
        "    \n",
        "    for j in range(n):\n",
        "        Sum += yi[j]*Lagrange(x,xi,j)\n",
        "        \n",
        "    return Sum"
      ]
    },
    {
      "cell_type": "code",
      "execution_count": 12,
      "metadata": {},
      "outputs": [
        {
          "data": {
            "text/plain": [
              "[<matplotlib.lines.Line2D at 0x29d1f22c070>]"
            ]
          },
          "execution_count": 12,
          "metadata": {},
          "output_type": "execute_result"
        },
        {
          "data": {
            "image/png": "[encoded data removed]",
            "text/plain": [
              "<Figure size 432x288 with 1 Axes>"
            ]
          },
          "metadata": {
            "needs_background": "light"
          },
          "output_type": "display_data"
        }
      ],
      "source": [
        "#Gráfica\n",
        "x = np.linspace(3,18,100)\n",
        "y = Interpolate(x,X,Y)\n",
        "\n",
        "plt.scatter(X,Y,marker='o',color='b')\n",
        "plt.plot(x,y,color='k') "
      ]
    },
    {
      "attachments": {},
      "cell_type": "markdown",
      "metadata": {
        "id": "ppMjLe_ZCKa4"
      },
      "source": [
        "b) Explique cuál es la intuición detras de la fórmula de interpolación de Lagrange. \n",
        "\n",
        "**Respuesta:** La intuición detrás de ésta formula se presenta en realizar aproximaciones lineales para la obtención de puntos a partir de los conocimientos previos de un conjunto dado. \n",
        "\n",
        "Se puede entender como si el método generara un polinomio inicial que pasará por un punto específico y se anulará para el resto, generando aproximaciones a medida que avanza por el conjunto de números."
      ]
    },
    {
      "cell_type": "markdown",
      "metadata": {
        "id": "cSGUKS4RA8wk"
      },
      "source": [
        "## Problema 2\n",
        "\n",
        "Diseñe un método que obtenga el valor en $x$ para el cual el polinomio interpolador del problema anterior es máximo. Guarde el resultado obtenido en la variable `x_value`, e imprima ese valor. "
      ]
    },
    {
      "cell_type": "code",
      "execution_count": 38,
      "metadata": {
        "id": "uCIYNjJDfVNI"
      },
      "outputs": [],
      "source": [
        "x_value = 0\n",
        "## tu codigo aqui\n",
        "x = sym.Symbol('x',real=True)\n",
        "f = Interpolate(x,X,Y)\n",
        "\n",
        "F = sym.simplify(f)\n",
        "DxF = sym.diff(F,x)\n",
        "DxF1 = sym.lambdify([x],DxF,'numpy')"
      ]
    },
    {
      "cell_type": "code",
      "execution_count": 39,
      "metadata": {},
      "outputs": [],
      "source": [
        "def Derivate(f,x,h=1e-4):\n",
        "    return (f(x+h)-f(x-h))/(2*h)\n",
        "\n",
        "def GetNewtonRaphson(f,df,xn,itmax = 1000, precision=1e-5):\n",
        "    error = 1\n",
        "    it = 0\n",
        "\n",
        "    while error > precision and it <= itmax:\n",
        "        try:\n",
        "            xn1 = xn - f(xn)/df(f,xn)\n",
        "            error = np.abs(f(xn)/df(f,xn))\n",
        "        except ZeroDivisionError:\n",
        "            print('Division por cero')\n",
        "        it += 1\n",
        "        xn = xn1\n",
        "    \n",
        "    if it == itmax:\n",
        "        False\n",
        "    else:\n",
        "        return xn\n",
        "      \n",
        "def GetAllRoots(x,tolerancia=4):\n",
        "    Roots = np.array([])\n",
        "    for i in x:\n",
        "        root = GetNewtonRaphson(DxF1,Derivate,i)\n",
        "        if root != False:\n",
        "            croot = np.round(root, tolerancia)\n",
        "            if croot not in Roots:\n",
        "                Roots = np.append(Roots,croot)\n",
        "    Roots.sort()\n",
        "    return Roots"
      ]
    },
    {
      "cell_type": "code",
      "execution_count": 40,
      "metadata": {},
      "outputs": [
        {
          "name": "stdout",
          "output_type": "stream",
          "text": [
            "15.0885\n"
          ]
        }
      ],
      "source": [
        "values = np.linspace(-3,18,100)\n",
        "R_roots = GetAllRoots(values)\n",
        "\n",
        "DxF_ = sym.diff(DxF,x)\n",
        "DxF2 = sym.lambdify([x],DxF_,'numpy')\n",
        "\n",
        "for j in R_roots:\n",
        "    if DxF2(j) <=0:\n",
        "        if j > x_value:\n",
        "            x_value = j\n",
        "\n",
        "# codigo para verificar su resultado (no modificar)\n",
        "print(x_value)"
      ]
    }
  ],
  "metadata": {
    "colab": {
      "provenance": []
    },
    "kernelspec": {
      "display_name": "base",
      "language": "python",
      "name": "python3"
    },
    "language_info": {
      "codemirror_mode": {
        "name": "ipython",
        "version": 3
      },
      "file_extension": ".py",
      "mimetype": "text/x-python",
      "name": "python",
      "nbconvert_exporter": "python",
      "pygments_lexer": "ipython3",
      "version": "3.9.7"
    },
    "vscode": {
      "interpreter": {
        "hash": "ad307bde91f31e4b718ec0c2fe9a8b9cebe22b2862231a694138fcba204f6685"
      }
    }
  },
  "nbformat": 4,
  "nbformat_minor": 0
}
