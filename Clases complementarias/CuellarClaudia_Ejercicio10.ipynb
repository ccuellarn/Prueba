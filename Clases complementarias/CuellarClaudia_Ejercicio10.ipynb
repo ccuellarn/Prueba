{
  "cells": [
    {
      "cell_type": "markdown",
      "id": "Ca47pvrzRXMy",
      "metadata": {
        "id": "Ca47pvrzRXMy"
      },
      "source": [
        "## Librerias"
      ]
    },
    {
      "cell_type": "code",
      "execution_count": 2,
      "id": "6f64d18c-e6fe-4328-a15d-9344842eabd1",
      "metadata": {
        "id": "6f64d18c-e6fe-4328-a15d-9344842eabd1"
      },
      "outputs": [],
      "source": [
        "import numpy as np\n",
        "import matplotlib.pyplot as plt"
      ]
    },
    {
      "cell_type": "markdown",
      "id": "iKUX0yLUdO7o",
      "metadata": {
        "id": "iKUX0yLUdO7o"
      },
      "source": [
        "## Problema\n",
        "\n",
        "Considere los siguientes puntos\n",
        "\n",
        "```\n",
        "x = [1., 2., 3., 4., 5.]\n",
        "y = [1.20,  0.31, 3.92, 3.78, 4.47]\n",
        "```\n",
        "\n",
        "Basados en el metodo de los mínimos cuadrados, se puede ajustar una parábola a los puntos\n",
        "\n",
        "$$ y = a + bx + cx^2$$\n",
        "\n",
        "En este problema vamos a considerar la regresión, por medio de la gradiente descendiente,\n",
        "\n",
        "a) El método de minimos cuadrados por gradiente descediente considera minimizar la distancia cuadratica entre los puntos. Implemente una función que retorne la siguiente función de costo, la cual se espera que sea mínima en el punto optimo de la regresión. \n",
        "\n",
        "$$\n",
        "\\mathcal{L} = \\sum_{i=1}^N(y_i - (a + bx_i + cx_i^2))^2\n",
        "$$\n",
        "\n",
        "Donde $a$, $b$, y $c$ son los valores a optimizar. "
      ]
    },
    {
      "cell_type": "code",
      "execution_count": 9,
      "id": "14dX13PHYbMj",
      "metadata": {
        "id": "14dX13PHYbMj"
      },
      "outputs": [
        {
          "name": "stdout",
          "output_type": "stream",
          "text": [
            "[1.2  0.31 3.92 3.78 4.47]\n"
          ]
        }
      ],
      "source": [
        "x = np.array([1., 2., 3., 4., 5.])\n",
        "y = np.array([1.20,  0.31, 3.92, 3.78, 4.47])\n",
        "N  = 5\n",
        "\n",
        "def loss(x, y, a, b, c):\n",
        "  loss = 0\n",
        "  for i in range(N):\n",
        "    l = (y[i] - (a + b*x[i] + c*x[i]**2))**2\n",
        "    loss += l\n",
        "    \n",
        "  return loss\n",
        "\n",
        "# codigo para verificar su respuesta\n",
        "loss(x, y, -1, 2, 3)\n",
        "print(y)"
      ]
    },
    {
      "attachments": {},
      "cell_type": "markdown",
      "id": "JNhmTJ2BeSvQ",
      "metadata": {
        "id": "JNhmTJ2BeSvQ"
      },
      "source": [
        "b) Para el algoritmo de gradiente descendiente, se requiere la gradiente de la función de costo. Obtenga la gradiente de la función de costo de forma analitica,\n",
        "\n",
        "Su expresión aquí,\n",
        "\n",
        "$$\n",
        "\\vec{\\nabla} \\mathcal{L} = \\Big(\\frac{\\partial  \\mathcal{L}}{\\partial a} , \\quad \\frac{\\partial  \\mathcal{L}}{\\partial b}, \\quad \\frac{\\partial  \\mathcal{L}}{\\partial c} \\Big) =\\Big( \\sum_{i=1}^N -2(y_i - (a + bx_i + cx_i^2)) , \\sum_{i=1}^N -2x_i(y_i - (a + bx_i + cx_i^2)) , \\sum_{i=1}^N -2x_i^2(y_i - (a + bx_i + cx_i^2)) \\Big)\n",
        "$$"
      ]
    },
    {
      "cell_type": "markdown",
      "id": "dW34NY1YfeMH",
      "metadata": {
        "id": "dW34NY1YfeMH"
      },
      "source": [
        "c) Implemente una función que retorne la gradiente de la función de costo obtenida en el númeral anterior."
      ]
    },
    {
      "cell_type": "code",
      "execution_count": 4,
      "id": "p5qXQvevYbQE",
      "metadata": {
        "id": "p5qXQvevYbQE"
      },
      "outputs": [
        {
          "data": {
            "text/plain": [
              "array([ 22.64,  87.9 , 370.1 ])"
            ]
          },
          "execution_count": 4,
          "metadata": {},
          "output_type": "execute_result"
        }
      ],
      "source": [
        "def grad_loss(x, y, a, b, c):\n",
        "  grad = np.zeros(3)\n",
        "  suma_a = 0\n",
        "  suma_b = 0\n",
        "  suma_c = 0\n",
        "  for i in range (N):\n",
        "    suma_a += (-2)*(y[i] - (a + b*x[i] + c*x[i]**2))\n",
        "    suma_b += (-2*x[i])*(y[i] - (a + b*x[i] + c*x[i]**2))\n",
        "    suma_c += (-2*x[i]**2)*(y[i] - (a + b*x[i] + c*x[i]**2))\n",
        "    \n",
        "  grad[0] = suma_a\n",
        "  grad[1] = suma_b\n",
        "  grad[2] = suma_c\n",
        "  \n",
        "  return grad\n",
        "\n",
        "# codigo para verificar su respuesta\n",
        "grad_loss(x, y, -1, 2, 0)"
      ]
    },
    {
      "cell_type": "markdown",
      "id": "PkhobT8dgB0j",
      "metadata": {
        "id": "PkhobT8dgB0j"
      },
      "source": [
        "d) Implemente el algoritmo de gradiente descendiente, para encontrar los valores optimos de la regresión, use $e = 0.0001$, 10000 iteraciones, e imprima el valor de la función de costo cada 100 iteraciones. \n",
        "\n",
        "El algoritmo de gradiente descendiente nos indica que los puntos optimos de la regresión se van actualizando iterativamente, a partir de la regla, \n",
        "\n",
        "$$\n",
        "  \\vec{x} = \\vec{x} - e\\vec{\\nabla} \\mathcal{L}\n",
        "$$\n",
        "\n",
        "Donde $e$ es el tamaño del paso, y $\\vec{x} = [a, b, c]$. Pueden usar el siguiente notebook como guía [gradiente descendiente](https://github.com/diegour1/CompMetodosComputacionales/blob/main/Notebooks/08%20-%20Gradient_Descent_Neural_Networks.ipynb).\n"
      ]
    },
    {
      "cell_type": "code",
      "execution_count": 5,
      "id": "rqUAS3V_YbS4",
      "metadata": {
        "id": "rqUAS3V_YbS4"
      },
      "outputs": [
        {
          "name": "stdout",
          "output_type": "stream",
          "text": [
            "26.31195879407999\n",
            "4.14695618073299\n",
            "4.082958864177573\n",
            "4.030126846049689\n",
            "3.9864981669711392\n",
            "3.9504557007357493\n",
            "3.9206665461320394\n",
            "3.896032071314171\n",
            "3.8756467384195847\n",
            "3.8587641652092057\n",
            "3.844769151744533\n",
            "3.8331546236813283\n",
            "3.8235026280308615\n",
            "3.815468669123396\n",
            "3.8087687976968625\n",
            "3.8031689692189863\n",
            "3.798476272600306\n",
            "3.7945317005564982\n",
            "3.791204190658307\n",
            "3.788385713731889\n",
            "3.785987225526291\n",
            "3.7839353299194687\n",
            "3.782169528602176\n",
            "3.7806399541598315\n",
            "3.7793055015899024\n",
            "3.778132288225433\n",
            "3.777092384343726\n",
            "3.7761627668843216\n",
            "3.7753244570624136\n",
            "3.774561809555991\n",
            "3.773861926626084\n",
            "3.773214175211638\n",
            "3.772609788900216\n",
            "3.772041539856574\n",
            "3.771503468413332\n",
            "3.7709906601889553\n",
            "3.7704990623796046\n",
            "3.770025332339637\n",
            "3.7695667127756725\n",
            "3.769120928876589\n",
            "3.768686103523974\n",
            "3.7682606874052063\n",
            "3.767843401409848\n",
            "3.7674331891504487\n",
            "3.7670291778282565\n",
            "3.7666306459771457\n",
            "3.766236996876835\n",
            "3.7658477366389604\n",
            "3.7654624561447045\n",
            "3.765080816156993\n",
            "3.764702535049353\n",
            "3.764327378691476\n",
            "3.7639551521124397\n",
            "3.7635856926291695\n",
            "3.7632188641825524\n",
            "3.7628545526689985\n",
            "3.76249266209248\n",
            "3.7621331113927923\n",
            "3.761775831831277\n",
            "3.761420764835908\n",
            "3.761067860225138\n",
            "3.7607170747437855\n",
            "3.7603683708562734\n",
            "3.7600217157518525\n",
            "3.7596770805246327\n",
            "3.759334439497674\n",
            "3.7589937696658127\n",
            "3.7586550502363685\n",
            "3.758318262250502\n",
            "3.7579833882710783\n",
            "3.7576504121253405\n",
            "3.7573193186927356\n",
            "3.756990093730005\n",
            "3.756662723726918\n",
            "3.7563371957873515\n",
            "3.7560134975311934\n",
            "3.7556916170134294\n",
            "3.755371542657403\n",
            "3.755053263199756\n",
            "3.7547367676449825\n",
            "3.7544220452279187\n",
            "3.7541090853827805\n",
            "3.753797877717586\n",
            "3.7534884119930054\n",
            "3.753180678104899\n",
            "3.7528746660698635\n",
            "3.7525703660132557\n",
            "3.7522677681592844\n",
            "3.75196686282279\n",
            "3.7516676404024034\n",
            "3.7513700913748793\n",
            "3.7510742062903533\n",
            "3.750779975768397\n",
            "3.7504873904947154\n",
            "3.7501964412183564\n",
            "3.7499071187493938\n",
            "3.7496194139569345\n",
            "3.7493333177674577\n",
            "3.74904882116337\n",
            "3.748765915181787\n"
          ]
        }
      ],
      "source": [
        "# su codigo aqui\n",
        "\n",
        "def Loss_grad(x,y,a,b,c):\n",
        "    x_ = np.array([a,b,c])\n",
        "    e = 0.0001\n",
        "    for n in range(10000):\n",
        "        x_ = x_ - (e * grad_loss(x,y,x_[0],x_[1],x_[2]))\n",
        "        if n % 100 == 0:\n",
        "            print(loss(x,y,x_[0],x_[1],x_[2]))\n",
        "    return x_\n",
        "\n",
        "xi = Loss_grad(x,y,-1,2,0)"
      ]
    },
    {
      "cell_type": "markdown",
      "id": "MSmaQFKhiMIJ",
      "metadata": {
        "id": "MSmaQFKhiMIJ"
      },
      "source": [
        "e) Imprima los valores finales de la regresión y de la función de costo para los valores optimos."
      ]
    },
    {
      "cell_type": "code",
      "execution_count": 6,
      "id": "wnh5PS3YYbbB",
      "metadata": {
        "id": "wnh5PS3YYbbB"
      },
      "outputs": [
        {
          "name": "stdout",
          "output_type": "stream",
          "text": [
            "Los valores finales de la regresión son:[-1.03783856  1.61100312 -0.09749986]\n",
            "El valor de la función de costo pafra los valores es:3.748487396355791\n"
          ]
        }
      ],
      "source": [
        "# su codigo aqui\n",
        "print(\"Los valores finales de la regresión son:{}\".format(xi))\n",
        "print(\"El valor de la función de costo pafra los valores es:{}\".format(loss(x,y,xi[0],xi[1],xi[2])))"
      ]
    },
    {
      "cell_type": "markdown",
      "id": "HCM7ZTbll6Iv",
      "metadata": {
        "id": "HCM7ZTbll6Iv"
      },
      "source": [
        "f) Ahora obtenga los valores optimos de la regresión, usando el método matricial. Puede usar el siguiente notebook como guía, [Minimos cuadrados](https://github.com/diegour1/CompMetodosComputacionales/blob/main/Notebooks/05%20-%20fit_lineal_y_solucion_sistema_de_ecuaciones.ipynb).\n"
      ]
    },
    {
      "cell_type": "code",
      "execution_count": 7,
      "id": "6c4dc6d0",
      "metadata": {},
      "outputs": [
        {
          "data": {
            "text/plain": [
              "array([-0.562     ,  1.25385714, -0.04214286])"
            ]
          },
          "execution_count": 7,
          "metadata": {},
          "output_type": "execute_result"
        }
      ],
      "source": [
        "def GetFit(x,y,n=2):\n",
        "    \n",
        "    l = x.shape[0]\n",
        "    b = y\n",
        "    \n",
        "    A = np.ones((l,n+1))\n",
        "    \n",
        "    for i in range(1,n+1):\n",
        "        A[:,i] = x**i\n",
        "        \n",
        "    AT = np.dot(A.T,A)\n",
        "    bT = np.dot(A.T,b)\n",
        "    \n",
        "    xsol = np.linalg.solve(AT,bT)\n",
        "    \n",
        "    return xsol\n",
        "\n",
        "n = 2\n",
        "param = GetFit(x,y,n)\n",
        "\n",
        "# codigo para verificar su respuesta\n",
        "param"
      ]
    },
    {
      "attachments": {},
      "cell_type": "markdown",
      "id": "1AvYxum4nGfi",
      "metadata": {
        "id": "1AvYxum4nGfi"
      },
      "source": [
        "g) ¿La función de costo con el método de regresión matricial es mayor o menor que con el método de gradiente descediente? ¿Sí, No, por qué?\n",
        "\n",
        "**Respuesta:** La función de costo con el método de regresión matricial es menor que con el método de gradiente descediente ya que el método de gradiente descendiente suele iterar sobre los parámetros que lo hacen llegar a una solución más óptima que el método de regresión matricial.\n"
      ]
    },
    {
      "cell_type": "markdown",
      "id": "b3aZ-I4smm96",
      "metadata": {
        "id": "b3aZ-I4smm96"
      },
      "source": [
        "h) Realice una gráfica mostrando los puntos $x$ y $y$, ademas de las gráficas de las funciones obtenidas con el método de gradiente descendiente y con el método de regresión matricial."
      ]
    },
    {
      "cell_type": "code",
      "execution_count": 8,
      "id": "4pWICAMEebbs",
      "metadata": {
        "id": "4pWICAMEebbs"
      },
      "outputs": [
        {
          "data": {
            "image/png": "[encoded data removed]",
            "text/plain": [
              "<Figure size 432x288 with 1 Axes>"
            ]
          },
          "metadata": {
            "needs_background": "light"
          },
          "output_type": "display_data"
        }
      ],
      "source": [
        "# su codigo aqui\n",
        "def GetModel(x,p):\n",
        "    y = 0\n",
        "    for n in range(len(p)):\n",
        "        y += p[n]*x**n\n",
        "        \n",
        "    return y\n",
        "\n",
        "sigma = np.random.uniform(0,0.2,N)\n",
        "_x = np.linspace(np.min(x),np.max(x),50)\n",
        "\n",
        "#Gradiente descendiente\n",
        "yg = GetModel(_x,xi)\n",
        "#Regresion matricial\n",
        "ym = GetModel(_x,param)\n",
        "\n",
        "plt.errorbar(x,y,yerr=sigma,fmt='o')\n",
        "plt.plot(_x,yg,color='r',label = \"Gradiente descendiente\")\n",
        "plt.plot(_x,ym,color='g',label = \"Regresion matricial\")\n",
        "plt.legend()\n",
        "plt.show()"
      ]
    }
  ],
  "metadata": {
    "colab": {
      "provenance": []
    },
    "kernelspec": {
      "display_name": "Python 3 (ipykernel)",
      "language": "python",
      "name": "python3"
    },
    "language_info": {
      "codemirror_mode": {
        "name": "ipython",
        "version": 3
      },
      "file_extension": ".py",
      "mimetype": "text/x-python",
      "name": "python",
      "nbconvert_exporter": "python",
      "pygments_lexer": "ipython3",
      "version": "3.9.7"
    }
  },
  "nbformat": 4,
  "nbformat_minor": 5
}
