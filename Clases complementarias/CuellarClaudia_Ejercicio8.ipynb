{
  "cells": [
    {
      "cell_type": "markdown",
      "id": "Ca47pvrzRXMy",
      "metadata": {
        "id": "Ca47pvrzRXMy"
      },
      "source": [
        "## Librerias"
      ]
    },
    {
      "cell_type": "code",
      "execution_count": 36,
      "id": "6f64d18c-e6fe-4328-a15d-9344842eabd1",
      "metadata": {
        "id": "6f64d18c-e6fe-4328-a15d-9344842eabd1"
      },
      "outputs": [],
      "source": [
        "import numpy as np\n",
        "import sympy as sym"
      ]
    },
    {
      "cell_type": "markdown",
      "id": "TtDSGwXXOzhk",
      "metadata": {
        "id": "TtDSGwXXOzhk"
      },
      "source": [
        "## Problema 2\n",
        "\n",
        "Considere una cadena larga de resistencias como se muestra en la figura:\n",
        "\n",
        "![](https://raw.githubusercontent.com/diegour1/CompMetodosComputacionales/main/DataFiles/image8.png)\n",
        "\n",
        "Todos los resitores tienen las misma resistencia $R$. El voltage en la parte superior izquierda del sistema es $V_+ = 5 \\text{V}$. El problema consiste en obtener los voltajes $V_1, \\ldots, V_N$ de los puntos internos del circuito. \n",
        "\n"
      ]
    },
    {
      "attachments": {},
      "cell_type": "markdown",
      "id": "eZIdQ9fkHfsC",
      "metadata": {
        "id": "eZIdQ9fkHfsC"
      },
      "source": [
        "a) Usando la ley de Ohm y la ley de corrientes de Kirchoff, la cual dice que la corriente total que fluye hacia afuera o hacia adentro de cada nodo del circuito es cero. Explique porqué los voltajes $V_1, \\ldots, V_N$ cumplen con las siguientes ecuaciones.\n",
        "\n",
        "$$3V_1 − V_2 − V_3 = V_+$$\n",
        "$$− V_1 + 4V_2 − V_3 − V_4 = V_+,$$\n",
        "$$\\vdots$$\n",
        "$$− V_{i − 2} − V_{i − 1} + 4V_i − V_{i + 1} − V_{i + 2} = 0,$$\n",
        "$$\\vdots$$\n",
        "$$− V_{N − 3} − V_{N − 2}+ 4V_{N − 1} − V_N = 0,$$\n",
        "$$− V_{N − 2} − V_{N − 1} + 3V_N = 0.$$\n",
        "\n",
        "Pista: Para resolver esta pregunta se usa la ley de Ohm y la ley de corrientes de Kirchhoff. La cual dice que la corriente que fluye hacia adentro o hacia afuera de cada unión del circuito es cero. Por ejemplo para el voltaje $V_1$ se tiene que, \n",
        "\n",
        "$$\n",
        "\\frac{V_1-V_2}{R} + \\frac{V_1-V_3}{R} + \n",
        "\\frac{V_1-V_+}{R} = 0, \n",
        "$$\n",
        "\n",
        "Tu explicación aquí\n",
        "\n",
        "**R/** Usando la ley de corrientes de Kirchoff y la ley de ohm se puede despejar para obtener dicha expresión. Como es independiente de R podemos enfocarnos en únicamente los numeradores.\n",
        "\n",
        "$$ V_1 - V_2 + V_1 -V_3 + V_1 -V_+ = 0 \\rightarrow 3V_1 - V_2 - V_3 = V_+ $$\n",
        "\n",
        "Y dicha expresión se puede generalizar dada la recurrencia de los voltajes ya que la relación entre ellos siempre será constante,\n",
        "\n",
        "$$− V_{i − 2} − V_{i − 1} + 4V_i − V_{i + 1} − V_{i + 2} = 0,$$\n",
        "\n",
        "Donde i será el número de la resistencia dada su ubicación en la figura y V_0 se interpreta como la inicial o en este caso V_+."
      ]
    },
    {
      "cell_type": "markdown",
      "id": "a8YYYzy-HYUk",
      "metadata": {
        "id": "a8YYYzy-HYUk"
      },
      "source": [
        "b) Escriba las ecuaciones de la forma $A\\vec{x} = \\vec{b}$ encuentre los valores de la matriz $A$ y del vector $\\vec{b}$, para $N=6$. Imprima estos dos resultados en el notebook.\n",
        "\n"
      ]
    },
    {
      "cell_type": "code",
      "execution_count": 30,
      "id": "GpkXxHCNI4s8",
      "metadata": {
        "colab": {
          "base_uri": "https://localhost:8080/"
        },
        "id": "GpkXxHCNI4s8",
        "outputId": "96294798-ee4d-4bbf-84ce-e0bb1db77a37"
      },
      "outputs": [
        {
          "name": "stdout",
          "output_type": "stream",
          "text": [
            "[[ 3. -1. -1.  0.  0.  0.]\n",
            " [-1.  4. -1. -1.  0.  0.]\n",
            " [-1. -1.  4. -1. -1.  0.]\n",
            " [ 0. -1. -1.  4. -1. -1.]\n",
            " [ 0.  0. -1. -1.  4. -1.]\n",
            " [ 0.  0.  0. -1. -1.  3.]]\n",
            "[5. 5. 0. 0. 0. 0.]\n"
          ]
        }
      ],
      "source": [
        "A = np.zeros((6, 6))\n",
        "b = np.zeros(6)\n",
        "\n",
        "# Tu codigo aqui\n",
        "A = np.array([[3.,-1.,-1.,0.,0.,0.], [-1.,4.,-1.,-1.,0,0.], [-1.,-1.,4.,-1.,-1.,0.],[0.,-1.,-1.,4.,-1.,-1.],[0.,0.,-1.,-1.,4.,-1.],[0.,0.,0.,-1.,-1.,3.]])\n",
        "b = np.array([5.,5.,0.,0.,0.,0.])\n",
        "# Codigo para la verificacion (no modificar)\n",
        "print(A)\n",
        "print(b)"
      ]
    },
    {
      "cell_type": "markdown",
      "id": "kiqwGe0VHZ9x",
      "metadata": {
        "id": "kiqwGe0VHZ9x"
      },
      "source": [
        "c) Escriba un programa que resuelva los valores de $V_i$ cuando $N=6$ es decir 6 nodos internos. Guarde e imprima los valores en el vector $\\vec{x}$.\n",
        "\n"
      ]
    },
    {
      "cell_type": "code",
      "execution_count": 39,
      "id": "CEaRvnvBJ9aQ",
      "metadata": {
        "colab": {
          "base_uri": "https://localhost:8080/"
        },
        "id": "CEaRvnvBJ9aQ",
        "outputId": "af70c3d6-85a7-4350-ae41-242c7d110451"
      },
      "outputs": [
        {
          "name": "stdout",
          "output_type": "stream",
          "text": [
            "[3.72549019 3.43137255 2.74509804 2.25490196 1.56862745 1.2745098 ]\n"
          ]
        }
      ],
      "source": [
        "x0 = np.array([0.,0.,0.,0.,0.,0.])\n",
        "\n",
        "# tu codigo aqui\n",
        "def Jacobi(A,b,x0, itmax=1000, tolerancia= 1e-9):\n",
        "    \n",
        "    x = x0.copy()\n",
        "    \n",
        "    for it in range(itmax):\n",
        "        \n",
        "        xn = np.zeros_like(x0)\n",
        "        \n",
        "        for i in range(A.shape[0]):\n",
        "            \n",
        "            sum_ = 0.\n",
        "            \n",
        "            for j in range(A.shape[1]):\n",
        "                \n",
        "                if j!=i:\n",
        "                    sum_ += A[i,j]*x[j]\n",
        "                    \n",
        "            xn[i] = (b[i] - sum_)/A[i,i]\n",
        "            \n",
        "        #print(it,xn)\n",
        "        \n",
        "        residuo = np.linalg.norm( np.dot(A,xn) - b )\n",
        "        x = xn.copy()\n",
        "        #print(residuo)\n",
        "        \n",
        "        if np.allclose(residuo,tolerancia,atol=tolerancia):\n",
        "            break\n",
        "        \n",
        "    return x\n",
        "  \n",
        "solucion = Jacobi(A,b,x0)\n",
        "print(solucion)\n"
      ]
    },
    {
      "cell_type": "markdown",
      "id": "B3jGZc8JHbkj",
      "metadata": {
        "id": "B3jGZc8JHbkj"
      },
      "source": [
        "d) Encuentre la resistencia total $R_{(N=6)} = \\alpha R$, para la red $N=6$, donde $\\alpha$ es una constante, imprima el valor de $\\alpha$."
      ]
    },
    {
      "cell_type": "code",
      "execution_count": 46,
      "id": "YBQxjpLU1mrU",
      "metadata": {
        "colab": {
          "base_uri": "https://localhost:8080/"
        },
        "id": "YBQxjpLU1mrU",
        "outputId": "19b3458c-de51-49e2-e96a-65ca80067775"
      },
      "outputs": [
        {
          "name": "stdout",
          "output_type": "stream",
          "text": [
            "1.7586206881996955\n"
          ]
        }
      ],
      "source": [
        "\n",
        "# Tu codigo aquí\n",
        "I = 0\n",
        "\n",
        "for i in range(0,2):\n",
        "    I += (5 - solucion[i])\n",
        "    \n",
        "alpha = 5 / I\n",
        "\n",
        "\n",
        "# Codigo para la verificacion (no modificar)\n",
        "print(alpha)"
      ]
    },
    {
      "attachments": {},
      "cell_type": "markdown",
      "id": "dgShAA91MxJs",
      "metadata": {
        "id": "dgShAA91MxJs"
      },
      "source": [
        "e) Explique qué haría usted para resolver la resistencia equivalente del circuito para un número infinito de nodos. \n",
        "\n",
        "**R/** Como la resistencia total es la suma ponderada de la corriente sobre el voltaje individual, se modificaría el código para que genere las matrices de voltajes infinitos y de ahí, se calcularía la resistencia total. Aunque para un R infinito el denominador de la ecuación de la resistencia se haría los suficientemente grande para que la resistencia total se haga cero."
      ]
    }
  ],
  "metadata": {
    "colab": {
      "provenance": []
    },
    "kernelspec": {
      "display_name": "base",
      "language": "python",
      "name": "python3"
    },
    "language_info": {
      "codemirror_mode": {
        "name": "ipython",
        "version": 3
      },
      "file_extension": ".py",
      "mimetype": "text/x-python",
      "name": "python",
      "nbconvert_exporter": "python",
      "pygments_lexer": "ipython3",
      "version": "3.9.7"
    },
    "vscode": {
      "interpreter": {
        "hash": "ad307bde91f31e4b718ec0c2fe9a8b9cebe22b2862231a694138fcba204f6685"
      }
    }
  },
  "nbformat": 4,
  "nbformat_minor": 5
}
