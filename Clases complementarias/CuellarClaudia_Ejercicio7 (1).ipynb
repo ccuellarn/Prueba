{
  "cells": [
    {
      "cell_type": "markdown",
      "id": "Ca47pvrzRXMy",
      "metadata": {
        "id": "Ca47pvrzRXMy"
      },
      "source": [
        "## Librerias"
      ]
    },
    {
      "cell_type": "code",
      "execution_count": 80,
      "id": "6f64d18c-e6fe-4328-a15d-9344842eabd1",
      "metadata": {
        "id": "6f64d18c-e6fe-4328-a15d-9344842eabd1"
      },
      "outputs": [],
      "source": [
        "import numpy as np\n",
        "import matplotlib.pyplot as plt"
      ]
    },
    {
      "cell_type": "markdown",
      "id": "-tn9unovTwJ4",
      "metadata": {
        "id": "-tn9unovTwJ4"
      },
      "source": [
        "## Problema\n",
        "\n",
        "A partir del método de Montecarlo, calcule el volumen de un cono cuya base tiene radio $1$, y cuya altura es $3$, con 100000 (cien mil puntos de Montecarlo). Guarde el volumen en la variable `volume_cone`, al final incluya el siguiente `print `para la evaluación de su ejercicio. \n",
        "\n",
        "\n",
        "\n",
        "```\n",
        "print(f\"Volume of a cone = {volume_cone}\")\n",
        "```\n",
        "\n",
        "Puede guiarse a partir del siguiente [notebook](https://github.com/diegour1/CompMetodosComputacionales/blob/main/Notebooks/04%20-%20Monte-Carlo-Method.ipynb)"
      ]
    },
    {
      "cell_type": "markdown",
      "id": "4vh-B44hYQZX",
      "metadata": {
        "id": "4vh-B44hYQZX"
      },
      "source": [
        "  a) Empiece creando 3 listas de 100000 numeros aleatorios con probabilidad uniforme $x$ , $y$ y $z$. ¿Cuales son los límites $x$, $y$ y $z$ del paralepipedo resultante?"
      ]
    },
    {
      "cell_type": "code",
      "execution_count": 81,
      "id": "AoJU2ACpX9Ds",
      "metadata": {
        "id": "AoJU2ACpX9Ds"
      },
      "outputs": [],
      "source": [
        "## su codigo aqui\n",
        "x = np.random.rand(100000)*2 - 1\n",
        "y = np.random.rand(100000)*2 - 1\n",
        "z = np.random.rand(100000)*3 \n",
        "N =100000"
      ]
    },
    {
      "attachments": {},
      "cell_type": "markdown",
      "id": "3ff42810",
      "metadata": {},
      "source": [
        "**R/** El límite en z será 3 y los límites en x,y serán -1,1."
      ]
    },
    {
      "cell_type": "markdown",
      "id": "V26zVI-YZA88",
      "metadata": {
        "id": "V26zVI-YZA88"
      },
      "source": [
        "b) Escriba la función f(x, y) que define el limite del cono, es decir los puntos que están debajo de esa función hacen parte del cono. "
      ]
    },
    {
      "cell_type": "code",
      "execution_count": 85,
      "id": "dgkKsu2YZBMN",
      "metadata": {
        "id": "dgkKsu2YZBMN"
      },
      "outputs": [],
      "source": [
        "def f(x, y):\n",
        "  variable_z = np.zeros_like(z)\n",
        "  contar = 0\n",
        "  lista = []\n",
        "  \n",
        "  for i in range(N):\n",
        "    z_point = 3*(np.sqrt(x[i]**2 + y[i]**2))\n",
        "    \n",
        "    if z_point <= 3:\n",
        "      variable_z[i] = z_point\n",
        "      contar += 1\n",
        "  \n",
        "  total_z = (sum(variable_z)) / contar\n",
        "  lista.append(total_z)\n",
        "  lista.append(contar)\n",
        "  ## su codigo aqui\n",
        "\n",
        "  return lista\n"
      ]
    },
    {
      "cell_type": "markdown",
      "id": "zWzE6ZguZ3z3",
      "metadata": {
        "id": "zWzE6ZguZ3z3"
      },
      "source": [
        "c) A partir del metodo de Monte Carlo, halle el volumen del cono."
      ]
    },
    {
      "cell_type": "code",
      "execution_count": 86,
      "id": "kTN_ZGDMZU_r",
      "metadata": {
        "id": "kTN_ZGDMZU_r"
      },
      "outputs": [
        {
          "name": "stdout",
          "output_type": "stream",
          "text": [
            "Volume of a cone = 4.93899520776088\n"
          ]
        }
      ],
      "source": [
        "volume_cone = 0\n",
        "lista_final = f(x,y)\n",
        "razon = (lista_final[1] / N)\n",
        "volume = razon*np.pi*(lista_final[0])\n",
        "volume_cone = volume\n",
        "\n",
        "print(f\"Volume of a cone = {volume_cone}\")"
      ]
    }
  ],
  "metadata": {
    "colab": {
      "provenance": []
    },
    "kernelspec": {
      "display_name": "Python 3 (ipykernel)",
      "language": "python",
      "name": "python3"
    },
    "language_info": {
      "codemirror_mode": {
        "name": "ipython",
        "version": 3
      },
      "file_extension": ".py",
      "mimetype": "text/x-python",
      "name": "python",
      "nbconvert_exporter": "python",
      "pygments_lexer": "ipython3",
      "version": "3.9.7"
    }
  },
  "nbformat": 4,
  "nbformat_minor": 5
}
