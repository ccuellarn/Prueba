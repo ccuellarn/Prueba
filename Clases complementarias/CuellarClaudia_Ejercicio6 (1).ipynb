{
  "cells": [
    {
      "cell_type": "markdown",
      "id": "Ca47pvrzRXMy",
      "metadata": {
        "id": "Ca47pvrzRXMy"
      },
      "source": [
        "## Librerias"
      ]
    },
    {
      "cell_type": "code",
      "execution_count": 2,
      "id": "6f64d18c-e6fe-4328-a15d-9344842eabd1",
      "metadata": {
        "id": "6f64d18c-e6fe-4328-a15d-9344842eabd1"
      },
      "outputs": [],
      "source": [
        "import numpy as np\n",
        "import sympy as sym\n",
        "from scipy import integrate\n",
        "import math"
      ]
    },
    {
      "cell_type": "markdown",
      "id": "hwM8VmxfF1w_",
      "metadata": {
        "id": "hwM8VmxfF1w_"
      },
      "source": [
        "## Problema 1\n",
        "\n",
        "Considere la integral, \n",
        "\n",
        "$$ I = \\int_0^1\\sin^2(\\sqrt{100x})\\,dx$$\n",
        "\n",
        "a) Cree la función `gauss_integrate(n)`, que reciba el grado `n` del polinomio de Gauss-Legendre y retorne la integral de la función pedida con el método de gauss-legendre. Puede usar la función `np.polynomial.legendre.leggauss` , para obtener los pesos y puntos de Legendre.\n",
        "\n",
        "Puede usar el siguiente cuaderno como guia, [link](https://github.com/diegour1/CompMetodosComputacionales/blob/main/Notebooks/03%20-%20integracion_numerica.ipynb)"
      ]
    },
    {
      "cell_type": "code",
      "execution_count": 3,
      "id": "Tx8fBk37gXrD",
      "metadata": {
        "id": "Tx8fBk37gXrD"
      },
      "outputs": [],
      "source": [
        "a = 0\n",
        "b = 1\n",
        "\n",
        "def F(x):\n",
        "  return (np.sin(10*(x**0.5)))**2\n",
        "\n",
        "def gauss_integrate(n):\n",
        "  ## tu codigo aqui\n",
        "  X, W = np.polynomial.legendre.leggauss(n)\n",
        "  c1 = 0.5*(b-a)\n",
        "  c2 = 0.5*(a+b)\n",
        "  gauss_int =  c1*np.sum(W*F(c1*X + c2))\n",
        "  return gauss_int\n"
      ]
    },
    {
      "cell_type": "code",
      "execution_count": 4,
      "id": "ni3JHLRDoqBv",
      "metadata": {
        "id": "ni3JHLRDoqBv"
      },
      "outputs": [
        {
          "name": "stdout",
          "output_type": "stream",
          "text": [
            "0.5024843310662972\n",
            "0.6273262731105195\n",
            "0.23603692720508807\n",
            "0.42670930479562436\n",
            "0.4558325323090848\n",
            "0.4558325323090864\n"
          ]
        }
      ],
      "source": [
        "# Codigo para evaluar su resultado, no modificar\n",
        "print(gauss_integrate(1))\n",
        "print(gauss_integrate(2))\n",
        "print(gauss_integrate(3))\n",
        "print(gauss_integrate(4))\n",
        "print(gauss_integrate(20))\n",
        "print(gauss_integrate(100))"
      ]
    },
    {
      "cell_type": "markdown",
      "id": "7vK6RFJ1W_p2",
      "metadata": {
        "id": "7vK6RFJ1W_p2"
      },
      "source": [
        "b) Verifique sus resultados obtenidos usando la función `scipy.integrate.fixed_quad`. Imprima los resultados obtenidos con la libreria.\n"
      ]
    },
    {
      "cell_type": "code",
      "execution_count": 5,
      "id": "sQJZ_280pLqK",
      "metadata": {
        "id": "sQJZ_280pLqK"
      },
      "outputs": [
        {
          "name": "stdout",
          "output_type": "stream",
          "text": [
            "(0.5024843310662972, None)\n",
            "(0.6273262731105195, None)\n",
            "(0.23603692720508793, None)\n",
            "(0.4267093047956244, None)\n",
            "(0.4558325323090853, None)\n",
            "(0.4558325323090844, None)\n"
          ]
        }
      ],
      "source": [
        "## tu codigo aqui\n",
        "\n",
        "print(integrate.fixed_quad(F,n=1,a=0,b=1))\n",
        "print(integrate.fixed_quad(F,n=2,a=0,b=1))\n",
        "print(integrate.fixed_quad(F,n=3,a=0,b=1))\n",
        "print(integrate.fixed_quad(F,n=4,a=0,b=1))\n",
        "print(integrate.fixed_quad(F,n=20,a=0,b=1))\n",
        "print(integrate.fixed_quad(F,n=100,a=0,b=1))"
      ]
    },
    {
      "cell_type": "markdown",
      "id": "7Gv1no-mRcMn",
      "metadata": {
        "id": "7Gv1no-mRcMn"
      },
      "source": [
        "## Problema 2\n",
        "\n",
        "En este problema vamos a reproducir los cálculos realizados en el siguiente [pdf](https://github.com/diegour1/CompMetodosComputacionales/blob/main/Lectures/01%20-%20Gauss%20Legendre%202.pdf) para dar una interpretación del método de Gauss Legendre para el caso $n = 4$. \n",
        "\n",
        "\n",
        "\n"
      ]
    },
    {
      "cell_type": "markdown",
      "id": "KEQ3AC30RKaw",
      "metadata": {
        "id": "KEQ3AC30RKaw"
      },
      "source": [
        "a) Con la libreria `sympy` cree la aproximación de taylor de grado 6 del polinomio $h(x)$, es decir cree la siguiente función e imprimala en la celda.\n",
        "\n",
        "\n",
        "$$\n",
        "h(x) = a + bx + c\\frac{x^2}{2!} + d\\frac{x^3}{3!} + e\\frac{x^4}{4!} + f\\frac{x^5}{5!} + g\\frac{x^6}{6!}\n",
        "$$\n",
        "\n",
        "\n",
        "Pista: Use lo siguiente [link](https://stackoverflow.com/questions/37100053/how-to-define-a-mathematical-function-in-sympy\n",
        ")\n"
      ]
    },
    {
      "cell_type": "code",
      "execution_count": 6,
      "id": "wt_bl_CYiRIt",
      "metadata": {
        "id": "wt_bl_CYiRIt"
      },
      "outputs": [
        {
          "data": {
            "text/latex": [
              "$\\displaystyle a + b x + \\frac{c x^{2}}{2} + \\frac{d x^{3}}{6} + \\frac{e x^{4}}{24} + \\frac{f x^{5}}{120} + \\frac{g x^{6}}{720}$"
            ],
            "text/plain": [
              "a + b*x + c*x**2/2 + d*x**3/6 + e*x**4/24 + f*x**5/120 + g*x**6/720"
            ]
          },
          "execution_count": 6,
          "metadata": {},
          "output_type": "execute_result"
        }
      ],
      "source": [
        "## tu codigo aqui\n",
        "x = sym.Symbol('x',real=True)\n",
        "a = sym.Symbol('a',real=True)\n",
        "b = sym.Symbol('b',real=True)\n",
        "c = sym.Symbol('c',real=True)\n",
        "d = sym.Symbol('d',real=True)\n",
        "e = sym.Symbol('e',real=True)\n",
        "f = sym.Symbol('f',real=True)\n",
        "g = sym.Symbol('g',real=True)\n",
        "\n",
        "def h(x):\n",
        "    return (a + b*x + c*(x**2/math.factorial(2)) + d*(x**3/math.factorial(3)) + e*(x**4/math.factorial(4)) + f*(x**5/math.factorial(5)) + g*(x**6/math.factorial(6)))\n",
        "\n",
        "h(x)"
      ]
    },
    {
      "cell_type": "markdown",
      "id": "hreZn9jYSmJq",
      "metadata": {
        "id": "hreZn9jYSmJq"
      },
      "source": [
        "b) Usando `sympy` cálcule, \n",
        "\n",
        "$$\n",
        "\\int_{-1}^1h(x)\n",
        "$$\n",
        "\n",
        "imprima el resultado de la integral.\n",
        "\n",
        "Pista: debe resultar una función de $x$ con coeficientes, $a$, $c$, $e$, $g$."
      ]
    },
    {
      "cell_type": "code",
      "execution_count": 21,
      "id": "rZ3dV6B5Sjdd",
      "metadata": {
        "id": "rZ3dV6B5Sjdd"
      },
      "outputs": [
        {
          "data": {
            "text/latex": [
              "$\\displaystyle 2 a + \\frac{c}{3} + \\frac{e}{60} + \\frac{g}{2520}$"
            ],
            "text/plain": [
              "2*a + c/3 + e/60 + g/2520"
            ]
          },
          "execution_count": 21,
          "metadata": {},
          "output_type": "execute_result"
        }
      ],
      "source": [
        "# tu codigo aqui\n",
        "integral_h = sym.integrate(h(x), (x,-1,1))\n",
        "integral_h\n"
      ]
    },
    {
      "cell_type": "markdown",
      "id": "bMuT_RnVTlWB",
      "metadata": {
        "id": "bMuT_RnVTlWB"
      },
      "source": [
        "c) Encuentre los puntos en $x$ y los pesos $w$ de la cuadratura de Gauss de grado 4. Imprima los puntos y los pesos. "
      ]
    },
    {
      "cell_type": "code",
      "execution_count": 20,
      "id": "3kst1ovLjn-x",
      "metadata": {
        "id": "3kst1ovLjn-x"
      },
      "outputs": [
        {
          "name": "stdout",
          "output_type": "stream",
          "text": [
            "Los pesos de la cuadratura son: (array([-0.86113631, -0.33998104,  0.33998104,  0.86113631]), array([0.34785485, 0.65214515, 0.65214515, 0.34785485]))\n",
            "Los puntos en x son: (2.0, 0.0)\n"
          ]
        }
      ],
      "source": [
        "## find the Cuadrature weights\n",
        "# tu codigo aqui\n",
        "n=4\n",
        "W = np.polynomial.legendre.leggauss(n)\n",
        "puntos = integrate.quadrature(lambda x: 1, -1, 1)\n",
        "\n",
        "print(\"Los pesos de la cuadratura son:\",W)\n",
        "print(\"Los puntos en x son:\",puntos)\n"
      ]
    },
    {
      "cell_type": "markdown",
      "id": "8WxyRaSZUPIy",
      "metadata": {
        "id": "8WxyRaSZUPIy"
      },
      "source": [
        "d) Usando la función $h(x)$ del punto a), evalúe el resultado de la cuadratura de Gauss de grado 4, es decir cálcule,\n",
        "\n",
        "$$\n",
        "\\sum_{i=1}^4w_ih(x_i)\n",
        "$$\n",
        "\n",
        "Imprima el resultado de la integral."
      ]
    },
    {
      "cell_type": "code",
      "execution_count": 25,
      "id": "DGRnXIc_o3Hs",
      "metadata": {
        "id": "DGRnXIc_o3Hs"
      },
      "outputs": [
        {
          "name": "stdout",
          "output_type": "stream",
          "text": [
            "2.0*a - 2.22044604925031e-16*b - 2.22044604925031e-16*c - 2.77555756156289e-17*f\n"
          ]
        }
      ],
      "source": [
        "# tu codigo aqui\n",
        "suma = 0\n",
        "for i in range(len(puntos)):\n",
        "    suma += W[i] * h(puntos[i])\n",
        "\n",
        "suma = sym.simplify(suma)\n",
        "sumatotal=0\n",
        "\n",
        "for i in suma:\n",
        "    sumatotal += i\n",
        "\n",
        "print(sumatotal)"
      ]
    },
    {
      "attachments": {},
      "cell_type": "markdown",
      "id": "PPcbaNtzVAo0",
      "metadata": {
        "id": "PPcbaNtzVAo0"
      },
      "source": [
        "e) Cuadran las funciones resultantes del punto b) y d), si no porqué\n",
        "\n",
        "**R/** Si cuadran las funciones como se puede observar en los resultados del código, ya que el método de cuadratura de Gauss se puede interpretar o usar de la misma manera como la integral de un polinomio o función menor de grado 6. "
      ]
    },
    {
      "attachments": {},
      "cell_type": "markdown",
      "id": "Uc_peQopVaXy",
      "metadata": {
        "id": "Uc_peQopVaXy"
      },
      "source": [
        "f) Qué interpretación geometrica daría a la cuadratura de Gauss ?\n",
        "\n",
        "**R/** Se puede entender como la suma de las áreas generadas por los puntos que cortan la gráfica de tal manera que s elogre generar una recta debajo de la curva, y así aplicar la integral. Sin embargo, estos puntos se van alternando y por ende, hay que evaluar la función en cada uno de ellos. "
      ]
    },
    {
      "cell_type": "markdown",
      "id": "54CxOHrnV_g2",
      "metadata": {
        "id": "54CxOHrnV_g2"
      },
      "source": [
        "g) A partir de la integral de la función obtenida, cálcule, \n",
        "\n",
        "$$\n",
        "\\int_{-1}^1h(x)\n",
        "$$\n",
        "\n",
        "para la función \n",
        "\n",
        "$$\n",
        "h(x) = 0.70458458 + 0.23544087x + 0.58528482x^2 + 0.1669135x^3 + 0.20669362x^4 + 0.4717781x^5 + 0.48755507x^6\n",
        "$$"
      ]
    },
    {
      "cell_type": "code",
      "execution_count": 10,
      "id": "VG-TiLaHGP30",
      "metadata": {
        "id": "VG-TiLaHGP30"
      },
      "outputs": [
        {
          "data": {
            "text/latex": [
              "$\\displaystyle 2.02133793657143$"
            ],
            "text/plain": [
              "2.02133793657143"
            ]
          },
          "execution_count": 10,
          "metadata": {},
          "output_type": "execute_result"
        }
      ],
      "source": [
        "coeffs = np.array([0.70458458, 0.23544087, 0.58528482, 0.1669135 , 0.20669362, 0.4717781 , 0.48755507])    \n",
        "   \n",
        "def six_deg_function(x):\n",
        "  return 0.70458458 + 0.23544087*x + 0.58528482*x**2 + 0.1669135*x**3 + 0.20669362*x**4 + 0.4717781*x**5 + 0.48755507*x**6\n",
        "\n",
        "## tu codigo aqui\n",
        "integral_h = sym.integrate(six_deg_function(x), (x,-1,1))\n",
        "integral_h"
      ]
    },
    {
      "cell_type": "markdown",
      "id": "6b629sy2WvhD",
      "metadata": {
        "id": "6b629sy2WvhD"
      },
      "source": [
        "h) Evalúe la integral de $h(x)$ usando la función `integrate.fixed_quad`"
      ]
    },
    {
      "cell_type": "code",
      "execution_count": 11,
      "id": "jykGzgDrJctv",
      "metadata": {
        "id": "jykGzgDrJctv"
      },
      "outputs": [
        {
          "name": "stdout",
          "output_type": "stream",
          "text": [
            "(2.0213379365714275, None)\n"
          ]
        }
      ],
      "source": [
        "## tu codigo aqui\n",
        "print(integrate.fixed_quad(six_deg_function,n=100,a=-1,b=1))"
      ]
    },
    {
      "attachments": {},
      "cell_type": "markdown",
      "id": "ZkMLUm2mXEDv",
      "metadata": {
        "id": "ZkMLUm2mXEDv"
      },
      "source": [
        "i) Qué cambiaria en este método si se integrara un polinomio de grado mayor a 6 con el método expuesto? \n",
        "\n",
        "**R/** Primero, evaluaría los pesos en el grado del polinomio correspondiente y por ende habría que hallar nuevos puntos para la función. Si no, el método arrojaría una aproximación muy poco precisa, colapsando el método."
      ]
    }
  ],
  "metadata": {
    "colab": {
      "provenance": []
    },
    "kernelspec": {
      "display_name": "Python 3 (ipykernel)",
      "language": "python",
      "name": "python3"
    },
    "language_info": {
      "codemirror_mode": {
        "name": "ipython",
        "version": 3
      },
      "file_extension": ".py",
      "mimetype": "text/x-python",
      "name": "python",
      "nbconvert_exporter": "python",
      "pygments_lexer": "ipython3",
      "version": "3.9.7"
    }
  },
  "nbformat": 4,
  "nbformat_minor": 5
}
