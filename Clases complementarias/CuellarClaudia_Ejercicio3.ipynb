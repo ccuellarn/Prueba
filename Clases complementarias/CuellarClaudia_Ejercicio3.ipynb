{
  "nbformat": 4,
  "nbformat_minor": 0,
  "metadata": {
    "colab": {
      "provenance": []
    },
    "kernelspec": {
      "name": "python3",
      "display_name": "Python 3"
    },
    "language_info": {
      "name": "python"
    }
  },
  "cells": [
    {
      "cell_type": "markdown",
      "source": [
        "## Librerias"
      ],
      "metadata": {
        "id": "ySCvWQe5vxeT"
      }
    },
    {
      "cell_type": "code",
      "source": [
        "import numpy as np\n",
        "import matplotlib.pyplot as plt"
      ],
      "metadata": {
        "id": "VBo2Hv2tv0UR"
      },
      "execution_count": 1,
      "outputs": []
    },
    {
      "cell_type": "markdown",
      "source": [
        "## Problema\n",
        "\n",
        "Considere la ecuación $x = 1 - e^{-cx}$, donde c es un parametro conocido y $x$ es la incógnita. Esta ecuación aparece en múltiples situaciones, incluidas la física de procesos de contacto, modelos epidemiológicos, y la teoría de grafos aleatorios. Puede usar el siguiente [notebook](https://github.com/diegour1/CompMetodosComputacionales/blob/main/Notebooks/02%20-%20BisectionNewtonRaphson.ipynb) como guía."
      ],
      "metadata": {
        "id": "dEcQng6BpVFN"
      }
    },
    {
      "cell_type": "markdown",
      "source": [
        "a) Use el método de Newton-Raphson para resolver esta ecuación para x para el caso $c=2$. Su solución debe tener una exactitud de $10^{-6}$. Use la variable float `solution_a` para guardar el resultado."
      ],
      "metadata": {
        "id": "qiuAJUh5aXn6"
      }
    },
    {
      "cell_type": "code",
      "source": [
        "solution_a = 0\n",
        "h = 10**-6\n",
        "c = 2\n",
        "x = np.linspace(-1,1,1000)\n",
        "\n",
        "def Function(x):\n",
        "    return 1 - x - np.e**(-c*x)\n",
        "\n",
        "def Derivate(f,x,h=1e-4):\n",
        "    return (f(x+h)-f(x-h))/(2*h)\n",
        "\n",
        "def NewtonRaphson(f,df,xn,itmax = 100, precision=1e-5):\n",
        "    error = 1\n",
        "    it = 0\n",
        "\n",
        "    while error > precision and it <= itmax:\n",
        "        try:\n",
        "            xn1 = xn - f(xn)/df(f,xn)\n",
        "            error = np.abs(f(xn)/df(f,xn))\n",
        "           \n",
        "        except ZeroDivisionError:\n",
        "            print('Division por cero')\n",
        "        it += 1\n",
        "        xn = xn1\n",
        "    \n",
        "    if it == itmax:\n",
        "        False\n",
        "    else:\n",
        "        return xn\n",
        "\n",
        "solution_a = NewtonRaphson(Function,Derivate,1)\n",
        "\n",
        "## su codigo aqui\n",
        "\n",
        "## codigo para verificar su resultado (no modificar)\n",
        "print(solution_a)"
      ],
      "metadata": {
        "id": "K1Vta4cjaSNZ",
        "colab": {
          "base_uri": "https://localhost:8080/"
        },
        "outputId": "7abf95a3-acb9-426d-c24b-9bbec3255662"
      },
      "execution_count": 2,
      "outputs": [
        {
          "output_type": "stream",
          "name": "stdout",
          "text": [
            "0.7968121300200205\n"
          ]
        }
      ]
    },
    {
      "cell_type": "markdown",
      "source": [
        "b) Modifique su programa para calcular la solución para valores de $c$ entre 0 y 3 en pasos de 0.01 y grafique $x$ en función de $c$ ( Realizar la gráfica $x(c)$ ). Usted debería ver una transición en la cual $x=0$ y luego pasa a ser diferente de cero. Este es un ejemplo de una transición de fase en física conocida como transición de percolación, y en epidemiología es el umbral epidemiológico. Nota no relacionada: Puede ver un problema computacional muy interesante del problema de la percolación en física en la siguiente [página](https://coursera.cs.princeton.edu/algs4/assignments/percolation/specification.php)."
      ],
      "metadata": {
        "id": "I5GGdbkaavuC"
      }
    },
    {
      "cell_type": "code",
      "source": [
        "## su codigo aqui\n",
        "\n",
        "values = np.linspace(0,3,100)\n",
        "x_values = []\n",
        "c_values = []\n",
        "\n",
        "for i in values:\n",
        "  def Function(x):\n",
        "    return 1 - x - np.e**(-i*x)\n",
        "  \n",
        "  x_values.append(NewtonRaphson(Function,Derivate,1))\n",
        "  c_values.append(i)\n",
        "\n",
        "#gráfica\n",
        "plt.plot(c_values,x_values)\n",
        "plt.xlabel('c')\n",
        "plt.ylabel('x')"
      ],
      "metadata": {
        "id": "6h3nKQega2Q0",
        "colab": {
          "base_uri": "https://localhost:8080/",
          "height": 297
        },
        "outputId": "091fad29-fddd-4527-fd33-0840b1640d27"
      },
      "execution_count": 5,
      "outputs": [
        {
          "output_type": "execute_result",
          "data": {
            "text/plain": [
              "Text(0, 0.5, 'x')"
            ]
          },
          "metadata": {},
          "execution_count": 5
        },
        {
          "output_type": "display_data",
          "data": {
            "text/plain": [
              "<Figure size 432x288 with 1 Axes>"
            ],
            "image/png": "[encoded data removed]"
          },
          "metadata": {
            "needs_background": "light"
          }
        }
      ]
    },
    {
      "cell_type": "markdown",
      "source": [
        "c) Explique por qué lo que usted acaba de hacer es una gráfica de una función implícita. ( El término implícito aparece de forma más familiar en la derivada implícita )\n",
        "\n",
        "**Respuesta:** Es una gráfica de una función implícita ya que la variable dependiente de la función se encuentra dentro de la misma, es decir que no está explícitamente. Por ende, al realizar su derivada con el método de Newton Rhapson, estámos \"fijando\" una de las variables con su derivada. Y así, iteramos sobre la otra variable para graficar.\n"
      ],
      "metadata": {
        "id": "52Wr0FZbcYb5"
      }
    }
  ]
}