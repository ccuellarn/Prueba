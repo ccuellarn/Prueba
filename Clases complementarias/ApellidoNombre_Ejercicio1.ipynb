{
  "nbformat": 4,
  "nbformat_minor": 0,
  "metadata": {
    "colab": {
      "provenance": []
    },
    "kernelspec": {
      "name": "python3",
      "display_name": "Python 3"
    },
    "language_info": {
      "name": "python"
    }
  },
  "cells": [
    {
      "cell_type": "markdown",
      "source": [
        "## Librerias"
      ],
      "metadata": {
        "id": "ySCvWQe5vxeT"
      }
    },
    {
      "cell_type": "code",
      "source": [
        "import numpy as np\n",
        "import matplotlib.pyplot as plt"
      ],
      "metadata": {
        "id": "VBo2Hv2tv0UR"
      },
      "execution_count": null,
      "outputs": []
    },
    {
      "cell_type": "markdown",
      "source": [
        "## Problema 1"
      ],
      "metadata": {
        "id": "dEcQng6BpVFN"
      }
    },
    {
      "cell_type": "markdown",
      "source": [
        "Considere un lanzamiento de tiro parabolico, cuya ecuación de trayectoria esta dada por:\n",
        "\n",
        "$$\n",
        "  y(x) = y_0 + (x-x_0) \\tan{\\theta} - \\frac{1}{2}g(\\frac{x-x_0}{v_0\\cos{\\theta}})^2\n",
        "$$\n",
        "\n",
        "Usando $x_0 = 0$, $v_0 = 14 \\text{ m/s}$, $\\theta = \\pi / 4$, $y_0 = 2 \\text{ m}$, $g = 9.8 \\text{m/s}$\n",
        "\n",
        "La idea es gráficar la trayectoria hasta $x= 30 \\text{ m}$. Para ello siga los siguientes pasos."
      ],
      "metadata": {
        "id": "XuwEcc_9pmWP"
      }
    },
    {
      "cell_type": "markdown",
      "source": [
        "a) Cree una variable del tipo numpy array `x`, que corresponde a 100 puntos entre (0, **30**), use el siguiente [notebook](https://github.com/diegour1/CompMetodosComputacionales/blob/main/Notebooks/01%20-%20numpy.ipynb) como guia. \n",
        "\n"
      ],
      "metadata": {
        "id": "dLd7MV_4sZKj"
      }
    },
    {
      "cell_type": "code",
      "source": [
        "## tu codigo aqui\n"
      ],
      "metadata": {
        "id": "6nviPNHUsVDI"
      },
      "execution_count": null,
      "outputs": []
    },
    {
      "cell_type": "markdown",
      "source": [
        "b) Calcule $y(x)$ que corresponde a $y$ para los 100 puntos anteriores. Guarde el valor en la variable del tipo numpy array `y`. No es posible usar ciclos como while o for, use las funciones de numpy como `np.tan`"
      ],
      "metadata": {
        "id": "GaSi1d1htKV6"
      }
    },
    {
      "cell_type": "code",
      "source": [
        "## tu codigo aqui\n"
      ],
      "metadata": {
        "id": "savF-u4tuLth"
      },
      "execution_count": null,
      "outputs": []
    },
    {
      "cell_type": "markdown",
      "source": [
        "c) Use `matplotlib`, para gráficar $y(x)$. Ponerle etiquetas a los ejes con unidades."
      ],
      "metadata": {
        "id": "svKxv5efuLL3"
      }
    },
    {
      "cell_type": "code",
      "source": [
        "## tu codigo aqui\n"
      ],
      "metadata": {
        "id": "nHzCn9TSueeT"
      },
      "execution_count": null,
      "outputs": []
    },
    {
      "cell_type": "markdown",
      "metadata": {
        "id": "ZsOww6v6DmA1"
      },
      "source": [
        "## Problema 2\n",
        "\n",
        "A partir del conjunto de entrenamiento de los datos MNIST (imágenes de números escritos a mano) en este problema vamos a operar imagenes de pixeles. Use este [notebook](https://github.com/diegour1/CompMetodosComputacionales/blob/main/Notebooks/01%20-%20numpy.ipynb) como referencia.\n",
        "\n",
        " \n"
      ]
    },
    {
      "cell_type": "code",
      "source": [
        "# Download the dataset\n",
        "# no modificar este codigo\n",
        "from keras.datasets import mnist\n",
        "\n",
        "(X_train, y_train), (X_test, y_test) = mnist.load_data()\n",
        "\n",
        "X_train.shape, X_test.shape, y_train.shape, y_test.shape"
      ],
      "metadata": {
        "colab": {
          "base_uri": "https://localhost:8080/"
        },
        "id": "ZZe8o13_xTwc",
        "outputId": "424e004b-da4b-4fc8-ece7-dd1028350402"
      },
      "execution_count": null,
      "outputs": [
        {
          "output_type": "stream",
          "name": "stdout",
          "text": [
            "Downloading data from https://storage.googleapis.com/tensorflow/tf-keras-datasets/mnist.npz\n",
            "11490434/11490434 [==============================] - 1s 0us/step\n"
          ]
        },
        {
          "output_type": "execute_result",
          "data": {
            "text/plain": [
              "((60000, 28, 28), (10000, 28, 28), (60000,), (10000,))"
            ]
          },
          "metadata": {},
          "execution_count": 11
        }
      ]
    },
    {
      "cell_type": "markdown",
      "source": [
        "Primero mostramos dos ejemplos de las imagenes con indices 17 y 9"
      ],
      "metadata": {
        "id": "204qIaFe8p4I"
      }
    },
    {
      "cell_type": "code",
      "source": [
        "# no modificar este codigo \n",
        "\n",
        "eight_image = X_train[17]\n",
        "\n",
        "plt.imshow(eight_image)"
      ],
      "metadata": {
        "id": "r3HsvSBSyLGs"
      },
      "execution_count": null,
      "outputs": []
    },
    {
      "cell_type": "code",
      "source": [
        "# no modificar este codigo \n",
        "\n",
        "nine_image =  X_train[4]\n",
        "plt.imshow(nine_image)"
      ],
      "metadata": {
        "id": "C2nfYTnS8i_D"
      },
      "execution_count": null,
      "outputs": []
    },
    {
      "cell_type": "markdown",
      "source": [
        "z) Imprima la forma de las matrices que corresponden a las dos imagenes, use el atributo shape."
      ],
      "metadata": {
        "id": "6fCKAQ1eBxvd"
      }
    },
    {
      "cell_type": "code",
      "source": [
        "## tu codigo aqui\n"
      ],
      "metadata": {
        "id": "9c4Lm4i6B-TX"
      },
      "execution_count": null,
      "outputs": []
    },
    {
      "cell_type": "markdown",
      "source": [
        "a) Grafique la imagen que resulta de sumar las dos imagenes"
      ],
      "metadata": {
        "id": "wjkYHEba9FvF"
      }
    },
    {
      "cell_type": "code",
      "source": [
        "# tu codigo aqui\n"
      ],
      "metadata": {
        "id": "hqeHZJQlyjD0"
      },
      "execution_count": null,
      "outputs": []
    },
    {
      "cell_type": "markdown",
      "source": [
        "b) Grafique la imagen que resulta de restar la imagen del ocho con la imagen del nueve."
      ],
      "metadata": {
        "id": "bj7g6tBg9iZo"
      }
    },
    {
      "cell_type": "code",
      "source": [
        "# tu codigo aqui\n"
      ],
      "metadata": {
        "id": "KBBLih2g9UCL"
      },
      "execution_count": null,
      "outputs": []
    },
    {
      "cell_type": "markdown",
      "source": [
        "c) Grafique la imagen que resulta de multiplicar pixel por pixel las dos imagenes."
      ],
      "metadata": {
        "id": "t5bFJGc99tkL"
      }
    },
    {
      "cell_type": "code",
      "source": [
        "# tu codigo aqui\n"
      ],
      "metadata": {
        "id": "Lv9v1wnT9dFi"
      },
      "execution_count": null,
      "outputs": []
    },
    {
      "cell_type": "markdown",
      "source": [
        "d) Grafique la imagen que resulta de hacer un producto matricial entre la imagen del 8 a la izquierda y la imagen del 9 a la derecha."
      ],
      "metadata": {
        "id": "DD3lvP54-Kgu"
      }
    },
    {
      "cell_type": "code",
      "source": [
        "# tu codigo aqui\n"
      ],
      "metadata": {
        "id": "RHPzkZI8-B_L"
      },
      "execution_count": null,
      "outputs": []
    },
    {
      "cell_type": "markdown",
      "source": [
        "e) Cómo interpreta las imagenes de producto elemento por elemento y producto matricial ?\n",
        "\n",
        "Tu texto aqui\n",
        "\n",
        ".\n",
        "\n",
        ".\n",
        "\n",
        ".\n",
        "\n",
        ".\n",
        "\n",
        ".\n",
        "\n",
        ".\n"
      ],
      "metadata": {
        "id": "6IEcWDxK-jXw"
      }
    },
    {
      "cell_type": "markdown",
      "source": [
        "f) Para la imagen del ocho, I) calcule con una función de numpy, el entero que corresponde a la suma total de pixeles. II) un array de 28 componentes que corresponde a la suma de pixeles de cada fila. III) Un array de 28 componentes que corresponde a la columnna 17 del numero 8."
      ],
      "metadata": {
        "id": "OiumcaaC-z1j"
      }
    },
    {
      "cell_type": "code",
      "source": [
        "## parte I codigo aqui\n",
        "\n",
        "suma_total = 0\n",
        "\n",
        "## parte II codigo aqui\n",
        "\n",
        "suma_pixeles_filas = np.zeros(28)\n",
        "\n",
        "## parte III codigo aqui\n",
        "\n",
        "select_col = np.zeros(28)\n",
        "\n",
        "print(suma_total, suma_pixeles_filas, select_col)"
      ],
      "metadata": {
        "id": "UHjpBvUO-dFn"
      },
      "execution_count": null,
      "outputs": []
    },
    {
      "cell_type": "markdown",
      "source": [
        "g) Seleccione del conjunto de datos `X_train`, todas las imagenes que corresponden a imagenes del numero 8. Imprima la forma de la matriz resultante (tensor) de todas las imagenes de 8."
      ],
      "metadata": {
        "id": "djmVq_DTBkVn"
      }
    },
    {
      "cell_type": "code",
      "source": [
        "## tu codigo aqui\n"
      ],
      "metadata": {
        "id": "9_UduV9vBW9J"
      },
      "execution_count": null,
      "outputs": []
    },
    {
      "cell_type": "markdown",
      "source": [
        "h) Grafique la imagen promedio de todos los ochos. Guarde la imagen en la variable `eight_prom`."
      ],
      "metadata": {
        "id": "tqMhYrVoEJa4"
      }
    },
    {
      "cell_type": "code",
      "source": [
        "## tu codigo aqui\n"
      ],
      "metadata": {
        "id": "xfcwJDGQEQ3s"
      },
      "execution_count": null,
      "outputs": []
    },
    {
      "cell_type": "markdown",
      "source": [
        "h) Grafique la imagen del peor ocho comparado con la imagen `eight_prom`, basados en la metrica, distancia euclidiana dada por, \n",
        "\n",
        "$$E_d(\\vec{p}, \\vec{q}) = \\sqrt{\\sum_{i=1}^n(q_i-p_i)^2}$$\n",
        "\n",
        "Donde $\\vec{p}$, $\\vec{q}$ son dos vectores que pertenecen a un espacio de $n$ dimensiones. En nuestro caso $n=784 = 28\\times28$.\n",
        "\n",
        "Es decir grafique la imagen del numero ocho que tiene la mayor distancia euclidiana comparado con el ocho promedio. \n"
      ],
      "metadata": {
        "id": "Z9XKzx9DDYtG"
      }
    },
    {
      "cell_type": "code",
      "source": [
        "## tu codigo aqui\n",
        "\n"
      ],
      "metadata": {
        "id": "k9Pte5wSDXLL"
      },
      "execution_count": null,
      "outputs": []
    }
  ]
}