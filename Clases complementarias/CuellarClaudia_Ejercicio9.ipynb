{
  "cells": [
    {
      "cell_type": "markdown",
      "id": "Ca47pvrzRXMy",
      "metadata": {
        "id": "Ca47pvrzRXMy"
      },
      "source": [
        "## Librerias"
      ]
    },
    {
      "cell_type": "code",
      "execution_count": 1,
      "id": "6f64d18c-e6fe-4328-a15d-9344842eabd1",
      "metadata": {
        "id": "6f64d18c-e6fe-4328-a15d-9344842eabd1"
      },
      "outputs": [],
      "source": [
        "import numpy as np\n",
        "import matplotlib.pyplot as plt"
      ]
    },
    {
      "cell_type": "markdown",
      "id": "XkEKN8o3Lu0o",
      "metadata": {
        "id": "XkEKN8o3Lu0o"
      },
      "source": [
        "## Problema\n",
        "\n",
        "Para el siguiente problema se puede guiar del siguiente notebook [gradiente descendiente](https://github.com/diegour1/CompMetodosComputacionales/blob/main/Notebooks/08%20-%20Gradient_Descent_Neural_Networks.ipynb)\n",
        "\n",
        "Considere el potencial electrico entre dos cargas de la misma magnitud pero de signo opuesto medido en la posición $\\vec{r}$ desde el centro de coordenadas dado por,\n",
        "\n",
        "$$ V(\\vec{r}) = \\frac{q}{4\\pi \\epsilon_0}\\Bigg[\\frac{1}{|\\vec{r}-\\vec{r_+}|}-\\frac{1}{|\\vec{r}-\\vec{r_-}|}\\Bigg], $$\n",
        "\n",
        "donde $\\vec{r_+}$, y $\\vec{r_-}$, son las posiciones de las cargas positivas y negativas respectivamente. En este ejercicio solamente nos vamos a enfocar en las dimensiones $x$ y $y$.\n",
        "\n",
        "Dados los siguientes parametros, \n",
        "\n",
        "$$\\vec{r_+} = (-0.25\\text{ m}, 0), \\quad \\vec{r_-} = (0.25\\text{ m}, 0), \\quad \\frac{q}{4\\pi \\epsilon_0} = 1, $$\n",
        "\n",
        "y que el campo electrico está dado por, \n",
        "\n",
        "$$\\vec{E}(\\vec{r}) = -\\vec{\\nabla} V(\\vec{r}),$$"
      ]
    },
    {
      "cell_type": "markdown",
      "id": "vi77WfbpMLnB",
      "metadata": {
        "id": "vi77WfbpMLnB"
      },
      "source": [
        "a) Escriba la función potencial en términos de $x$ y $y$ e imprima los valores del potencial en el punto $(x, y) = (0, 0)$ y $(x, y) = (0.1, 0)$, $(x, y) = (-0.15, 0.12)$."
      ]
    },
    {
      "cell_type": "code",
      "execution_count": 3,
      "id": "wNVvdgkBLwA5",
      "metadata": {
        "id": "wNVvdgkBLwA5"
      },
      "outputs": [
        {
          "data": {
            "text/plain": [
              "(0.0, -3.8095238095238098, 4.007278283591919)"
            ]
          },
          "execution_count": 3,
          "metadata": {},
          "output_type": "execute_result"
        }
      ],
      "source": [
        "r_mas = np.array([-0.25,0])\n",
        "r_men = np.array([0.25,0])\n",
        "\n",
        "def Potential(x, y):\n",
        "    r = np.array([x,y])\n",
        "    r_mas_f = np.linalg.norm(r-r_mas)\n",
        "    r_men_f = np.linalg.norm(r-r_men)\n",
        "    V = ( (1/r_mas_f) - (1/r_men_f) )\n",
        "    return V\n",
        "    \n",
        "# codigo para verificar su resultado no modificar\n",
        "Potential(0, 0), Potential(0.1, 0), Potential(-0.15, 0.12)"
      ]
    },
    {
      "cell_type": "markdown",
      "id": "Twn0pdu1N7kg",
      "metadata": {
        "id": "Twn0pdu1N7kg"
      },
      "source": [
        "b) Calcule la gradiente del potencial, con la formula de derivada central."
      ]
    },
    {
      "cell_type": "code",
      "execution_count": 23,
      "id": "dwchzjJ-M7JO",
      "metadata": {
        "id": "dwchzjJ-M7JO"
      },
      "outputs": [
        {
          "data": {
            "text/plain": [
              "(array([-32.00000512,   0.        ]),\n",
              " array([-45.86693986,  11.5177336 ]),\n",
              " array([-31.72918389, -29.83684152]))"
            ]
          },
          "execution_count": 23,
          "metadata": {},
          "output_type": "execute_result"
        }
      ],
      "source": [
        "\n",
        "def Gradient_xy(f, x, y, h):\n",
        "    dx = (f((x+h),y)-f((x-h),y))/(2*h)\n",
        "    dy = (f(x,(y+h))-f(x,(y-h)))/(2*h)\n",
        "    \n",
        "    grad = np.array([dx, dy])\n",
        "    return grad\n",
        "\n",
        "# codigo para verificar su resultado no modificar\n",
        "Gradient_xy(Potential, 0, 0, 0.0001), Gradient_xy(Potential, 0.1, 0.05, 0.0001), Gradient_xy(Potential, -0.15, 0.12, 0.0001)"
      ]
    },
    {
      "cell_type": "markdown",
      "id": "uKEKtSXYOzLN",
      "metadata": {
        "id": "uKEKtSXYOzLN"
      },
      "source": [
        "c) Empezando en el punto $(x, y) = (0, 0.15)$ implemente el algoritmo de gradiente descendiente. Con pasos 683 pasos de $e = 0.0001$ para el gradiente descendiente y $h = 0.0001$ para la derivada central. Guarde la trayectoria en la variable `trayectory`\n",
        "\n",
        "El algoritmo gradiente descendiente tiene la siguiente forma\n",
        "\n",
        "\n",
        "\n",
        "```\n",
        "loss_function := Potential function that you wish to minimize\n",
        "min_value := initial_value\n",
        "e := the step size of the gradient descent\n",
        "num_steps := num of times that the GD looks for the minima\n",
        "\n",
        "\n",
        "for i in range(num_steps)\n",
        "  min_value = min_value - e * grad_loss_function(min_value)\n",
        "```\n",
        "\n",
        "Puede seguir el siguiente [notebook](https://github.com/diegour1/CompMetodosComputacionales/blob/main/Notebooks/08%20-%20Gradient_Descent_Neural_Networks.ipynb)\n",
        "\n",
        "\n"
      ]
    },
    {
      "cell_type": "code",
      "execution_count": 30,
      "id": "24EohIcKOg6Z",
      "metadata": {
        "id": "24EohIcKOg6Z"
      },
      "outputs": [
        {
          "name": "stdout",
          "output_type": "stream",
          "text": [
            "[0.22671287 0.02278029]\n"
          ]
        }
      ],
      "source": [
        "trayectory = []\n",
        "min_value = np.array([0,0.15])\n",
        "e = 0.00001\n",
        "num_steps = 680\n",
        "\n",
        "for i in range(num_steps):\n",
        "  min_value = min_value - e * Gradient_xy(Potential,min_value[0],min_value[1],e)\n",
        "  trayectory.append(min_value)\n",
        "  \n",
        "# codigo para verificar su resultado no modificar\n",
        "print(trayectory[-1])"
      ]
    },
    {
      "cell_type": "markdown",
      "id": "mLfPrEKNUo9Q",
      "metadata": {
        "id": "mLfPrEKNUo9Q"
      },
      "source": [
        "d) Gráfique con la misma escala en x y y, las dos cargas y la trayectoria."
      ]
    },
    {
      "cell_type": "code",
      "execution_count": 33,
      "id": "IZUP7xcDQEZl",
      "metadata": {
        "id": "IZUP7xcDQEZl"
      },
      "outputs": [
        {
          "data": {
            "text/plain": [
              "<matplotlib.collections.PathCollection at 0x1c7df559c40>"
            ]
          },
          "execution_count": 33,
          "metadata": {},
          "output_type": "execute_result"
        },
        {
          "data": {
            "image/png": "[encoded data removed]",
            "text/plain": [
              "<Figure size 432x288 with 1 Axes>"
            ]
          },
          "metadata": {
            "needs_background": "light"
          },
          "output_type": "display_data"
        }
      ],
      "source": [
        "\n",
        "x=[]\n",
        "y=[]\n",
        "\n",
        "for i in trayectory:\n",
        "    x.append(i[0])\n",
        "    y.append(i[1])\n",
        "    \n",
        "plt.scatter(x,y,color='k')\n",
        "plt.scatter(r_mas[0],r_mas[1],color='b')\n",
        "plt.scatter(r_men[0],r_men[1],color='r')"
      ]
    },
    {
      "attachments": {},
      "cell_type": "markdown",
      "id": "1P6GEJVQV1Oc",
      "metadata": {
        "id": "1P6GEJVQV1Oc"
      },
      "source": [
        "e) ¿Qué significa físicamente la trayectoria?\n",
        "\n",
        "\n",
        "**Respuesta:** Como el gradiente indica la dirección del potencial se puede observar que en este caso la trayectoria se inclina hacia la partícula que influye de menor manera el potencial en nuestra partícula inicial. Como sabemos, el potencial disminuirá en la interacción entre dos partículas de la misma, de la misma manera en este caso por eso se observa dicha trayectoria hacia la partícula con misma carga. \n",
        "\n",
        "Además, la trayectoria muestra esta forma parabólica dado que no se tiene en cuenta ni la velocidad o la aceleración."
      ]
    }
  ],
  "metadata": {
    "colab": {
      "provenance": []
    },
    "kernelspec": {
      "display_name": "Python 3 (ipykernel)",
      "language": "python",
      "name": "python3"
    },
    "language_info": {
      "codemirror_mode": {
        "name": "ipython",
        "version": 3
      },
      "file_extension": ".py",
      "mimetype": "text/x-python",
      "name": "python",
      "nbconvert_exporter": "python",
      "pygments_lexer": "ipython3",
      "version": "3.9.7"
    }
  },
  "nbformat": 4,
  "nbformat_minor": 5
}
