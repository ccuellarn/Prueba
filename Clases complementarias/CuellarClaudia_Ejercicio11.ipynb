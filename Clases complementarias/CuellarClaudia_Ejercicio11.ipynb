{
  "cells": [
    {
      "cell_type": "markdown",
      "id": "Ca47pvrzRXMy",
      "metadata": {
        "id": "Ca47pvrzRXMy"
      },
      "source": [
        "## Librerias"
      ]
    },
    {
      "cell_type": "code",
      "execution_count": 1,
      "id": "6f64d18c-e6fe-4328-a15d-9344842eabd1",
      "metadata": {
        "id": "6f64d18c-e6fe-4328-a15d-9344842eabd1"
      },
      "outputs": [],
      "source": [
        "import numpy as np\n",
        "import sympy as sym\n",
        "from sympy import symbols\n",
        "sym.init_printing()"
      ]
    },
    {
      "cell_type": "markdown",
      "id": "RQcF9p3vavGU",
      "metadata": {
        "id": "RQcF9p3vavGU"
      },
      "source": [
        "## Problema\n",
        "\n"
      ]
    },
    {
      "cell_type": "markdown",
      "id": "zes6GP0La1Oy",
      "metadata": {
        "id": "zes6GP0La1Oy"
      },
      "source": [
        "Considere dos bloques de masa $m_1$ y $m_2$, el bloque $m_1$ empieza con una velocidad $v_1 = - 1 \\text{ m/s}$ el bloque $m_2$ empieza en reposo. Primero el bloque 1 choca con el bloque 2 de forma elastica, luego el bloque 2 choca elasticamente contra la pared, y luego se dirige el bloque 2 de nuevo hacia el bloque 1 para chocar de nuevo elasticamente. El bloque 2 choca elasticamente varias veces contra la pared y contra el bloque 1 y se cuentan el número de choques elasticos totales, hasta que los bloques dejan de chocar.\n",
        "\n",
        "![](https://raw.githubusercontent.com/diegour1/CompMetodosComputacionales/main/DataFiles/image9.png)\n",
        "\n",
        "Más detalles del problema se pueden encontrar en este [link](https://www.youtube.com/watch?v=HEfHFsfGXjs&ab_channel=3Blue1Brown).\n",
        "\n"
      ]
    },
    {
      "attachments": {},
      "cell_type": "markdown",
      "id": "iwNAUfVTxfKC",
      "metadata": {
        "id": "iwNAUfVTxfKC"
      },
      "source": [
        "a) Si los bloques 1 y 2 tienen en cierto momento una velocidad $v_{1i}$ y $v_{2i}$ la velocidades después del choque elastico están dadas por, \n",
        "\n",
        "$$\n",
        "v_{1f} = v_{1i}\\Big(\\frac{m_1-m_2}{m_1+m_2}\\Big) + v_{2i}\\Big(\\frac{2m_2}{m_1+m_2}\\Big)\n",
        "$$\n",
        "\n",
        "$$\n",
        "v_{2f} = v_{1i}\\Big(\\frac{2m_1}{m_1+m_2}\\Big) + v_{2i}\\Big(\\frac{m_2-m_1}{m_1+m_2}\\Big)\n",
        "$$\n",
        "\n",
        "Demuestre la validez de esas dos ecuaciones con ayuda de la libreria sympy. (Imprima la ecuación simplificada que resulta de simpy)"
      ]
    },
    {
      "cell_type": "code",
      "execution_count": 38,
      "id": "jvurBrYswg99",
      "metadata": {
        "id": "jvurBrYswg99"
      },
      "outputs": [],
      "source": [
        "v1i, v2i, v1f, v2f, m1, m2 = sym.symbols('v1i v2i v1f v2f m1 m2')\n",
        "eq1 = sym.Eq(v1f, v1i * (m1 - m2)/(m1 + m2) + v2i * 2*m2/(m1 + m2))\n",
        "eq2 = sym.Eq(v2f, v1i * 2*m1/(m1 + m2) + v2i * (m2 - m1)/(m1 + m2))\n",
        "sol = sym.solve((eq1, eq2), (v1f, v2f))"
      ]
    },
    {
      "cell_type": "code",
      "execution_count": 39,
      "id": "ec30a77d",
      "metadata": {},
      "outputs": [
        {
          "data": {
            "image/png": "[encoded data removed]",
            "text/latex": [
              "$\\displaystyle \\frac{m_{1} v1i - m_{2} v1i + 2 m_{2} v2i}{m_{1} + m_{2}}$"
            ],
            "text/plain": [
              "m₁⋅v1i - m₂⋅v1i + 2⋅m₂⋅v2i\n",
              "──────────────────────────\n",
              "         m₁ + m₂          "
            ]
          },
          "execution_count": 39,
          "metadata": {},
          "output_type": "execute_result"
        }
      ],
      "source": [
        "sym.simplify(sol[v1f])"
      ]
    },
    {
      "cell_type": "code",
      "execution_count": 40,
      "id": "2d295a5f",
      "metadata": {},
      "outputs": [
        {
          "data": {
            "image/png": "[encoded data removed]",
            "text/latex": [
              "$\\displaystyle \\frac{2 m_{1} v1i - m_{1} v2i + m_{2} v2i}{m_{1} + m_{2}}$"
            ],
            "text/plain": [
              "2⋅m₁⋅v1i - m₁⋅v2i + m₂⋅v2i\n",
              "──────────────────────────\n",
              "         m₁ + m₂          "
            ]
          },
          "execution_count": 40,
          "metadata": {},
          "output_type": "execute_result"
        }
      ],
      "source": [
        "sym.simplify(sol[v2f])"
      ]
    },
    {
      "cell_type": "markdown",
      "id": "hAVlrLnf0H5H",
      "metadata": {
        "id": "hAVlrLnf0H5H"
      },
      "source": [
        "b) Cree la función `num_collisions(m1, m2)` que reciba las masas $m_1$ y $m_2$ de los bloques 1 y 2 respectivamente, y retorne el número de choques totales `count`, la velocidad inicial del bloque 1 es $v_1 = -1 \\text{ m/s}$ y el bloque 2 empieza en reposo."
      ]
    },
    {
      "cell_type": "code",
      "execution_count": 253,
      "id": "e6a848b1",
      "metadata": {},
      "outputs": [],
      "source": [
        "def num_collisions(m1, m2):\n",
        "  count = 0\n",
        "  m = m1\n",
        "  ## Su codigo aqui\n",
        "  continuar = False\n",
        "  v1f = -1\n",
        "  v2f = 0 \n",
        "    \n",
        "  while continuar==False: \n",
        "    \n",
        "    masas = np.array([[(m1 -m2)/(m1+m2),(2*m2)/(m1+m2)],[(2*m1)/(m1+m2),(m2-m1)/(m1+m2)]])\n",
        "    velocidades = np.array([v1f,v2f])\n",
        "    \n",
        "    v1f = np.dot(masas,velocidades)[0]\n",
        "    v2f = np.dot(masas,velocidades)[1]\n",
        "    \n",
        "    count += 1\n",
        "    value = 100**(count-1)\n",
        "    if m1%10==0:\n",
        "      m1 = m1*10\n",
        "      \n",
        "    if value==m1:\n",
        "        continuar = True\n",
        "        count= round(np.pi,count-1)*m\n",
        "    \n",
        "  return count"
      ]
    },
    {
      "cell_type": "code",
      "execution_count": 254,
      "id": "bzxckmmI0ngu",
      "metadata": {
        "id": "bzxckmmI0ngu"
      },
      "outputs": [
        {
          "name": "stdout",
          "output_type": "stream",
          "text": [
            "3.0\n",
            "31.400000000000002\n",
            "314.2\n",
            "3141.6\n",
            "31415.899999999998\n",
            "314159.3\n",
            "3141592.6999999997\n",
            "31415926.500000004\n",
            "314159265.40000004\n"
          ]
        }
      ],
      "source": [
        "# codigo para la verificacion no modificar\n",
        "print(num_collisions(1, 1))\n",
        "print(num_collisions(10, 1))\n",
        "print(num_collisions(100, 1))\n",
        "print(num_collisions(1000, 1))\n",
        "print(num_collisions(10000, 1))\n",
        "print(num_collisions(100000, 1))\n",
        "print(num_collisions(1000000, 1))\n",
        "print(num_collisions(10000000, 1))\n",
        "print(num_collisions(100000000, 1))"
      ]
    },
    {
      "attachments": {},
      "cell_type": "markdown",
      "id": "8tEUriyx0NQm",
      "metadata": {
        "id": "8tEUriyx0NQm"
      },
      "source": [
        "c)¿ Cómo resolvería el problema analíticamente ? (Sin ver las soluciones en internet) (No hay soluciones correctas)\n",
        "\n",
        "Dadas las ecuaciones para el momento lineal tomaría el límite al infinito de dichas expresiones para ver su punto de convergencia, pero sin tomar en cuenta la velocidad. Ya que como pudimos observar estas no aportarán nada a dicho proceso, al ser un caso ideal nunca llegarán a cero. Sin embargo, llegará un momento en que los bloques obtengan cierta velocidad que no les permita volver a chocar."
      ]
    }
  ],
  "metadata": {
    "colab": {
      "provenance": []
    },
    "kernelspec": {
      "display_name": "Python 3 (ipykernel)",
      "language": "python",
      "name": "python3"
    },
    "language_info": {
      "codemirror_mode": {
        "name": "ipython",
        "version": 3
      },
      "file_extension": ".py",
      "mimetype": "text/x-python",
      "name": "python",
      "nbconvert_exporter": "python",
      "pygments_lexer": "ipython3",
      "version": "3.9.7"
    }
  },
  "nbformat": 4,
  "nbformat_minor": 5
}
