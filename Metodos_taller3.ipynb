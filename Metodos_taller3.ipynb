{
 "cells": [
  {
   "cell_type": "code",
   "execution_count": 4,
   "metadata": {},
   "outputs": [],
   "source": [
    "import numpy as np\n",
    "import sympy as sym"
   ]
  },
  {
   "cell_type": "code",
   "execution_count": 5,
   "metadata": {},
   "outputs": [
    {
     "data": {
      "text/plain": [
       "array([[ 4, -2,  1],\n",
       "       [20, -7, 12],\n",
       "       [-8, 13, 21]])"
      ]
     },
     "execution_count": 5,
     "metadata": {},
     "output_type": "execute_result"
    }
   ],
   "source": [
    "A = np.array([[1,0,0],[5,1,0],[-2,3,1]])\n",
    "B = np.array([[4,-2,1],[0,3,7],[0,0,2]])\n",
    "\n",
    "\n",
    "#3,4,7,9\n",
    "def GetMultiplication(A,B):\n",
    "    matrix_column = []\n",
    "    for i in range(len(B)):\n",
    "        column = []\n",
    "        for j in range(len(B)): \n",
    "            column.append(B[j][i])\n",
    "        matrix_column.append(column)\n",
    "    \n",
    "\n",
    "    multiplication_matrix =[]\n",
    "    for k in A:\n",
    "        new_matrix = []\n",
    "        for w in matrix_column:\n",
    "            new_matrix.append(np.dot(k,w))\n",
    "        multiplication_matrix.append(new_matrix)\n",
    "        \n",
    "    return np.array(multiplication_matrix)\n",
    "\n",
    "GetMultiplication(A,B)"
   ]
  },
  {
   "cell_type": "code",
   "execution_count": 9,
   "metadata": {},
   "outputs": [
    {
     "name": "stdout",
     "output_type": "stream",
     "text": [
      "[[ 1.  0.  0.]\n",
      " [ 5.  1.  0.]\n",
      " [-2.  3.  1.]]\n",
      "[[ 4. -2.  1.]\n",
      " [ 0.  3.  7.]\n",
      " [ 0.  0. -2.]]\n",
      "[[ 4. -2.  1.]\n",
      " [20. -7. 12.]\n",
      " [-8. 13. 17.]]\n"
     ]
    }
   ],
   "source": [
    "#7\n",
    "M = np.array([[4,-2,1],[20,-7,12],[-8,13,17]])\n",
    "\n",
    "def FactorizationLU(m):\n",
    "    A = np.array(m)\n",
    "    dim = A.shape\n",
    "    L = np.zeros(dim)\n",
    "    U = np.zeros(dim)\n",
    "    n = dim[0]\n",
    "    \n",
    "    for j in range(n):\n",
    "        L[j][j] = 1.0\n",
    "        \n",
    "        for i in range(j+1,n):\n",
    "            L[i][j] = A[i][j] / A[j][j]\n",
    "            \n",
    "            for k in range(j+1,n):\n",
    "                A[i][k] = A[i][k] - L[i][j]*A[j][k]\n",
    "                \n",
    "        for k in range(j,n):\n",
    "            U[j][k] = A[j][k]\n",
    "    \n",
    "    return L,U\n",
    "\n",
    "L,U = FactorizationLU(M)\n",
    "print(L)\n",
    "print(U)\n",
    "\n",
    "comprobacion = np.dot(L,U)\n",
    "print(comprobacion)"
   ]
  },
  {
   "cell_type": "code",
   "execution_count": 138,
   "metadata": {},
   "outputs": [
    {
     "data": {
      "text/plain": [
       "(array([6.89510652, 3.39729507, 1.70759841]),\n",
       " array([[ 0.43170413,  0.88573564,  0.17059871],\n",
       "        [ 0.49725362, -0.07589338, -0.86427949],\n",
       "        [ 0.75257583, -0.45794385,  0.47319874]]))"
      ]
     },
     "execution_count": 138,
     "metadata": {},
     "output_type": "execute_result"
    }
   ],
   "source": [
    "C = np.array([[4,1,1],[1,3,2],[1,2,5]])\n",
    "np.linalg.eig(C)"
   ]
  },
  {
   "cell_type": "code",
   "execution_count": 150,
   "metadata": {},
   "outputs": [
    {
     "data": {
      "text/plain": [
       "(array([6.89510652, 3.39729507, 1.70759841]),\n",
       " array([[ 0.43170413,  0.88573564,  0.17059871],\n",
       "        [ 0.49725362, -0.07589338, -0.86427949],\n",
       "        [ 0.75257583, -0.45794385,  0.47319874]]))"
      ]
     },
     "execution_count": 150,
     "metadata": {},
     "output_type": "execute_result"
    }
   ],
   "source": [
    "#9 usando funciones raras de numpy y arctan2\n",
    "\n",
    "def jacobi_eig(A, tol=1e-10, maxiter=1000):\n",
    "    n = A.shape[0]\n",
    "    D = A.copy()\n",
    "    Q = np.eye(n)\n",
    "\n",
    "    off_diag = np.abs(np.triu(D, 1)).max()\n",
    "    i = 0\n",
    "    while off_diag >= tol and i < maxiter:\n",
    "        # Encuentra los índices del elemento no diagonal máximo\n",
    "        idx_max = (0, 0)\n",
    "        max_val = -np.inf\n",
    "        for row in range(n):\n",
    "            for col in range(row+1, n):\n",
    "                if np.abs(D[row, col]) > max_val:\n",
    "                    max_val = np.abs(D[row, col])\n",
    "                    idx_max = (row, col)\n",
    "        row, col = idx_max\n",
    "\n",
    "        # Calcula la matriz de rotación\n",
    "        #arctan2ayuda al signo del cuadrante\n",
    "        theta = 0.5 * np.arctan2(2 * D[row, col], D[col, col] - D[row, row])\n",
    "        c = np.cos(theta)\n",
    "        s = np.sin(theta)\n",
    "        R = np.eye(n)\n",
    "        R[row, row] = c\n",
    "        R[col, col] = c\n",
    "        R[row, col] = s\n",
    "        R[col, row] = -s\n",
    "\n",
    "        # Actualiza las matrices Q y D\n",
    "        D = np.dot(R.T, np.dot(D, R))\n",
    "        Q = np.dot(Q, R)\n",
    "\n",
    "        off_diag = np.abs(np.triu(D, 1)).max()\n",
    "        i += 1\n",
    "\n",
    "    eigvals = np.flip(np.diag(D))\n",
    "    eigvecs = Q[:,::-1]\n",
    "\n",
    "    return eigvals, eigvecs\n",
    "\n",
    "jacobi_eig(C)"
   ]
  }
 ],
 "metadata": {
  "kernelspec": {
   "display_name": "base",
   "language": "python",
   "name": "python3"
  },
  "language_info": {
   "codemirror_mode": {
    "name": "ipython",
    "version": 3
   },
   "file_extension": ".py",
   "mimetype": "text/x-python",
   "name": "python",
   "nbconvert_exporter": "python",
   "pygments_lexer": "ipython3",
   "version": "3.9.7"
  },
  "orig_nbformat": 4,
  "vscode": {
   "interpreter": {
    "hash": "ad307bde91f31e4b718ec0c2fe9a8b9cebe22b2862231a694138fcba204f6685"
   }
  }
 },
 "nbformat": 4,
 "nbformat_minor": 2
}
