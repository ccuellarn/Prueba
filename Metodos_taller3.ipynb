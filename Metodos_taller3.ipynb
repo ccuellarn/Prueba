{
 "cells": [
  {
   "cell_type": "code",
   "execution_count": 550,
   "metadata": {},
   "outputs": [],
   "source": [
    "import numpy as np\n",
    "import sympy as sym\n",
    "import matplotlib.pyplot as plt\n",
    "from mpl_toolkits.mplot3d import Axes3D\n",
    "\n",
    "import os\n",
    "import os.path as path\n",
    "import wget"
   ]
  },
  {
   "cell_type": "code",
   "execution_count": 244,
   "metadata": {},
   "outputs": [
    {
     "name": "stdout",
     "output_type": "stream",
     "text": [
      "El resultado de la multiplicación entre las matrices dadas es:\n",
      " [[ 4 -2  1]\n",
      " [20 -7 12]\n",
      " [-8 13 21]]\n"
     ]
    }
   ],
   "source": [
    "A = np.array([[1,0,0],[5,1,0],[-2,3,1]])\n",
    "B = np.array([[4,-2,1],[0,3,7],[0,0,2]])\n",
    "\n",
    "\n",
    "#3,4,7,9\n",
    "\n",
    "#3\n",
    "def GetMultiplication(A,B):\n",
    "    matrix_column = []\n",
    "    for i in range(len(B)):\n",
    "        column = []\n",
    "        for j in range(len(B)): \n",
    "            column.append(B[j][i])\n",
    "        matrix_column.append(column)\n",
    "    \n",
    "\n",
    "    multiplication_matrix =[]\n",
    "    for k in A:\n",
    "        new_matrix = []\n",
    "        for w in matrix_column:\n",
    "            new_matrix.append(np.dot(k,w))\n",
    "        multiplication_matrix.append(new_matrix)\n",
    "        \n",
    "    return np.array(multiplication_matrix)\n",
    "\n",
    "print(\"El resultado de la multiplicación entre las matrices dadas es:\\n {}\".format(GetMultiplication(A,B)))"
   ]
  },
  {
   "attachments": {},
   "cell_type": "markdown",
   "metadata": {},
   "source": [
    "**4)Teorico**\n",
    "\n",
    "Este método de sustitución hacia delante se usa especialmente para solucionar sistemas de la forma $Lx = b$ donde es posible L es la matriz triangular inferior que sale al factorizar una matriz A. Así, sea el sistema de solución de matrices dado por,\n",
    "\n",
    "$$ \\begin{bmatrix}\n",
    "l_{11} & 0 & 0  \\\\\n",
    "l_{21} & l_{22} & 0  \\\\\n",
    "l_{31} & l_{32} & l_{33}  \\\\\n",
    "\n",
    "\\end{bmatrix} \n",
    "\\begin{bmatrix}\n",
    "x_1  \\\\\n",
    "x_2  \\\\\n",
    "x_3 \n",
    "\\end{bmatrix} \n",
    "= \n",
    "\\begin{bmatrix}\n",
    "b_1  \\\\\n",
    "b_2  \\\\\n",
    "b_3 \n",
    "\\end{bmatrix} \n",
    "$$\n",
    "\n",
    "La solución para la primera variable sería de la forma,\n",
    "\n",
    "$$ L_{11} x_1 = b_1 \\rightarrow x_1 = \\frac{b_1}{L_{11}} $$\n",
    "\n",
    "La solución para la segunda variable sería de la forma,\n",
    "\n",
    "$$ L_{21} x_1 + L_{22} x_2 = b_2 $$\n",
    "\n",
    "Sustituyendo $x_1$ y despejando la para $x_2$ obtenemos que,\n",
    "\n",
    "$$ x_2 = \\frac{b_2 - L_{21} (b_1/L_{11})}{L_{22}} $$\n",
    "\n",
    "Para la solución de la tercera variable obtenemos que,\n",
    "$$ L_{33}  x_3 + L_{31} x_1 + L_{32}  x_2 = b_3 $$\n",
    "\n",
    "Como podemos observar la i-ésima solución dependerá de las soluciones anteriores, por lo que la sumatoria se puede escribir de la forma, \n",
    "\n",
    "$$ b_i =  \\sum_{j=1}^{i} A_{ij}  x_j $$\n",
    "\n",
    "Sin embargo, si queremos despejar la variable i-ésima, debemos de cambiar los índices de la sumatoria y extraer el término de que deseamos,\n",
    "\n",
    "$$ b_i =  L_{ii} x_i + \\sum_{j=0}^{i-1} A_{ij}  x_j \\rightarrow L_{ii}x_i = b_i - \\sum_{j=0}^{i-1} A_{ij}  x_j$$\n",
    "\n",
    "En este caso, la matriz factorizada L tiene la particularidad que su diagonal está compuesta solo por números uno. Por lo que nuestra ecuacion queda reducida a,\n",
    "\n",
    "$$ x_i = b_i -  \\sum_{j=0}^{i-1} A_{ij}  x_j $$\n",
    "\n",
    "Y así queda mostrada la ecuación del enunciado para el método de sustitución hacia atrás."
   ]
  },
  {
   "cell_type": "code",
   "execution_count": 557,
   "metadata": {},
   "outputs": [
    {
     "name": "stdout",
     "output_type": "stream",
     "text": [
      "Dada la matriz  A su respectiva factorización es: \n",
      " L: \n",
      " [[ 1.  0.  0.]\n",
      " [ 5.  1.  0.]\n",
      " [-2.  3.  1.]] \n",
      " U: \n",
      " [[ 4. -2.  1.]\n",
      " [ 0.  3.  7.]\n",
      " [ 0.  0. -2.]]\n"
     ]
    }
   ],
   "source": [
    "#7\n",
    "def FactorizationLU(m):\n",
    "    A = np.array(m)\n",
    "    n = A.shape[0]\n",
    "    L = np.zeros((n,n))\n",
    "    U = np.zeros((n,n))\n",
    "    \n",
    "    for j in range(n):\n",
    "        L[j][j] = 1.0\n",
    "        \n",
    "        for i in range(j+1,n):\n",
    "            L[i][j] = A[i][j] / A[j][j]\n",
    "            \n",
    "            for k in range(j+1,n):\n",
    "                A[i][k] = A[i][k] - L[i][j]*A[j][k]\n",
    "                \n",
    "        for k in range(j,n):\n",
    "            U[j][k] = A[j][k]\n",
    "    \n",
    "    return L,U\n",
    "\n",
    "M = np.array([[4,-2,1],[20,-7,12],[-8,13,17]])\n",
    "L,U = FactorizationLU(M)\n",
    "\n",
    "print(\"Dada la matriz  A su respectiva factorización es: \\n L: \\n {} \\n U: \\n {}\".format(L,U))"
   ]
  },
  {
   "cell_type": "code",
   "execution_count": 558,
   "metadata": {},
   "outputs": [
    {
     "name": "stdout",
     "output_type": "stream",
     "text": [
      "Los valores propios de la matriz son [6.89510652 3.39729507 1.70759841] \n",
      " y sus repectivos vectores propios:\n",
      " [[ 0.43170413  0.88573564  0.17059871]\n",
      " [ 0.49725362 -0.07589338 -0.86427949]\n",
      " [ 0.75257583 -0.45794385  0.47319874]]\n"
     ]
    }
   ],
   "source": [
    "#9 usando funciones raras de numpy y arctan2\n",
    "\n",
    "def GetJacobiEig(A, it=1000):\n",
    "    #Definir dimension y matrices necesarias.\n",
    "    n = A.shape[0]\n",
    "    #Matriz para los valores propios.\n",
    "    D = A.copy()\n",
    "    #Matriz para los vectores propios.\n",
    "    B = -np.eye(n)\n",
    "     \n",
    "    #Encontrar los índices del máximo elemento no diagonal. \n",
    "    for k in range(it):\n",
    "        max_index = (0, 0)\n",
    "        max_value = 0\n",
    "        for i in range(n):\n",
    "            for j in range(i+1, n):\n",
    "                value = np.abs(D[i][j])\n",
    "                if value > max_value:\n",
    "                    max_value = value\n",
    "                    max_index = (i,j)\n",
    "        \n",
    "        #Indice de la fila.          \n",
    "        i = max_index[0]\n",
    "        #Indice de la columna.\n",
    "        j = max_index[1]\n",
    "\n",
    "        #Se calcula el ángulo de rotación teniendo en cuenta los signos del cuadrante.\n",
    "        if D[i][i] == D[j][j]:\n",
    "            theta = np.pi / 4\n",
    "        else:\n",
    "            t = (2 * D[i][j]) / (D[j][j] - D[i][i]) \n",
    "            if t >= 0:\n",
    "                theta = 0.5 * np.tan(t)\n",
    "            else:\n",
    "                theta = 0.5 * np.tan(t) + np.pi\n",
    "        \n",
    "        #Se asignan los valores para la matriz de rotación.\n",
    "        R = np.eye(n)\n",
    "        R[i][i] = np.cos(theta)\n",
    "        R[j][j] = np.cos(theta)\n",
    "        R[i][j] = np.sin(theta)\n",
    "        R[j][i] = -np.sin(theta)\n",
    "\n",
    "        #Se actualizan las matrices D y B\n",
    "        #Para los valores propios será el producto punto entre la transpuesta de R, y el producto punto de D y R.\n",
    "        D = np.dot(R.T, np.dot(D, R))\n",
    "        #Para los vectores propios será el producto punto de la matriz B existente y R.\n",
    "        B = np.dot(B, R)\n",
    "\n",
    "\n",
    "    #Los valores propios serán la diagonal de la matriz D.\n",
    "    eigen_values = np.diag(D)\n",
    "    #Los vectores propios serán la matriz B.\n",
    "    eigen_vectors = B\n",
    "\n",
    "    return eigen_values, eigen_vectors\n",
    "\n",
    "C = np.array([[4,1,1],[1,3,2],[1,2,5]])\n",
    "values,vectors = GetJacobiEig(C)\n",
    "print(\"Los valores propios de la matriz son {} \\n y sus repectivos vectores propios:\\n {}\".format(values,vectors))"
   ]
  },
  {
   "cell_type": "code",
   "execution_count": 559,
   "metadata": {},
   "outputs": [
    {
     "data": {
      "text/plain": [
       "(array([6.89510652, 3.39729507, 1.70759841]),\n",
       " array([[ 0.43170413,  0.88573564,  0.17059871],\n",
       "        [ 0.49725362, -0.07589338, -0.86427949],\n",
       "        [ 0.75257583, -0.45794385,  0.47319874]]))"
      ]
     },
     "execution_count": 559,
     "metadata": {},
     "output_type": "execute_result"
    }
   ],
   "source": [
    "\n",
    "np.linalg.eig(C)"
   ]
  },
  {
   "attachments": {},
   "cell_type": "markdown",
   "metadata": {},
   "source": [
    "**15** Dadas las matrices de Dirac se puede comprobar la propiedad anticonmutación, dicha propiedad asegura que se genere una representación matricial en el álgebra de Clifford dada por la siguiente relación:\n",
    "\n",
    "$$ \\gamma^u \\gamma^v + \\gamma^v \\gamma^u = 2\\mu^{uv} I_{4x4} \\rightarrow \\mu^{uv} = diag(1,-1,-1,-1)$$\n",
    "\n",
    "Para comprobar la anterior relación, tomaremos dos casos específicos, cuando $u\\neq v$ y $u=v$ . Para el primer caso, podemos observar que sin importar el orden de los índices, el resultado obtenido es la matriz cero."
   ]
  },
  {
   "cell_type": "code",
   "execution_count": 564,
   "metadata": {},
   "outputs": [],
   "source": [
    "i = sym.Symbol('i')\n",
    "gamma_zero = np.array([[1,0,0,0],[0,1,0,0],[0,0,-1,0],[0,0,0,-1]])\n",
    "gamma_one = np.array([[0,0,0,1],[0,0,1,0],[0,-1,0,0],[-1,0,0,0]])\n",
    "gamma_two = np.array([[0,0,0,-i],[0,0,i,0],[0,i,0,0],[-i,0,0,0]])\n",
    "gamma_three = np.array([[0,0,1,0],[0,0,0,-1],[-1,0,0,0],[0,1,0,0]])\n",
    "\n",
    "def GetRelation(a,b):\n",
    "    z = GetMultiplication(a,b) + GetMultiplication(b,a)\n",
    "    return sym.Matrix(z)"
   ]
  },
  {
   "cell_type": "code",
   "execution_count": 565,
   "metadata": {},
   "outputs": [
    {
     "name": "stdout",
     "output_type": "stream",
     "text": [
      "Para gamma^0 y gamma^1 obtenemos:\n"
     ]
    },
    {
     "data": {
      "text/latex": [
       "$\\displaystyle \\left[\\begin{matrix}0 & 0 & 0 & 0\\\\0 & 0 & 0 & 0\\\\0 & 0 & 0 & 0\\\\0 & 0 & 0 & 0\\end{matrix}\\right]$"
      ],
      "text/plain": [
       "Matrix([\n",
       "[0, 0, 0, 0],\n",
       "[0, 0, 0, 0],\n",
       "[0, 0, 0, 0],\n",
       "[0, 0, 0, 0]])"
      ]
     },
     "execution_count": 565,
     "metadata": {},
     "output_type": "execute_result"
    }
   ],
   "source": [
    "one = GetRelation(gamma_zero,gamma_one)\n",
    "print(\"Para gamma^0 y gamma^1 obtenemos:\")\n",
    "one"
   ]
  },
  {
   "cell_type": "code",
   "execution_count": 566,
   "metadata": {},
   "outputs": [
    {
     "name": "stdout",
     "output_type": "stream",
     "text": [
      "Para gamma^0 y gamma^2 obtenemos:\n"
     ]
    },
    {
     "data": {
      "text/latex": [
       "$\\displaystyle \\left[\\begin{matrix}0 & 0 & 0 & 0\\\\0 & 0 & 0 & 0\\\\0 & 0 & 0 & 0\\\\0 & 0 & 0 & 0\\end{matrix}\\right]$"
      ],
      "text/plain": [
       "Matrix([\n",
       "[0, 0, 0, 0],\n",
       "[0, 0, 0, 0],\n",
       "[0, 0, 0, 0],\n",
       "[0, 0, 0, 0]])"
      ]
     },
     "execution_count": 566,
     "metadata": {},
     "output_type": "execute_result"
    }
   ],
   "source": [
    "one = GetRelation(gamma_zero,gamma_two)\n",
    "print(\"Para gamma^0 y gamma^2 obtenemos:\")\n",
    "one"
   ]
  },
  {
   "cell_type": "code",
   "execution_count": 567,
   "metadata": {},
   "outputs": [
    {
     "name": "stdout",
     "output_type": "stream",
     "text": [
      "Para gamma^0 y gamma^3 obtenemos:\n"
     ]
    },
    {
     "data": {
      "text/latex": [
       "$\\displaystyle \\left[\\begin{matrix}0 & 0 & 0 & 0\\\\0 & 0 & 0 & 0\\\\0 & 0 & 0 & 0\\\\0 & 0 & 0 & 0\\end{matrix}\\right]$"
      ],
      "text/plain": [
       "Matrix([\n",
       "[0, 0, 0, 0],\n",
       "[0, 0, 0, 0],\n",
       "[0, 0, 0, 0],\n",
       "[0, 0, 0, 0]])"
      ]
     },
     "execution_count": 567,
     "metadata": {},
     "output_type": "execute_result"
    }
   ],
   "source": [
    "one = GetRelation(gamma_zero,gamma_three)\n",
    "print(\"Para gamma^0 y gamma^3 obtenemos:\")\n",
    "one"
   ]
  },
  {
   "cell_type": "code",
   "execution_count": 568,
   "metadata": {},
   "outputs": [
    {
     "name": "stdout",
     "output_type": "stream",
     "text": [
      "Para gamma^1 y gamma^2 obtenemos:\n"
     ]
    },
    {
     "data": {
      "text/latex": [
       "$\\displaystyle \\left[\\begin{matrix}0 & 0 & 0 & 0\\\\0 & 0 & 0 & 0\\\\0 & 0 & 0 & 0\\\\0 & 0 & 0 & 0\\end{matrix}\\right]$"
      ],
      "text/plain": [
       "Matrix([\n",
       "[0, 0, 0, 0],\n",
       "[0, 0, 0, 0],\n",
       "[0, 0, 0, 0],\n",
       "[0, 0, 0, 0]])"
      ]
     },
     "execution_count": 568,
     "metadata": {},
     "output_type": "execute_result"
    }
   ],
   "source": [
    "one = GetRelation(gamma_one,gamma_two)\n",
    "print(\"Para gamma^1 y gamma^2 obtenemos:\")\n",
    "one"
   ]
  },
  {
   "cell_type": "code",
   "execution_count": 569,
   "metadata": {},
   "outputs": [
    {
     "name": "stdout",
     "output_type": "stream",
     "text": [
      "Para gamma^1 y gamma^3 obtenemos:\n"
     ]
    },
    {
     "data": {
      "text/latex": [
       "$\\displaystyle \\left[\\begin{matrix}0 & 0 & 0 & 0\\\\0 & 0 & 0 & 0\\\\0 & 0 & 0 & 0\\\\0 & 0 & 0 & 0\\end{matrix}\\right]$"
      ],
      "text/plain": [
       "Matrix([\n",
       "[0, 0, 0, 0],\n",
       "[0, 0, 0, 0],\n",
       "[0, 0, 0, 0],\n",
       "[0, 0, 0, 0]])"
      ]
     },
     "execution_count": 569,
     "metadata": {},
     "output_type": "execute_result"
    }
   ],
   "source": [
    "one = GetRelation(gamma_one,gamma_three)\n",
    "print(\"Para gamma^1 y gamma^3 obtenemos:\")\n",
    "one"
   ]
  },
  {
   "cell_type": "code",
   "execution_count": 570,
   "metadata": {},
   "outputs": [
    {
     "name": "stdout",
     "output_type": "stream",
     "text": [
      "Para gamma^2 y gamma^3 obtenemos:\n"
     ]
    },
    {
     "data": {
      "text/latex": [
       "$\\displaystyle \\left[\\begin{matrix}0 & 0 & 0 & 0\\\\0 & 0 & 0 & 0\\\\0 & 0 & 0 & 0\\\\0 & 0 & 0 & 0\\end{matrix}\\right]$"
      ],
      "text/plain": [
       "Matrix([\n",
       "[0, 0, 0, 0],\n",
       "[0, 0, 0, 0],\n",
       "[0, 0, 0, 0],\n",
       "[0, 0, 0, 0]])"
      ]
     },
     "execution_count": 570,
     "metadata": {},
     "output_type": "execute_result"
    }
   ],
   "source": [
    "one = GetRelation(gamma_two,gamma_three)\n",
    "print(\"Para gamma^2 y gamma^3 obtenemos:\")\n",
    "one"
   ]
  },
  {
   "attachments": {},
   "cell_type": "markdown",
   "metadata": {},
   "source": [
    "Con respecto al segundo caso, se puede observar que para la matriz $\\gamma^0$ la relación da como resultado $2\\mathbb{I}_{4x4}$. En cambio, para el resto de índices el resultado es $-2\\mathbb{I}_{4x4}$ donde $\\mathbb{I}$ es la matriz identidad."
   ]
  },
  {
   "cell_type": "code",
   "execution_count": 571,
   "metadata": {},
   "outputs": [
    {
     "name": "stdout",
     "output_type": "stream",
     "text": [
      "Para gamma^0 obtenemos:\n"
     ]
    },
    {
     "data": {
      "text/latex": [
       "$\\displaystyle \\left[\\begin{matrix}2 & 0 & 0 & 0\\\\0 & 2 & 0 & 0\\\\0 & 0 & 2 & 0\\\\0 & 0 & 0 & 2\\end{matrix}\\right]$"
      ],
      "text/plain": [
       "Matrix([\n",
       "[2, 0, 0, 0],\n",
       "[0, 2, 0, 0],\n",
       "[0, 0, 2, 0],\n",
       "[0, 0, 0, 2]])"
      ]
     },
     "execution_count": 571,
     "metadata": {},
     "output_type": "execute_result"
    }
   ],
   "source": [
    "one = GetRelation(gamma_zero,gamma_zero)\n",
    "print(\"Para gamma^0 obtenemos:\")\n",
    "one"
   ]
  },
  {
   "cell_type": "code",
   "execution_count": 572,
   "metadata": {},
   "outputs": [
    {
     "name": "stdout",
     "output_type": "stream",
     "text": [
      "Para gamma^1 obtenemos:\n"
     ]
    },
    {
     "data": {
      "text/latex": [
       "$\\displaystyle \\left[\\begin{matrix}-2 & 0 & 0 & 0\\\\0 & -2 & 0 & 0\\\\0 & 0 & -2 & 0\\\\0 & 0 & 0 & -2\\end{matrix}\\right]$"
      ],
      "text/plain": [
       "Matrix([\n",
       "[-2,  0,  0,  0],\n",
       "[ 0, -2,  0,  0],\n",
       "[ 0,  0, -2,  0],\n",
       "[ 0,  0,  0, -2]])"
      ]
     },
     "execution_count": 572,
     "metadata": {},
     "output_type": "execute_result"
    }
   ],
   "source": [
    "one = GetRelation(gamma_one,gamma_one)\n",
    "print(\"Para gamma^1 obtenemos:\")\n",
    "one"
   ]
  },
  {
   "cell_type": "code",
   "execution_count": 573,
   "metadata": {},
   "outputs": [
    {
     "name": "stdout",
     "output_type": "stream",
     "text": [
      "Para gamma^2 obtenemos:\n"
     ]
    },
    {
     "data": {
      "text/latex": [
       "$\\displaystyle \\left[\\begin{matrix}2 i^{2} & 0 & 0 & 0\\\\0 & 2 i^{2} & 0 & 0\\\\0 & 0 & 2 i^{2} & 0\\\\0 & 0 & 0 & 2 i^{2}\\end{matrix}\\right]$"
      ],
      "text/plain": [
       "Matrix([\n",
       "[2*i**2,      0,      0,      0],\n",
       "[     0, 2*i**2,      0,      0],\n",
       "[     0,      0, 2*i**2,      0],\n",
       "[     0,      0,      0, 2*i**2]])"
      ]
     },
     "execution_count": 573,
     "metadata": {},
     "output_type": "execute_result"
    }
   ],
   "source": [
    "one = GetRelation(gamma_two,gamma_two)\n",
    "print(\"Para gamma^2 obtenemos:\")\n",
    "one"
   ]
  },
  {
   "cell_type": "code",
   "execution_count": 574,
   "metadata": {},
   "outputs": [
    {
     "name": "stdout",
     "output_type": "stream",
     "text": [
      "Para gamma^3 obtenemos:\n"
     ]
    },
    {
     "data": {
      "text/latex": [
       "$\\displaystyle \\left[\\begin{matrix}-2 & 0 & 0 & 0\\\\0 & -2 & 0 & 0\\\\0 & 0 & -2 & 0\\\\0 & 0 & 0 & -2\\end{matrix}\\right]$"
      ],
      "text/plain": [
       "Matrix([\n",
       "[-2,  0,  0,  0],\n",
       "[ 0, -2,  0,  0],\n",
       "[ 0,  0, -2,  0],\n",
       "[ 0,  0,  0, -2]])"
      ]
     },
     "execution_count": 574,
     "metadata": {},
     "output_type": "execute_result"
    }
   ],
   "source": [
    "one = GetRelation(gamma_three,gamma_three)\n",
    "print(\"Para gamma^3 obtenemos:\")\n",
    "one"
   ]
  },
  {
   "attachments": {},
   "cell_type": "markdown",
   "metadata": {},
   "source": [
    "Dados estos resultados, se puede representar dicha relación de anticonmutación en una matriz cuyas filas y columnas estarán determinados por los índices de las matrices $u$ y $v$ respectivamente como se muestra a continuación,\n",
    "\n",
    "$$\\begin{bmatrix}\n",
    "(\\gamma^0,\\gamma^0) & (\\gamma^0,\\gamma^1) & (\\gamma^0,\\gamma^2) & (\\gamma^0,\\gamma^3) \\\\\n",
    "(\\gamma^1,\\gamma^0) & (\\gamma^1,\\gamma^1) & (\\gamma^1,\\gamma^2) & (\\gamma^1,\\gamma^3) \\\\\n",
    "(\\gamma^2,\\gamma^0) & (\\gamma^2,\\gamma^1) & (\\gamma^2,\\gamma^2) & (\\gamma^2,\\gamma^3) \\\\\n",
    "(\\gamma^3,\\gamma^0) & (\\gamma^3,\\gamma^1) & (\\gamma^3,\\gamma^2) & (\\gamma^3,\\gamma^3) \n",
    "\\end{bmatrix}\n",
    "\\rightarrow\n",
    "\\begin{bmatrix}\n",
    "1 & 0 & 0 & 0 \\\\\n",
    "0 & -1 & 0 & 0 \\\\\n",
    "0 & 0 & -1 & 0 \\\\\n",
    "0 & 0 & 0 & -1 \n",
    "\\end{bmatrix}$$\n",
    "\n",
    "Como podemos observar, la diagonal de dicha representación matricial corresponde a la métrica de Minkowsky, así podemos escribir la relación de anticonmutación como,\n",
    "\n",
    "$$ \\gamma^u \\gamma^v + \\gamma^v \\gamma^u = 2\\mu^{uv} I_{4x4} \\rightarrow \\mu^{uv} = diag(1,-1,-1,-1) $$\n",
    "\n",
    "Por lo que queda verificada que la anterior relación cumple con el álgebra de Clifford.\n"
   ]
  },
  {
   "cell_type": "code",
   "execution_count": 575,
   "metadata": {},
   "outputs": [],
   "source": [
    "#segunda parte 1,7\n",
    "\n",
    "#1,a\n",
    " \n",
    "A = np.array([[2.,-1.,0.],[1.,2.,0.],[1.,1.,0.]])\n",
    "b = np.array([[2.,0.,0.],[1.,0.,0.],[4.,0.,0.]])\n",
    "\n",
    "\n",
    "M = GetMultiplication(A.T,A)\n",
    "n = ((GetMultiplication(A.T,b)).T[0])[0:2]\n",
    "\n",
    "#Nueva matriz para solucionar Mx=n\n",
    "def Simplify_zeros(A):\n",
    "    n = A.shape[0]\n",
    "    N = np.zeros((n-1,n-1))\n",
    "    \n",
    "    for i in range(n):\n",
    "        for j in range(n):\n",
    "            if A[i][j]!=0:\n",
    "                N[i][j] = A[i][j]\n",
    "                \n",
    "    return N\n",
    "\n",
    "M1 = Simplify_zeros(M)  \n"
   ]
  },
  {
   "cell_type": "code",
   "execution_count": 576,
   "metadata": {},
   "outputs": [
    {
     "name": "stdout",
     "output_type": "stream",
     "text": [
      "[1.42857143 0.42857143]\n"
     ]
    }
   ],
   "source": [
    "x0 = np.array([0.,0.])\n",
    "\n",
    "# tu codigo aqui\n",
    "def Jacobi(A,b,x0, itmax=1000, tolerancia= 1e-9):\n",
    "    \n",
    "    x = x0.copy()\n",
    "    \n",
    "    for it in range(itmax):\n",
    "        \n",
    "        xn = np.zeros_like(x0)\n",
    "        \n",
    "        for i in range(A.shape[0]):\n",
    "            \n",
    "            sum_ = 0.\n",
    "            \n",
    "            for j in range(A.shape[1]):\n",
    "                \n",
    "                if j!=i:\n",
    "                    sum_ += A[i,j]*x[j]\n",
    "                    \n",
    "            xn[i] = (b[i] - sum_)/A[i,i]\n",
    "            \n",
    "        residuo = np.linalg.norm( np.dot(A,xn) - b )\n",
    "        x = xn.copy()\n",
    "        \n",
    "        if np.allclose(residuo,tolerancia,atol=tolerancia):\n",
    "            break\n",
    "        \n",
    "    return x\n",
    "  \n",
    "solucion = Jacobi(M1,n,x0)\n",
    "print(solucion)\n"
   ]
  },
  {
   "cell_type": "code",
   "execution_count": 577,
   "metadata": {},
   "outputs": [
    {
     "data": {
      "image/png": "[encoded data removed]",
      "text/plain": [
       "<Figure size 432x288 with 1 Axes>"
      ]
     },
     "metadata": {
      "needs_background": "light"
     },
     "output_type": "display_data"
    }
   ],
   "source": [
    "x = np.arange(-5,5,0.01)\n",
    "\n",
    "y1 = 1 - (2*x)\n",
    "y2 = (1/2)*(1 - x)\n",
    "y3 = 4-x\n",
    "\n",
    "plt.plot(x, y1,color='r')\n",
    "plt.plot(x, y2,color='b')\n",
    "plt.plot(x, y3,color='g')\n",
    "plt.scatter(solucion[0],solucion[1],color='k')\n",
    "plt.show()\n"
   ]
  },
  {
   "cell_type": "code",
   "execution_count": 578,
   "metadata": {},
   "outputs": [],
   "source": [
    "#Ahora para el b se hace lo mismo solo que paso por paso\n",
    "#A la matrix estrella que halle, reemplazo el x y y de los pasos y guardo la ditancia para cada uno\n",
    "#la manta sale porque es un promedio de todas las posibles minimas distnacias y el punto de la curva minimo debe ser el d emi solucion\n",
    "#Mx*-b=dvector y la norma es el cuadrado de la raiz\n",
    "\n"
   ]
  },
  {
   "cell_type": "code",
   "execution_count": 586,
   "metadata": {},
   "outputs": [
    {
     "data": {
      "image/png": "[encoded data removed]",
      "text/plain": [
       "<Figure size 432x288 with 1 Axes>"
      ]
     },
     "metadata": {
      "needs_background": "light"
     },
     "output_type": "display_data"
    }
   ],
   "source": [
    "x_sol = solucion\n",
    "distances = []\n",
    "\n",
    "X = np.arange(-5, 5, 0.01)\n",
    "Y = np.arange(-5, 5, 0.01)\n",
    "\n",
    "for x in X:\n",
    "    for y in Y:\n",
    "        dist = np.sqrt((x - x_sol[0])**2 + (y - x_sol[1])**2)\n",
    "        distances.append(dist)\n",
    "        \n",
    "#poner todo de la misma dimension\n",
    "Z = np.array(distances).reshape((len(X), len(Y)))\n",
    "\n",
    "fig = plt.figure()\n",
    "ax = fig.add_subplot(111, projection='3d')\n",
    "X, Y = np.meshgrid(X, Y)\n",
    "ax.plot_surface(X, Y, Z, cmap='coolwarm')\n",
    "ax.set_xlabel('x')\n",
    "ax.set_ylabel('y')\n",
    "ax.set_zlabel('Distancia')\n",
    "ax.view_init(elev=35, azim=45)\n",
    "plt.show()\n",
    "\n"
   ]
  },
  {
   "cell_type": "code",
   "execution_count": 580,
   "metadata": {},
   "outputs": [
    {
     "data": {
      "text/plain": [
       "<matplotlib.collections.PathCollection at 0x1f38113e6d0>"
      ]
     },
     "execution_count": 580,
     "metadata": {},
     "output_type": "execute_result"
    },
    {
     "data": {
      "image/png": "[encoded data removed]",
      "text/plain": [
       "<Figure size 432x288 with 1 Axes>"
      ]
     },
     "metadata": {
      "needs_background": "light"
     },
     "output_type": "display_data"
    }
   ],
   "source": [
    "#7\n",
    "#carga de datos\n",
    "if not path.exists('Data'):\n",
    "    os.mkdir('Data')\n",
    "    \n",
    "file = 'Data/Minimos.dat' \n",
    "\n",
    "url = 'https://raw.githubusercontent.com/asegura4488/Database/main/MetodosComputacionalesReforma/Sigmoid.csv'\n",
    "\n",
    "if not path.exists(file):\n",
    "    Path_ = wget.download(url,file)\n",
    "else:\n",
    "    Path_ = file\n",
    "    \n",
    "    \n",
    "data = np.loadtxt(Path_)\n",
    "x = data[:,0]\n",
    "y = data[:,1]\n",
    "plt.scatter(x,y)"
   ]
  },
  {
   "cell_type": "code",
   "execution_count": 604,
   "metadata": {},
   "outputs": [
    {
     "name": "stdout",
     "output_type": "stream",
     "text": [
      "Parámetros del mejor ajuste:\n",
      "theta0 = -14.77155324329739\n",
      "theta1 = 16.65431243996117\n",
      "theta2 = -0.019951825974866798\n"
     ]
    },
    {
     "data": {
      "image/png": "[encoded data removed]",
      "text/plain": [
       "<Figure size 432x288 with 1 Axes>"
      ]
     },
     "metadata": {
      "needs_background": "light"
     },
     "output_type": "display_data"
    }
   ],
   "source": [
    "# Función sigmoidal\n",
    "def sigmoid(x, theta):\n",
    "    return theta[0] + theta[1] * np.exp(-theta[2] * x)\n",
    "\n",
    "# Función de costo a minimizar\n",
    "def cost_function(theta, x, y):\n",
    "    y_pred = sigmoid(x, theta)\n",
    "    return np.sum((y - y_pred)**2)\n",
    "\n",
    "\n",
    "# Parámetros iniciales\n",
    "theta0 = np.array([1, 1, 1])\n",
    "\n",
    "# Ajuste de la curva mediante mínimos cuadrados\n",
    "from scipy.optimize import minimize\n",
    "\n",
    "res = minimize(cost_function, theta0, args=(x, y), method='Powell')\n",
    "\n",
    "theta_hat = res.x\n",
    "\n",
    "# Impresión de los parámetros del mejor ajuste\n",
    "print('Parámetros del mejor ajuste:')\n",
    "print('theta0 =', theta_hat[0])\n",
    "print('theta1 =', theta_hat[1])\n",
    "print('theta2 =', theta_hat[2])\n",
    "\n",
    "# Gráfica de los datos y la curva ajustada\n",
    "x_plot = np.linspace(np.min(x), np.max(x), 1000)\n",
    "y_plot = sigmoid(x_plot, theta_hat)\n",
    "\n",
    "plt.plot(x, y, 'o', label='Datos')\n",
    "plt.plot(x_plot, y_plot, label='Ajuste')\n",
    "plt.xlabel('x')\n",
    "plt.ylabel('y')\n",
    "plt.legend()\n",
    "plt.show()\n"
   ]
  }
 ],
 "metadata": {
  "kernelspec": {
   "display_name": "base",
   "language": "python",
   "name": "python3"
  },
  "language_info": {
   "codemirror_mode": {
    "name": "ipython",
    "version": 3
   },
   "file_extension": ".py",
   "mimetype": "text/x-python",
   "name": "python",
   "nbconvert_exporter": "python",
   "pygments_lexer": "ipython3",
   "version": "3.9.7"
  },
  "orig_nbformat": 4,
  "vscode": {
   "interpreter": {
    "hash": "ad307bde91f31e4b718ec0c2fe9a8b9cebe22b2862231a694138fcba204f6685"
   }
  }
 },
 "nbformat": 4,
 "nbformat_minor": 2
}
