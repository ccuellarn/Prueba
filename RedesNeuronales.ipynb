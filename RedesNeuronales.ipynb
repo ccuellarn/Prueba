{
 "cells": [
  {
   "cell_type": "code",
   "execution_count": 75,
   "metadata": {},
   "outputs": [],
   "source": [
    "#la constante del grupo es el momento angular? en spines xd\n",
    "#las matrices de dirac, dos son de materia y dos de antimateria y se relacionan con la propiedad de anticonmutacion"
   ]
  },
  {
   "cell_type": "code",
   "execution_count": 76,
   "metadata": {},
   "outputs": [],
   "source": [
    "import numpy as np\n",
    "import matplotlib.pyplot as plt\n",
    "from matplotlib import cm\n",
    "from mpl_toolkits.mplot3d import axes3d"
   ]
  },
  {
   "cell_type": "code",
   "execution_count": 77,
   "metadata": {},
   "outputs": [],
   "source": [
    "sigm = lambda x: 1/(1+np.exp(-x))"
   ]
  },
  {
   "cell_type": "code",
   "execution_count": 78,
   "metadata": {},
   "outputs": [],
   "source": [
    "class Layer:\n",
    "    #numero de neuronas NN\n",
    "    #NC num de conexiones\n",
    "    def __init__(self,NC,NN,ActFunc):\n",
    "        \n",
    "        self.NC = NC\n",
    "        self.NN = NN\n",
    "        self.ActFunc = ActFunc\n",
    "        \n",
    "        #los pesos se inicializan en random porque si concieramos los pesos la red no aprenderia\n",
    "        self.W = np.random.uniform(-10,10,size=(self.NC,self.NN)) #pesos\n",
    "        self.b = np.random.uniform(-10,10,size=(1,self.NN)) #bias/corte de la linea\n",
    "        #dicho modelo es lineal y de pocas neuronas\n",
    "        \n",
    "    def Activation(self,x):\n",
    "        #multiplico estimulo por el vector dada la funcion de activacion\n",
    "        z = np.dot(x,self.W)+ self.b\n",
    "        return self.ActFunc(z)[0]\n",
    "    \n",
    "    #vamos a hacer una mutacion variando pesos y bias pero con la normal y la desviacion estandar define la mutuacion\n",
    "    #loc es media de la normal\n",
    "    def Mutate(self):\n",
    "        self.W += np.random.normal( loc=0.,scale=0.05,size=(self.NC,self.NN) )\n",
    "        self.b += np.random.normal( loc=0.,scale=0.05,size=(1,self.NN) )\n",
    "        \n",
    "    #crear un perceptron con mas de una capa"
   ]
  },
  {
   "cell_type": "code",
   "execution_count": 79,
   "metadata": {},
   "outputs": [
    {
     "data": {
      "text/plain": [
       "array([[ 6.74359775,  3.80858297,  6.63701144,  3.95692263],\n",
       "       [ 6.6744239 ,  9.6759579 , -8.72823797, -1.57080535]])"
      ]
     },
     "execution_count": 79,
     "metadata": {},
     "output_type": "execute_result"
    }
   ],
   "source": [
    "L0 = Layer(2,4,sigm)\n",
    "L0.W"
   ]
  },
  {
   "cell_type": "code",
   "execution_count": 80,
   "metadata": {},
   "outputs": [
    {
     "data": {
      "text/plain": [
       "array([[-4.52641081,  0.66534533, -0.06329164,  8.35029569]])"
      ]
     },
     "execution_count": 80,
     "metadata": {},
     "output_type": "execute_result"
    }
   ],
   "source": [
    "#Son de espacio r2\n",
    "L0.b"
   ]
  },
  {
   "cell_type": "code",
   "execution_count": 81,
   "metadata": {},
   "outputs": [
    {
     "data": {
      "text/plain": [
       "array([0.37405982, 0.9972246 , 0.0226716 , 0.99965117])"
      ]
     },
     "execution_count": 81,
     "metadata": {},
     "output_type": "execute_result"
    }
   ],
   "source": [
    "#con una sola capa\n",
    "x = [0.1,0.5]\n",
    "L0.Activation(x)"
   ]
  },
  {
   "cell_type": "code",
   "execution_count": 82,
   "metadata": {},
   "outputs": [
    {
     "data": {
      "text/plain": [
       "array([0.36154117, 0.99731773, 0.02209992, 0.99966433])"
      ]
     },
     "execution_count": 82,
     "metadata": {},
     "output_type": "execute_result"
    }
   ],
   "source": [
    "#si mutamos la capa la funcion de activacion cambia, y hace que cambie el comportamiento de la red, lo que hace que aprenda\n",
    "L0.Mutate()\n",
    "L0.Activation(x)"
   ]
  },
  {
   "cell_type": "code",
   "execution_count": 83,
   "metadata": {},
   "outputs": [],
   "source": [
    "#con capas ocultas es deep learning, es dificil de entrenar con evolucion\n",
    "#red neuronal\n",
    "l0 = Layer(2,4,sigm)\n",
    "l1 = Layer(4,10,sigm)\n",
    "l2 = Layer(10,5,sigm)\n",
    "l3 = Layer(5,2,sigm)\n",
    "Layers = [l0,l1,l2,l3]"
   ]
  },
  {
   "cell_type": "code",
   "execution_count": 84,
   "metadata": {},
   "outputs": [],
   "source": [
    "#se necesita el cerebro pero hara la activacion por todas las capas\n",
    "\n",
    "def Brain(Layers,x):\n",
    "    for i in range(len(Layers)):\n",
    "        if i==0:\n",
    "            output = Layers[i].Activation(x)\n",
    "        else:\n",
    "            output = Layers[i].Activation(output)\n",
    "            \n",
    "    return output\n",
    "\n",
    "#cuando sale de la region muere, en el caso de los robots se devuelve\n",
    "        "
   ]
  },
  {
   "cell_type": "code",
   "execution_count": 85,
   "metadata": {},
   "outputs": [
    {
     "data": {
      "text/plain": [
       "array([0.94590738, 0.00263629])"
      ]
     },
     "execution_count": 85,
     "metadata": {},
     "output_type": "execute_result"
    }
   ],
   "source": [
    "#la tarea es enchufar el cerebro en los robots d ela clase para que cuando lleguen a la frontera se devuelvan\n",
    "Brain(Layers,[1,1.2])"
   ]
  },
  {
   "cell_type": "code",
   "execution_count": 86,
   "metadata": {},
   "outputs": [],
   "source": [
    "#como ver el cerebro en la region y las conexiones lineales\n",
    "#i es el indice de recorrer y x_ son los valores que es lo que se quiere ver\n",
    "x = np.linspace(-1,1,10)\n",
    "y = x.copy()\n",
    "\n",
    "X,Y = np.meshgrid(x,y)\n",
    "\n",
    "N1 = np.zeros_like(X)\n",
    "N2 = np.zeros_like(X)\n",
    "\n",
    "for i, _x in enumerate(x):\n",
    "    for j, _y in enumerate(y):\n",
    "        N1[i,j] = Brain(Layers,[_x,_y])[0]\n",
    "        N2[i,j] = Brain(Layers,[_x,_y])[1]"
   ]
  },
  {
   "cell_type": "code",
   "execution_count": 87,
   "metadata": {},
   "outputs": [
    {
     "data": {
      "text/plain": [
       "<mpl_toolkits.mplot3d.art3d.Poly3DCollection at 0x241097f3910>"
      ]
     },
     "execution_count": 87,
     "metadata": {},
     "output_type": "execute_result"
    },
    {
     "data": {
      "image/png": "[encoded data removed]",
      "text/plain": [
       "<Figure size 432x288 with 1 Axes>"
      ]
     },
     "metadata": {
      "needs_background": "light"
     },
     "output_type": "display_data"
    }
   ],
   "source": [
    "#para ver como cambian los robots hay que definir una funcion de aptitud/fitness\n",
    "#en cada evolucion temporal, si el robot no muere su funcion de aptitud aumentara\n",
    "#si el robot se bugea, tiene retraso y la aptitud disminuye con una penalidad\n",
    "fig = plt.figure()\n",
    "ax = fig.add_subplot(111,projection='3d')\n",
    "\n",
    "ax.plot_surface(X,Y,N1)\n",
    "ax.plot_surface(X,Y,N2)"
   ]
  }
 ],
 "metadata": {
  "kernelspec": {
   "display_name": "base",
   "language": "python",
   "name": "python3"
  },
  "language_info": {
   "codemirror_mode": {
    "name": "ipython",
    "version": 3
   },
   "file_extension": ".py",
   "mimetype": "text/x-python",
   "name": "python",
   "nbconvert_exporter": "python",
   "pygments_lexer": "ipython3",
   "version": "3.9.7"
  },
  "orig_nbformat": 4
 },
 "nbformat": 4,
 "nbformat_minor": 2
}
