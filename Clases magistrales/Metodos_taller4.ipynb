{
 "cells": [
  {
   "cell_type": "code",
   "execution_count": 71,
   "metadata": {},
   "outputs": [],
   "source": [
    "#librerias \n",
    "import math\n",
    "import numpy as np\n",
    "import matplotlib.pyplot as plt\n",
    "import sympy as sym\n",
    "from scipy.stats import norm\n",
    "from scipy.stats import cauchy\n",
    "import pandas as pd"
   ]
  },
  {
   "attachments": {},
   "cell_type": "markdown",
   "metadata": {},
   "source": [
    "Para la demostración de dicha fórmula nos basaremos en la analogía de barras y estrellas usada para calcular los problemas que involucran este tipo de combinatoria. Como sabemos, la combinatoria en su modo binomial se expresa del modo,\n",
    "\n",
    "$$ C_r^n = \\begin{pmatrix} n \\\\ r\\end{pmatrix} = \\frac{n!}{r!(n-r)!}$$\n",
    "\n",
    "Donde $n$ será nuestro espacio muestral y $r$ es el número de casos posibles en la probabilidad. Dada la combinatoria con repetición, se puede plantear de la misma manera pero con un conjunto $n$ de tamaño $n+r-1$, el cual se puede demostrar dada la analogía mencionada al inicio.\n",
    "\n",
    "En barras y estrellas se suele simplificar el concepto de ordenar $r$ elementos dado un orden de $n$. Donde $r$ representa el número de total de estrellas que usarás y $n$ el número de cajas que puedes armar con las barras. Por ejemplo, en el ejercicio 22 se usa dicha analogía para resolver analíticamente el problema dado. Allí, se puede observar que el número de barras que  se formarán será de $n-1$. Además, que el espacio muestral será la suma tanto de barras como estrellas, en nuestro caso $r +n-1$. Reemplazando en la fórmula de combinatoria sin repetición obtenemos que,\n",
    "\n",
    "$$ C_r^n = \\begin{pmatrix} n+r-1 \\\\ r\\end{pmatrix} = \\begin{pmatrix}\\begin{pmatrix} n \\\\ r\\end{pmatrix}\\end{pmatrix} =\\frac{(n+r-1)!}{r!(n+r-1-r)!} = \\frac{(n+r-1)!}{r!(n-1)!}$$\n",
    "\n",
    "Así quedaría demostrada la fórmula de combinatoria con repetición."
   ]
  },
  {
   "attachments": {},
   "cell_type": "markdown",
   "metadata": {},
   "source": [
    "Cuantas sumas de 3 enteros no negativos dan 10. R:66\n",
    "\n",
    "Para resolver este ejercicio usaremos el método de estrellas y barras. En este caso, tenemos 10 estrellas y dos barras, las cuales dividen las estrellas en tres grupos. Por ejemplo, podemos tener la combinación $(* * | * * * * | * * * *)$ o la combinación $(* * * | * * * * | * * *)$ . Así se puede expresar esta relación como la combinatoria,\n",
    "\n",
    "$$ C_r^n = \\begin{pmatrix} 12 \\\\ 2\\end{pmatrix} = \\frac{12!}{2!(12-2)!} = \\frac{12!}{2!(10)!} = 66$$\n",
    "\n",
    "Ya que existen 66 formas de escoger la posición de las dos barras organizando el espacio generado tanto por estrellas como barras, es decir 12. Además, podemos calcular dicho problema computacionalmente."
   ]
  },
  {
   "cell_type": "code",
   "execution_count": 72,
   "metadata": {},
   "outputs": [
    {
     "name": "stdout",
     "output_type": "stream",
     "text": [
      "El resultado de la fórmula de combinatoria sencilla es:66.0\n"
     ]
    }
   ],
   "source": [
    "def Combinatory(n,r):\n",
    "    c = math.factorial(n) / (math.factorial(r)*math.factorial(n-r))\n",
    "    return c\n",
    "\n",
    "print(\"El resultado de la fórmula de combinatoria sencilla es:{}\".format(Combinatory(12,2)))"
   ]
  },
  {
   "attachments": {},
   "cell_type": "markdown",
   "metadata": {},
   "source": [
    "\n",
    "La probabilidad de que $n$ personas tengan fechas de cumpleaños diferentes se puede calcular como la razón entre el número de formas posibles en las que $n$ personas pueden tener fechas distintas y el número total de formas en que $n$ personas pueden tener fechas de cumpleaños.\n",
    "\n",
    "El número total de formas en que $n$ personas pueden tener fechas de cumpleaños está dada por una permutación sencilla, ya que cada persona puede tener su cumpleaños en cualquiera de los 365 días del año, es decir $365^n$. Por otra parte, el número de formas en que $n$ personas pueden tener fechas de cumpleaños diferentes resulta ser una variación sin repetición, ya que la primera persona puede tener su cumpleaños en cualquiera de los 365 días del año, la segunda persona puede tener su cumpleaños en cualquiera de los 364 días restantes, y así sucesivamente. Dicha expresión se puede escribir de la forma,\n",
    "\n",
    "$$ V_r^n = \\frac{365!}{(365-n)!} $$\n",
    "\n",
    "Por eso, la forma general de dicha probabilidad se puede expresar como una combinatoria,\n",
    "\n",
    "$$ C_r^n =\\frac{V_r^n}{P_n} = \\frac{365!/(365-n)!} {365^n} = \\frac{365!}{365^n(365-n)!}$$\n",
    "\n",
    "Así la fórmula general se puede expresar como,\n",
    "\n",
    "$$ P(n) = \\frac{365!}{365^n(365-n)!}$$"
   ]
  },
  {
   "attachments": {},
   "cell_type": "markdown",
   "metadata": {},
   "source": [
    "La gráfica de dicha probabilidad en función de $n$ para $n\\leq 80$ se muestra a continuación, en esta se puede observar que la probabilidad irá disminuyendo a medida que aumente la cantidad de personas.  "
   ]
  },
  {
   "cell_type": "code",
   "execution_count": 73,
   "metadata": {},
   "outputs": [
    {
     "data": {
      "text/plain": [
       "Text(0, 0.5, 'P(n)')"
      ]
     },
     "execution_count": 73,
     "metadata": {},
     "output_type": "execute_result"
    },
    {
     "data": {
      "image/png": "[encoded data removed]",
      "text/plain": [
       "<Figure size 432x288 with 1 Axes>"
      ]
     },
     "metadata": {
      "needs_background": "light"
     },
     "output_type": "display_data"
    }
   ],
   "source": [
    "N = []\n",
    "n =range(81)\n",
    "for i in n:\n",
    "    c = math.factorial(365) / (math.factorial(365-i)*(365**i))\n",
    "    N.append(c)\n",
    "    \n",
    "plt.title('$P(n \\leq 80)$')\n",
    "plt.scatter(n,N,color='g')\n",
    "plt.xlabel('n')\n",
    "plt.ylabel('P(n)')"
   ]
  },
  {
   "attachments": {},
   "cell_type": "markdown",
   "metadata": {},
   "source": [
    "Lo cual cobra sentido si tenemos en cuenta el vídeo del canal Derivando recomendado para este ejercicio. Tomando la fórmula de probabilidad para $n$ personas que cumplan años en fechas iguales se puede observar que es inversa a la gráfica hallada anteriormente. Entre mayor es la probabilidad de que $n$ personas cumplan en la misma fecha, disminuye para el caso en que cumplen en fechas distintas.\n"
   ]
  },
  {
   "cell_type": "code",
   "execution_count": 74,
   "metadata": {},
   "outputs": [
    {
     "data": {
      "text/plain": [
       "<matplotlib.legend.Legend at 0x133a71d5460>"
      ]
     },
     "execution_count": 74,
     "metadata": {},
     "output_type": "execute_result"
    },
    {
     "data": {
      "image/png": "[encoded data removed]",
      "text/plain": [
       "<Figure size 432x288 with 1 Axes>"
      ]
     },
     "metadata": {
      "needs_background": "light"
     },
     "output_type": "display_data"
    }
   ],
   "source": [
    "Nn = []\n",
    "for i in n:\n",
    "    c = 1 - (364/365)**i\n",
    "    Nn.append(c)\n",
    "    \n",
    "plt.title('Comparación para $n \\leq 80$')\n",
    "plt.scatter(n,N,color='g',label='Fechas distintas.')\n",
    "plt.scatter(n,Nn,color='m',label='Fechas iguales.')\n",
    "plt.xlabel('n')\n",
    "plt.ylabel('P(n)')\n",
    "plt.legend()"
   ]
  },
  {
   "attachments": {},
   "cell_type": "markdown",
   "metadata": {},
   "source": [
    "Muestre que la distribuci´on de probabilidad del n´umero de microchips defectuosos.\n",
    "\n",
    "Para este problema podemos tomar la razón entre casos favorables y posibles. Para el caso posible únicamente tendremos la situación en la que la empresa compre 2 chip defectuosos de los 10, es decir ${\\begin{pmatrix} 10 \\\\ 2\\end{pmatrix}}$.\n",
    "\n",
    "Por otra parte, para los casos favorables se tendrán tres diferentes situaciones:\n",
    "\n",
    "1) En el caso de que la empresa no compre ningún chip defectuoso, se tendrá el número de chips no defectuosos y la cantidad que compró la empresa, es decir $\\begin{pmatrix} 7 \\\\ 2\\end{pmatrix}$\n",
    "\n",
    "2) En el caso de que la empresa compre 1 chip defectuoso, se tendrá el número de chips no defectuosos y la cantidad que compró la empresa multiplicándose con la cantidad de chips defectuosos y los que pudo adquirir la empresa, es decir $\\begin{pmatrix} 7 \\\\ 2\\end{pmatrix} \\cdot \\begin{pmatrix} 3 \\\\ 1\\end{pmatrix}$\n",
    "\n",
    "3) En el caso de que la empresa compre 2 chips defectuosos, se tendrá únicamente la cantidad de chips defectuosos y los que pudo adquirir la empresa, es decir $\\begin{pmatrix} 3 \\\\ 2\\end{pmatrix}$\n",
    "\n",
    "Como podemos observar los tres casos anteriores son dependientes entre sí, donde el número de chips defectuosos obtenidos por la empresa será nuestra variable de referencia. Por eso, se puede generalizar la combinatoria como,\n",
    "\n",
    "$$ f(x) = \\frac{\\begin{pmatrix} 7 \\\\ 2-x \\end{pmatrix} \\cdot \\begin{pmatrix} 3 \\\\ x\\end{pmatrix}}{\\begin{pmatrix} 10 \\\\ 2\\end{pmatrix}} $$\n",
    "\n",
    "Donde la distribución de la probabilidad para cada x será,"
   ]
  },
  {
   "cell_type": "code",
   "execution_count": 75,
   "metadata": {},
   "outputs": [
    {
     "name": "stdout",
     "output_type": "stream",
     "text": [
      "Para x=0 la distribución es de:0.4666666666666667\n",
      "Para x=1 la distribución es de:0.4666666666666667\n",
      "Para x=2 la distribución es de:0.06666666666666667\n"
     ]
    }
   ],
   "source": [
    "def Distribution(x):\n",
    "    X = (Combinatory(7,2-x) * Combinatory(3,x))/Combinatory(10,2)\n",
    "    return X\n",
    "\n",
    "print(\"Para x=0 la distribución es de:{}\".format(Distribution(0)))\n",
    "print(\"Para x=1 la distribución es de:{}\".format(Distribution(1)))\n",
    "print(\"Para x=2 la distribución es de:{}\".format(Distribution(2)))"
   ]
  },
  {
   "attachments": {},
   "cell_type": "markdown",
   "metadata": {},
   "source": [
    "Por lo que queda mostrada la distribución de probabilidad de los chips defectuosos."
   ]
  },
  {
   "cell_type": "code",
   "execution_count": 76,
   "metadata": {},
   "outputs": [
    {
     "name": "stdout",
     "output_type": "stream",
     "text": [
      "El resultado esperado para u es de:0.6\n"
     ]
    }
   ],
   "source": [
    "x = [0,1,2]\n",
    "u = x[0]*Distribution(0) + x[1]*Distribution(1) + x[2]*Distribution(2)\n",
    "\n",
    "print(\"El resultado esperado para u es de:{}\".format(u))"
   ]
  },
  {
   "attachments": {},
   "cell_type": "markdown",
   "metadata": {},
   "source": [
    "Para demostrar que la función de densidad conjunta sea válida se necesita que cumpla con dos condiciones.\n",
    "\n",
    "1) La función es positiva para el intervalo de muestra: Dado que $0 \\leq x \\leq 1$ y $0 \\leq y \\leq 1$, tenemos que \n",
    "\n",
    "$$\\frac{2}{3}(x + 2y) \\geq 0 \\rightarrow x + 2y \\geq 0$$\n",
    "\n",
    "Si evaluamos en los extremos del intervalo podemos observar que siempre se cumple la condición propuesta.\n",
    "\n",
    "$$0 + (2)(0) \\geq 0 \\land 1 + (2)(1) \\geq 0$$\n",
    "\n",
    "Además, se puede observar que siempre se cumplirá dicha condición para todo $(x, y)$ en el espacio de muestra ya que la suma de dos números positivos siempre será positiva. Por lo que queda demostrado que la función será positiva para el intervalo dado.\n",
    "\n",
    "2) La integral evaluada en el intervalo dado es igual a uno: Para ello usaremos la librería sympy donde claramente se puede ver que esta condición se cumple.\n"
   ]
  },
  {
   "cell_type": "code",
   "execution_count": 77,
   "metadata": {},
   "outputs": [
    {
     "name": "stdout",
     "output_type": "stream",
     "text": [
      "El resultado de la integral evaluada en el intervalo de muestra es:1.00000000000000\n"
     ]
    }
   ],
   "source": [
    "x, y = sym.symbols('x y')\n",
    "f = (2/3)*(x+2*y)\n",
    "\n",
    "Integrate = sym.integrate(sym.integrate(f, (x, 0, 1)), (y, 0, 1))\n",
    "\n",
    "print(\"El resultado de la integral evaluada en el intervalo de muestra es:{}\".format(Integrate))"
   ]
  },
  {
   "cell_type": "code",
   "execution_count": 78,
   "metadata": {},
   "outputs": [
    {
     "name": "stdout",
     "output_type": "stream",
     "text": [
      "La distribución marginal de x estará dada por la integral con respecto a y de la función:\n"
     ]
    },
    {
     "data": {
      "text/latex": [
       "$\\displaystyle 0.666666666666667 x + 0.666666666666667$"
      ],
      "text/plain": [
       "0.666666666666667*x + 0.666666666666667"
      ]
     },
     "execution_count": 78,
     "metadata": {},
     "output_type": "execute_result"
    }
   ],
   "source": [
    "#b)\n",
    "gx = sym.integrate(f, (y, 0, 1))\n",
    "print(\"La distribución marginal de x estará dada por la integral con respecto a y de la función:\")\n",
    "gx"
   ]
  },
  {
   "cell_type": "code",
   "execution_count": 79,
   "metadata": {},
   "outputs": [
    {
     "name": "stdout",
     "output_type": "stream",
     "text": [
      "La distribución marginal de y estará dada por la integral con respecto a x de la función:\n"
     ]
    },
    {
     "data": {
      "text/latex": [
       "$\\displaystyle 1.33333333333333 y + 0.333333333333333$"
      ],
      "text/plain": [
       "1.33333333333333*y + 0.333333333333333"
      ]
     },
     "execution_count": 79,
     "metadata": {},
     "output_type": "execute_result"
    }
   ],
   "source": [
    "print(\"La distribución marginal de y estará dada por la integral con respecto a x de la función:\")\n",
    "hy = sym.integrate(f, (x, 0, 1))\n",
    "hy"
   ]
  },
  {
   "cell_type": "code",
   "execution_count": 80,
   "metadata": {},
   "outputs": [
    {
     "name": "stdout",
     "output_type": "stream",
     "text": [
      "El valor esperado para x es de:0.555555555555556\n"
     ]
    }
   ],
   "source": [
    "#c)\n",
    "Ex = sym.integrate(gx*x, (x, 0, 1))\n",
    "print(\"El valor esperado para x es de:{}\".format(Ex))"
   ]
  },
  {
   "cell_type": "code",
   "execution_count": 81,
   "metadata": {},
   "outputs": [
    {
     "name": "stdout",
     "output_type": "stream",
     "text": [
      "El valor esperado para y es de:0.611111111111111\n"
     ]
    }
   ],
   "source": [
    "#d)\n",
    "Ey = sym.integrate(hy*y, (y, 0, 1))\n",
    "print(\"El valor esperado para y es de:{}\".format(Ey))"
   ]
  },
  {
   "cell_type": "code",
   "execution_count": 82,
   "metadata": {},
   "outputs": [
    {
     "name": "stdout",
     "output_type": "stream",
     "text": [
      "La covarianza usando la fórmula dada es de:-0.00617283950617281\n"
     ]
    }
   ],
   "source": [
    "#e)\n",
    "Exy = sym.integrate(sym.integrate(f*x*y, (x, 0, 1)), (y, 0, 1))\n",
    "coxy_1 = Exy - Ex*Ey\n",
    "\n",
    "print(\"La covarianza usando la fórmula dada es de:{}\".format(coxy_1))"
   ]
  },
  {
   "cell_type": "code",
   "execution_count": 83,
   "metadata": {},
   "outputs": [
    {
     "name": "stdout",
     "output_type": "stream",
     "text": [
      "La covarianza usando la fórmula dada es de:-0.00617283950617284\n"
     ]
    }
   ],
   "source": [
    "#f)\n",
    "\n",
    "#Para este caso u_x, u_y respectivamente son los valores esperados de x, y.\n",
    "Exx = x - Ex\n",
    "Eyy = y - Ey\n",
    "coxy_2 = sym.integrate(sym.integrate(Exx*Eyy*f, (x, 0, 1)), (y, 0, 1))\n",
    "\n",
    "print(\"La covarianza usando la fórmula dada es de:{}\".format(coxy_2))"
   ]
  },
  {
   "attachments": {},
   "cell_type": "markdown",
   "metadata": {},
   "source": [
    "g)\n",
    "\n",
    "Para determinar si dos variables aleatorias son independientes entre sí, su función de densidad conjunta debe ser igual al producto de sus funciones de densidad marginales."
   ]
  },
  {
   "cell_type": "code",
   "execution_count": 84,
   "metadata": {},
   "outputs": [
    {
     "data": {
      "text/latex": [
       "$\\displaystyle \\left(0.666666666666667 x + 0.666666666666667\\right) \\left(1.33333333333333 y + 0.333333333333333\\right)$"
      ],
      "text/plain": [
       "(0.666666666666667*x + 0.666666666666667)*(1.33333333333333*y + 0.333333333333333)"
      ]
     },
     "execution_count": 84,
     "metadata": {},
     "output_type": "execute_result"
    }
   ],
   "source": [
    "f_xy = gx*hy\n",
    "f_xy"
   ]
  },
  {
   "cell_type": "code",
   "execution_count": 85,
   "metadata": {},
   "outputs": [
    {
     "data": {
      "text/latex": [
       "$\\displaystyle 0.666666666666667 x + 1.33333333333333 y$"
      ],
      "text/plain": [
       "0.666666666666667*x + 1.33333333333333*y"
      ]
     },
     "execution_count": 85,
     "metadata": {},
     "output_type": "execute_result"
    }
   ],
   "source": [
    "f"
   ]
  },
  {
   "attachments": {},
   "cell_type": "markdown",
   "metadata": {},
   "source": [
    "Como podemos observar, no se obtienen los mismos resultados para la ecuación por lo que podemos concluir que las variables no son independientes."
   ]
  },
  {
   "cell_type": "code",
   "execution_count": 86,
   "metadata": {},
   "outputs": [
    {
     "data": {
      "image/png": "[encoded data removed]",
      "text/plain": [
       "<Figure size 432x288 with 1 Axes>"
      ]
     },
     "metadata": {
      "needs_background": "light"
     },
     "output_type": "display_data"
    }
   ],
   "source": [
    "# distribucion normal sin scipy \n",
    "\n",
    "#Defino los parámetros.\n",
    "mu = 2\n",
    "sigma = 0.5\n",
    "N = 1000\n",
    "x = np.random.normal(mu, sigma)\n",
    "step = 0.5\n",
    "samples = []\n",
    "\n",
    "def f(x): \n",
    "    return (1/(sigma*np.sqrt(2*np.pi)))*(np.exp((-(x-mu)**2)/sigma))\n",
    "\n",
    "for i in range(N):\n",
    "    #genera pasos entre x\n",
    "    x_ = x + np.random.normal(0, step)\n",
    "    \n",
    "    #radio de aceptacion del algoritmo\n",
    "    acept = min(1, f(x_) / f(x))\n",
    "        \n",
    "    #Aceptar o rechazar el aceptar\n",
    "    if np.random.rand() < acept:\n",
    "        x = x_\n",
    "    \n",
    "    samples.append(x)\n",
    "    \n",
    "#Grafica\n",
    "x = np.linspace(mu - 4*sigma, mu + 4*sigma, 1000)\n",
    "y = norm.pdf(x, mu, sigma)\n",
    "\n",
    "fig, ax = plt.subplots()\n",
    "\n",
    "ax.hist(samples, bins=30, density=True, alpha=0.5, label='Muestras')\n",
    "ax.plot(x, y, label='Distribución normal')\n",
    "ax.set_xlabel('x')\n",
    "ax.set_ylabel('Densidad')\n",
    "ax.legend()\n",
    "plt.show()"
   ]
  },
  {
   "cell_type": "code",
   "execution_count": 115,
   "metadata": {},
   "outputs": [
    {
     "data": {
      "image/png": "[encoded data removed]",
      "text/plain": [
       "<Figure size 432x288 with 1 Axes>"
      ]
     },
     "metadata": {
      "needs_background": "light"
     },
     "output_type": "display_data"
    }
   ],
   "source": [
    "# distribucion cauchy sin scipy \n",
    "\n",
    "#Defino parámetros\n",
    "x0 = 0\n",
    "gamma = 1\n",
    "N = 1000\n",
    "step = 0.5\n",
    "x = 0\n",
    "samples = []\n",
    "\n",
    "def f(x): \n",
    "    return 1/(np.pi*(1+x**2)) \n",
    "\n",
    "for i in range(N):\n",
    "    #genera pasos entre x\n",
    "    x_ = x + np.random.normal(0, step)\n",
    "    \n",
    "    #radio de aceptacion del algoritmo\n",
    "    acept = min(1, f(x_) / f(x))\n",
    "        \n",
    "    #Aceptar o rechazar el aceptar\n",
    "    if np.random.rand() < acept:\n",
    "        x = x_\n",
    "    \n",
    "    samples.append(x)\n",
    "    \n",
    "#Distribución cauchy teórica\n",
    "x = np.linspace(-5, 5, 1000)\n",
    "y = cauchy.pdf(x, x0, gamma)\n",
    "\n",
    "fig, ax = plt.subplots()\n",
    "ax.hist(samples, bins=30, density=True, alpha=0.5, label='Muestras')\n",
    "ax.plot(x, y, label='Distribución de Cauchy')\n",
    "ax.set_xlabel('x')\n",
    "ax.set_ylabel('Densidad')\n",
    "ax.legend()\n",
    "plt.show()"
   ]
  },
  {
   "cell_type": "code",
   "execution_count": 120,
   "metadata": {},
   "outputs": [],
   "source": [
    "#a)\n",
    "url = 'https://raw.githubusercontent.com/asegura4488/Database/main/MetodosComputacionalesReforma/Gaussiano.csv'\n",
    "data = pd.read_csv(url)\n",
    "x = data['x'].values"
   ]
  },
  {
   "cell_type": "code",
   "execution_count": 121,
   "metadata": {},
   "outputs": [],
   "source": [
    "#b)\n",
    "def prior(mu, sigma):\n",
    "    if 3 <= mu <= 5 and 0.5 <= sigma <= 3.5:\n",
    "        return 1\n",
    "    else:\n",
    "        return 0"
   ]
  },
  {
   "cell_type": "code",
   "execution_count": 122,
   "metadata": {},
   "outputs": [],
   "source": [
    "#c)\n",
    "def likelihood(x, mu, sigma):\n",
    "    N = len(x)\n",
    "    L = 1\n",
    "    for i in range(N):\n",
    "        L *= (1 / np.sqrt(2 * np.pi * sigma**2)) * np.exp(-((mu - x[i])**2) / (2*sigma**2))\n",
    "    return L"
   ]
  },
  {
   "cell_type": "code",
   "execution_count": 123,
   "metadata": {},
   "outputs": [],
   "source": [
    "#d)\n",
    "def log_posterior(x, mu, sigma):\n",
    "    return np.log(likelihood(x, mu, sigma) * prior(mu, sigma))"
   ]
  },
  {
   "cell_type": "code",
   "execution_count": 146,
   "metadata": {},
   "outputs": [],
   "source": [
    "#e)\n",
    "#mu_actual = mu_0\n",
    "#sigma_current = sig_0\n",
    "#log_posterior_current = log_actual\n",
    "#mu_samples = mu_s\n",
    "#sigma_samples = sig_s\n",
    "#mu_proposal = mu_p\n",
    "#sigma_proposal = sig_p\n",
    "#log_posterior_proposal = log_propp\n",
    "\n",
    "\n",
    "def metropolis(x, N=2000):\n",
    "    mu_0 = np.random.uniform(3, 5)\n",
    "    sig_0 = np.random.uniform(0.5, 3.5)\n",
    "    log_actual = log_posterior(x, mu_0, sig_0)\n",
    "    \n",
    "    mu_s = [mu_0]\n",
    "    sig_s = [sig_0]\n",
    "    \n",
    "    for i in range(N):\n",
    "        mu_p = np.random.normal(mu_0, 0.1)\n",
    "        sig_p = np.random.normal(sig_0, 0.1)\n",
    "        log_propp = log_posterior(x, mu_p, sig_p)\n",
    "        \n",
    "        if log_propp > log_actual:\n",
    "            mu_0 = mu_p\n",
    "            sig_0 = sig_p\n",
    "            log_actual = log_propp\n",
    "            \n",
    "        else:\n",
    "            p_accept = np.exp(log_propp - log_actual)\n",
    "            \n",
    "            if np.random.uniform() < p_accept:\n",
    "                mu_0 = mu_p\n",
    "                sig_0 = sig_p\n",
    "                log_actual = log_propp\n",
    "                \n",
    "        mu_s.append(mu_0)\n",
    "        sig_s.append(sig_0)\n",
    "    \n",
    "    return mu_s, sig_s"
   ]
  },
  {
   "cell_type": "code",
   "execution_count": 159,
   "metadata": {},
   "outputs": [
    {
     "name": "stdout",
     "output_type": "stream",
     "text": [
      "1.8258285146065152\n",
      "El mejor valor de los parámetros respectivamente son \\mu:\n"
     ]
    }
   ],
   "source": [
    "#f)\n",
    "mu_samples, sigma_samples = metropolis(x)\n",
    "#f)Usando lo de la clase \n",
    "mu_hat = np.percentile(mu_samples,50)\n",
    "\n",
    "sigma_hat = np.percentile(sigma_samples,50)\n",
    "\n",
    "print(sigma_hat)\n",
    "print(\"El mejor valor de los parámetros respectivamente son\")"
   ]
  },
  {
   "cell_type": "code",
   "execution_count": 156,
   "metadata": {},
   "outputs": [],
   "source": [
    "#g)\n",
    "# Calcular el intervalo de confianza del 68%\n",
    "mu_lower = np.percentile(mu_samples, 16)\n",
    "mu_upper = np.percentile(mu_samples, 84)\n",
    "sigma_lower = np.percentile(sigma_samples, 16)\n",
    "sigma_upper = np.percentile(sigma_samples, 84)\n",
    "\n",
    "# Calcular los errores inferiores y superiores\n",
    "mu_error_lower = mu_hat - mu_lower\n",
    "mu_error_upper = mu_upper - mu_hat\n",
    "sigma_error_lower = sigma_hat - sigma_lower\n",
    "sigma_error_upper = sigma_upper - sigma_hat"
   ]
  },
  {
   "cell_type": "code",
   "execution_count": 157,
   "metadata": {},
   "outputs": [
    {
     "data": {
      "image/png": "[encoded data removed]",
      "text/plain": [
       "<Figure size 432x288 with 1 Axes>"
      ]
     },
     "metadata": {
      "needs_background": "light"
     },
     "output_type": "display_data"
    }
   ],
   "source": [
    "#Generar valores para la distribución normal ajustada\n",
    "x_values = np.linspace(mu_hat - 4*sigma_hat, mu_hat + 4*sigma_hat, 1000)\n",
    "y_values = norm.pdf(x_values, mu_hat, sigma_hat)\n",
    "\n",
    "\n",
    "fig, ax = plt.subplots()\n",
    "ax.hist(x, bins=30, density=True, alpha=0.5, label='Datos')\n",
    "ax.plot(x_values, y_values, label='Distribución normal ajustada')\n",
    "\n",
    "ax.set_xlabel('x')\n",
    "ax.set_ylabel('Densidad de probabilidad')\n",
    "ax.legend()\n",
    "plt.show()"
   ]
  }
 ],
 "metadata": {
  "kernelspec": {
   "display_name": "base",
   "language": "python",
   "name": "python3"
  },
  "language_info": {
   "codemirror_mode": {
    "name": "ipython",
    "version": 3
   },
   "file_extension": ".py",
   "mimetype": "text/x-python",
   "name": "python",
   "nbconvert_exporter": "python",
   "pygments_lexer": "ipython3",
   "version": "3.9.7"
  },
  "orig_nbformat": 4
 },
 "nbformat": 4,
 "nbformat_minor": 2
}
