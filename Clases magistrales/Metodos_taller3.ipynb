{
 "cells": [
  {
   "cell_type": "code",
   "execution_count": 481,
   "metadata": {},
   "outputs": [],
   "source": [
    "import numpy as np\n",
    "import sympy as sym\n",
    "import matplotlib.pyplot as plt\n",
    "from mpl_toolkits.mplot3d import Axes3D\n",
    "import pandas as pd\n",
    "\n",
    "import os\n",
    "import os.path as path\n",
    "import wget"
   ]
  },
  {
   "cell_type": "code",
   "execution_count": 482,
   "metadata": {},
   "outputs": [
    {
     "name": "stdout",
     "output_type": "stream",
     "text": [
      "El resultado de la multiplicación entre las matrices dadas es:\n",
      " [[ 4 -2  1]\n",
      " [20 -7 12]\n",
      " [-8 13 21]]\n"
     ]
    }
   ],
   "source": [
    "A = np.array([[1,0,0],[5,1,0],[-2,3,1]])\n",
    "B = np.array([[4,-2,1],[0,3,7],[0,0,2]])\n",
    "\n",
    "\n",
    "#3,4,7,9\n",
    "\n",
    "#3\n",
    "def GetMultiplication(A,B):\n",
    "    matrix_column = []\n",
    "    for i in range(len(B)):\n",
    "        column = []\n",
    "        for j in range(len(B)): \n",
    "            column.append(B[j][i])\n",
    "        matrix_column.append(column)\n",
    "    \n",
    "\n",
    "    multiplication_matrix =[]\n",
    "    for k in A:\n",
    "        new_matrix = []\n",
    "        for w in matrix_column:\n",
    "            new_matrix.append(np.dot(k,w))\n",
    "        multiplication_matrix.append(new_matrix)\n",
    "        \n",
    "    return np.array(multiplication_matrix)\n",
    "\n",
    "print(\"El resultado de la multiplicación entre las matrices dadas es:\\n {}\".format(GetMultiplication(A,B)))"
   ]
  },
  {
   "attachments": {},
   "cell_type": "markdown",
   "metadata": {},
   "source": [
    "**4)Teorico**\n",
    "\n",
    "Este método de sustitución hacia delante se usa especialmente para solucionar sistemas de la forma $Lx = b$ donde es posible L es la matriz triangular inferior que sale al factorizar una matriz A. Así, sea el sistema de solución de matrices dado por,\n",
    "\n",
    "$$ \\begin{bmatrix}\n",
    "l_{11} & 0 & 0  \\\\\n",
    "l_{21} & l_{22} & 0  \\\\\n",
    "l_{31} & l_{32} & l_{33}  \\\\\n",
    "\n",
    "\\end{bmatrix} \n",
    "\\begin{bmatrix}\n",
    "x_1  \\\\\n",
    "x_2  \\\\\n",
    "x_3 \n",
    "\\end{bmatrix} \n",
    "= \n",
    "\\begin{bmatrix}\n",
    "b_1  \\\\\n",
    "b_2  \\\\\n",
    "b_3 \n",
    "\\end{bmatrix} \n",
    "$$\n",
    "\n",
    "La solución para la primera variable sería de la forma,\n",
    "\n",
    "$$ L_{11} x_1 = b_1 \\rightarrow x_1 = \\frac{b_1}{L_{11}} $$\n",
    "\n",
    "La solución para la segunda variable sería de la forma,\n",
    "\n",
    "$$ L_{21} x_1 + L_{22} x_2 = b_2 $$\n",
    "\n",
    "Sustituyendo $x_1$ y despejando la para $x_2$ obtenemos que,\n",
    "\n",
    "$$ x_2 = \\frac{b_2 - L_{21} (b_1/L_{11})}{L_{22}} $$\n",
    "\n",
    "Para la solución de la tercera variable obtenemos que,\n",
    "$$ L_{33}  x_3 + L_{31} x_1 + L_{32}  x_2 = b_3 $$\n",
    "\n",
    "Como podemos observar la i-ésima solución dependerá de las soluciones anteriores, por lo que la sumatoria se puede escribir de la forma, \n",
    "\n",
    "$$ b_i =  \\sum_{j=1}^{i} A_{ij}  x_j $$\n",
    "\n",
    "Sin embargo, si queremos despejar la variable i-ésima, debemos de cambiar los índices de la sumatoria y extraer el término de que deseamos,\n",
    "\n",
    "$$ b_i =  L_{ii} x_i + \\sum_{j=0}^{i-1} A_{ij}  x_j \\rightarrow L_{ii}x_i = b_i - \\sum_{j=0}^{i-1} A_{ij}  x_j$$\n",
    "\n",
    "En este caso, la matriz factorizada L tiene la particularidad que su diagonal está compuesta solo por números uno. Por lo que nuestra ecuacion queda reducida a,\n",
    "\n",
    "$$ x_i = b_i -  \\sum_{j=0}^{i-1} A_{ij}  x_j $$\n",
    "\n",
    "Y así queda mostrada la ecuación del enunciado para el método de sustitución hacia atrás."
   ]
  },
  {
   "cell_type": "code",
   "execution_count": 483,
   "metadata": {},
   "outputs": [
    {
     "name": "stdout",
     "output_type": "stream",
     "text": [
      "Dada la matriz  A su respectiva factorización es: \n",
      " L: \n",
      " [[ 1.  0.  0.]\n",
      " [ 5.  1.  0.]\n",
      " [-2.  3.  1.]] \n",
      " U: \n",
      " [[ 4. -2.  1.]\n",
      " [ 0.  3.  7.]\n",
      " [ 0.  0. -2.]]\n"
     ]
    }
   ],
   "source": [
    "#7\n",
    "def FactorizationLU(m):\n",
    "    A = np.array(m)\n",
    "    n = A.shape[0]\n",
    "    L = np.zeros((n,n))\n",
    "    U = np.zeros((n,n))\n",
    "    \n",
    "    for j in range(n):\n",
    "        L[j][j] = 1.0\n",
    "        \n",
    "        for i in range(j+1,n):\n",
    "            L[i][j] = A[i][j] / A[j][j]\n",
    "            \n",
    "            for k in range(j+1,n):\n",
    "                A[i][k] = A[i][k] - L[i][j]*A[j][k]\n",
    "                \n",
    "        for k in range(j,n):\n",
    "            U[j][k] = A[j][k]\n",
    "    \n",
    "    return L,U\n",
    "\n",
    "M = np.array([[4,-2,1],[20,-7,12],[-8,13,17]])\n",
    "L,U = FactorizationLU(M)\n",
    "\n",
    "print(\"Dada la matriz  A su respectiva factorización es: \\n L: \\n {} \\n U: \\n {}\".format(L,U))"
   ]
  },
  {
   "cell_type": "code",
   "execution_count": 484,
   "metadata": {},
   "outputs": [
    {
     "name": "stdout",
     "output_type": "stream",
     "text": [
      "Los valores propios de la matriz son [6.89510652 3.39729507 1.70759841] \n",
      " y sus repectivos vectores propios:\n",
      " [[ 0.43170413  0.88573564  0.17059871]\n",
      " [ 0.49725362 -0.07589338 -0.86427949]\n",
      " [ 0.75257583 -0.45794385  0.47319874]]\n"
     ]
    }
   ],
   "source": [
    "#9 usando funciones raras de numpy y arctan2\n",
    "\n",
    "def GetJacobiEig(A, it=1000):\n",
    "    #Definir dimension y matrices necesarias.\n",
    "    n = A.shape[0]\n",
    "    #Matriz para los valores propios.\n",
    "    D = A.copy()\n",
    "    #Matriz para los vectores propios.\n",
    "    B = -np.eye(n)\n",
    "     \n",
    "    #Encontrar los índices del máximo elemento no diagonal. \n",
    "    for k in range(it):\n",
    "        max_index = (0, 0)\n",
    "        max_value = 0\n",
    "        for i in range(n):\n",
    "            for j in range(i+1, n):\n",
    "                value = np.abs(D[i][j])\n",
    "                if value > max_value:\n",
    "                    max_value = value\n",
    "                    max_index = (i,j)\n",
    "        \n",
    "        #Indice de la fila.          \n",
    "        i = max_index[0]\n",
    "        #Indice de la columna.\n",
    "        j = max_index[1]\n",
    "\n",
    "        #Se calcula el ángulo de rotación teniendo en cuenta los signos del cuadrante.\n",
    "        if D[i][i] == D[j][j]:\n",
    "            theta = np.pi / 4\n",
    "        else:\n",
    "            t = (2 * D[i][j]) / (D[j][j] - D[i][i]) \n",
    "            if t >= 0:\n",
    "                theta = 0.5 * np.tan(t)\n",
    "            else:\n",
    "                theta = 0.5 * np.tan(t) + np.pi\n",
    "        \n",
    "        #Se asignan los valores para la matriz de rotación.\n",
    "        R = np.eye(n)\n",
    "        R[i][i] = np.cos(theta)\n",
    "        R[j][j] = np.cos(theta)\n",
    "        R[i][j] = np.sin(theta)\n",
    "        R[j][i] = -np.sin(theta)\n",
    "\n",
    "        #Se actualizan las matrices D y B\n",
    "        #Para los valores propios será el producto punto entre la transpuesta de R, y el producto punto de D y R.\n",
    "        D = np.dot(R.T, np.dot(D, R))\n",
    "        #Para los vectores propios será el producto punto de la matriz B existente y R.\n",
    "        B = np.dot(B, R)\n",
    "\n",
    "\n",
    "    #Los valores propios serán la diagonal de la matriz D.\n",
    "    eigen_values = np.diag(D)\n",
    "    #Los vectores propios serán la matriz B.\n",
    "    eigen_vectors = B\n",
    "\n",
    "    return eigen_values, eigen_vectors\n",
    "\n",
    "C = np.array([[4,1,1],[1,3,2],[1,2,5]])\n",
    "values,vectors = GetJacobiEig(C)\n",
    "print(\"Los valores propios de la matriz son {} \\n y sus repectivos vectores propios:\\n {}\".format(values,vectors))"
   ]
  },
  {
   "cell_type": "code",
   "execution_count": 485,
   "metadata": {},
   "outputs": [
    {
     "data": {
      "text/plain": [
       "(array([6.89510652, 3.39729507, 1.70759841]),\n",
       " array([[ 0.43170413,  0.88573564,  0.17059871],\n",
       "        [ 0.49725362, -0.07589338, -0.86427949],\n",
       "        [ 0.75257583, -0.45794385,  0.47319874]]))"
      ]
     },
     "execution_count": 485,
     "metadata": {},
     "output_type": "execute_result"
    }
   ],
   "source": [
    "\n",
    "np.linalg.eig(C)"
   ]
  },
  {
   "attachments": {},
   "cell_type": "markdown",
   "metadata": {},
   "source": [
    "**15** Dadas las matrices de Dirac se puede comprobar la propiedad anticonmutación, dicha propiedad asegura que se genere una representación matricial en el álgebra de Clifford dada por la siguiente relación:\n",
    "\n",
    "$$ \\gamma^u \\gamma^v + \\gamma^v \\gamma^u = 2\\mu^{uv} I_{4x4} \\rightarrow \\mu^{uv} = diag(1,-1,-1,-1)$$\n",
    "\n",
    "Para comprobar la anterior relación, tomaremos dos casos específicos, cuando $u\\neq v$ y $u=v$ . Para el primer caso, podemos observar que sin importar el orden de los índices, el resultado obtenido es la matriz cero."
   ]
  },
  {
   "cell_type": "code",
   "execution_count": 486,
   "metadata": {},
   "outputs": [],
   "source": [
    "i = sym.Symbol('i')\n",
    "gamma_zero = np.array([[1,0,0,0],[0,1,0,0],[0,0,-1,0],[0,0,0,-1]])\n",
    "gamma_one = np.array([[0,0,0,1],[0,0,1,0],[0,-1,0,0],[-1,0,0,0]])\n",
    "gamma_two = np.array([[0,0,0,-i],[0,0,i,0],[0,i,0,0],[-i,0,0,0]])\n",
    "gamma_three = np.array([[0,0,1,0],[0,0,0,-1],[-1,0,0,0],[0,1,0,0]])\n",
    "\n",
    "def GetRelation(a,b):\n",
    "    z = GetMultiplication(a,b) + GetMultiplication(b,a)\n",
    "    return sym.Matrix(z)"
   ]
  },
  {
   "cell_type": "code",
   "execution_count": 487,
   "metadata": {},
   "outputs": [
    {
     "name": "stdout",
     "output_type": "stream",
     "text": [
      "Para gamma^0 y gamma^1 obtenemos:\n"
     ]
    },
    {
     "data": {
      "text/latex": [
       "$\\displaystyle \\left[\\begin{matrix}0 & 0 & 0 & 0\\\\0 & 0 & 0 & 0\\\\0 & 0 & 0 & 0\\\\0 & 0 & 0 & 0\\end{matrix}\\right]$"
      ],
      "text/plain": [
       "Matrix([\n",
       "[0, 0, 0, 0],\n",
       "[0, 0, 0, 0],\n",
       "[0, 0, 0, 0],\n",
       "[0, 0, 0, 0]])"
      ]
     },
     "execution_count": 487,
     "metadata": {},
     "output_type": "execute_result"
    }
   ],
   "source": [
    "one = GetRelation(gamma_zero,gamma_one)\n",
    "print(\"Para gamma^0 y gamma^1 obtenemos:\")\n",
    "one"
   ]
  },
  {
   "cell_type": "code",
   "execution_count": 488,
   "metadata": {},
   "outputs": [
    {
     "name": "stdout",
     "output_type": "stream",
     "text": [
      "Para gamma^0 y gamma^2 obtenemos:\n"
     ]
    },
    {
     "data": {
      "text/latex": [
       "$\\displaystyle \\left[\\begin{matrix}0 & 0 & 0 & 0\\\\0 & 0 & 0 & 0\\\\0 & 0 & 0 & 0\\\\0 & 0 & 0 & 0\\end{matrix}\\right]$"
      ],
      "text/plain": [
       "Matrix([\n",
       "[0, 0, 0, 0],\n",
       "[0, 0, 0, 0],\n",
       "[0, 0, 0, 0],\n",
       "[0, 0, 0, 0]])"
      ]
     },
     "execution_count": 488,
     "metadata": {},
     "output_type": "execute_result"
    }
   ],
   "source": [
    "one = GetRelation(gamma_zero,gamma_two)\n",
    "print(\"Para gamma^0 y gamma^2 obtenemos:\")\n",
    "one"
   ]
  },
  {
   "cell_type": "code",
   "execution_count": 489,
   "metadata": {},
   "outputs": [
    {
     "name": "stdout",
     "output_type": "stream",
     "text": [
      "Para gamma^0 y gamma^3 obtenemos:\n"
     ]
    },
    {
     "data": {
      "text/latex": [
       "$\\displaystyle \\left[\\begin{matrix}0 & 0 & 0 & 0\\\\0 & 0 & 0 & 0\\\\0 & 0 & 0 & 0\\\\0 & 0 & 0 & 0\\end{matrix}\\right]$"
      ],
      "text/plain": [
       "Matrix([\n",
       "[0, 0, 0, 0],\n",
       "[0, 0, 0, 0],\n",
       "[0, 0, 0, 0],\n",
       "[0, 0, 0, 0]])"
      ]
     },
     "execution_count": 489,
     "metadata": {},
     "output_type": "execute_result"
    }
   ],
   "source": [
    "one = GetRelation(gamma_zero,gamma_three)\n",
    "print(\"Para gamma^0 y gamma^3 obtenemos:\")\n",
    "one"
   ]
  },
  {
   "cell_type": "code",
   "execution_count": 490,
   "metadata": {},
   "outputs": [
    {
     "name": "stdout",
     "output_type": "stream",
     "text": [
      "Para gamma^1 y gamma^2 obtenemos:\n"
     ]
    },
    {
     "data": {
      "text/latex": [
       "$\\displaystyle \\left[\\begin{matrix}0 & 0 & 0 & 0\\\\0 & 0 & 0 & 0\\\\0 & 0 & 0 & 0\\\\0 & 0 & 0 & 0\\end{matrix}\\right]$"
      ],
      "text/plain": [
       "Matrix([\n",
       "[0, 0, 0, 0],\n",
       "[0, 0, 0, 0],\n",
       "[0, 0, 0, 0],\n",
       "[0, 0, 0, 0]])"
      ]
     },
     "execution_count": 490,
     "metadata": {},
     "output_type": "execute_result"
    }
   ],
   "source": [
    "one = GetRelation(gamma_one,gamma_two)\n",
    "print(\"Para gamma^1 y gamma^2 obtenemos:\")\n",
    "one"
   ]
  },
  {
   "cell_type": "code",
   "execution_count": 491,
   "metadata": {},
   "outputs": [
    {
     "name": "stdout",
     "output_type": "stream",
     "text": [
      "Para gamma^1 y gamma^3 obtenemos:\n"
     ]
    },
    {
     "data": {
      "text/latex": [
       "$\\displaystyle \\left[\\begin{matrix}0 & 0 & 0 & 0\\\\0 & 0 & 0 & 0\\\\0 & 0 & 0 & 0\\\\0 & 0 & 0 & 0\\end{matrix}\\right]$"
      ],
      "text/plain": [
       "Matrix([\n",
       "[0, 0, 0, 0],\n",
       "[0, 0, 0, 0],\n",
       "[0, 0, 0, 0],\n",
       "[0, 0, 0, 0]])"
      ]
     },
     "execution_count": 491,
     "metadata": {},
     "output_type": "execute_result"
    }
   ],
   "source": [
    "one = GetRelation(gamma_one,gamma_three)\n",
    "print(\"Para gamma^1 y gamma^3 obtenemos:\")\n",
    "one"
   ]
  },
  {
   "cell_type": "code",
   "execution_count": 492,
   "metadata": {},
   "outputs": [
    {
     "name": "stdout",
     "output_type": "stream",
     "text": [
      "Para gamma^2 y gamma^3 obtenemos:\n"
     ]
    },
    {
     "data": {
      "text/latex": [
       "$\\displaystyle \\left[\\begin{matrix}0 & 0 & 0 & 0\\\\0 & 0 & 0 & 0\\\\0 & 0 & 0 & 0\\\\0 & 0 & 0 & 0\\end{matrix}\\right]$"
      ],
      "text/plain": [
       "Matrix([\n",
       "[0, 0, 0, 0],\n",
       "[0, 0, 0, 0],\n",
       "[0, 0, 0, 0],\n",
       "[0, 0, 0, 0]])"
      ]
     },
     "execution_count": 492,
     "metadata": {},
     "output_type": "execute_result"
    }
   ],
   "source": [
    "one = GetRelation(gamma_two,gamma_three)\n",
    "print(\"Para gamma^2 y gamma^3 obtenemos:\")\n",
    "one"
   ]
  },
  {
   "attachments": {},
   "cell_type": "markdown",
   "metadata": {},
   "source": [
    "Con respecto al segundo caso, se puede observar que para la matriz $\\gamma^0$ la relación da como resultado $2\\mathbb{I}_{4x4}$. En cambio, para el resto de índices el resultado es $-2\\mathbb{I}_{4x4}$ donde $\\mathbb{I}$ es la matriz identidad."
   ]
  },
  {
   "cell_type": "code",
   "execution_count": 493,
   "metadata": {},
   "outputs": [
    {
     "name": "stdout",
     "output_type": "stream",
     "text": [
      "Para gamma^0 obtenemos:\n"
     ]
    },
    {
     "data": {
      "text/latex": [
       "$\\displaystyle \\left[\\begin{matrix}2 & 0 & 0 & 0\\\\0 & 2 & 0 & 0\\\\0 & 0 & 2 & 0\\\\0 & 0 & 0 & 2\\end{matrix}\\right]$"
      ],
      "text/plain": [
       "Matrix([\n",
       "[2, 0, 0, 0],\n",
       "[0, 2, 0, 0],\n",
       "[0, 0, 2, 0],\n",
       "[0, 0, 0, 2]])"
      ]
     },
     "execution_count": 493,
     "metadata": {},
     "output_type": "execute_result"
    }
   ],
   "source": [
    "one = GetRelation(gamma_zero,gamma_zero)\n",
    "print(\"Para gamma^0 obtenemos:\")\n",
    "one"
   ]
  },
  {
   "cell_type": "code",
   "execution_count": 494,
   "metadata": {},
   "outputs": [
    {
     "name": "stdout",
     "output_type": "stream",
     "text": [
      "Para gamma^1 obtenemos:\n"
     ]
    },
    {
     "data": {
      "text/latex": [
       "$\\displaystyle \\left[\\begin{matrix}-2 & 0 & 0 & 0\\\\0 & -2 & 0 & 0\\\\0 & 0 & -2 & 0\\\\0 & 0 & 0 & -2\\end{matrix}\\right]$"
      ],
      "text/plain": [
       "Matrix([\n",
       "[-2,  0,  0,  0],\n",
       "[ 0, -2,  0,  0],\n",
       "[ 0,  0, -2,  0],\n",
       "[ 0,  0,  0, -2]])"
      ]
     },
     "execution_count": 494,
     "metadata": {},
     "output_type": "execute_result"
    }
   ],
   "source": [
    "one = GetRelation(gamma_one,gamma_one)\n",
    "print(\"Para gamma^1 obtenemos:\")\n",
    "one"
   ]
  },
  {
   "cell_type": "code",
   "execution_count": 495,
   "metadata": {},
   "outputs": [
    {
     "name": "stdout",
     "output_type": "stream",
     "text": [
      "Para gamma^2 obtenemos:\n"
     ]
    },
    {
     "data": {
      "text/latex": [
       "$\\displaystyle \\left[\\begin{matrix}2 i^{2} & 0 & 0 & 0\\\\0 & 2 i^{2} & 0 & 0\\\\0 & 0 & 2 i^{2} & 0\\\\0 & 0 & 0 & 2 i^{2}\\end{matrix}\\right]$"
      ],
      "text/plain": [
       "Matrix([\n",
       "[2*i**2,      0,      0,      0],\n",
       "[     0, 2*i**2,      0,      0],\n",
       "[     0,      0, 2*i**2,      0],\n",
       "[     0,      0,      0, 2*i**2]])"
      ]
     },
     "execution_count": 495,
     "metadata": {},
     "output_type": "execute_result"
    }
   ],
   "source": [
    "one = GetRelation(gamma_two,gamma_two)\n",
    "print(\"Para gamma^2 obtenemos:\")\n",
    "one"
   ]
  },
  {
   "cell_type": "code",
   "execution_count": 496,
   "metadata": {},
   "outputs": [
    {
     "name": "stdout",
     "output_type": "stream",
     "text": [
      "Para gamma^3 obtenemos:\n"
     ]
    },
    {
     "data": {
      "text/latex": [
       "$\\displaystyle \\left[\\begin{matrix}-2 & 0 & 0 & 0\\\\0 & -2 & 0 & 0\\\\0 & 0 & -2 & 0\\\\0 & 0 & 0 & -2\\end{matrix}\\right]$"
      ],
      "text/plain": [
       "Matrix([\n",
       "[-2,  0,  0,  0],\n",
       "[ 0, -2,  0,  0],\n",
       "[ 0,  0, -2,  0],\n",
       "[ 0,  0,  0, -2]])"
      ]
     },
     "execution_count": 496,
     "metadata": {},
     "output_type": "execute_result"
    }
   ],
   "source": [
    "one = GetRelation(gamma_three,gamma_three)\n",
    "print(\"Para gamma^3 obtenemos:\")\n",
    "one"
   ]
  },
  {
   "attachments": {},
   "cell_type": "markdown",
   "metadata": {},
   "source": [
    "Dados estos resultados, se puede representar dicha relación de anticonmutación en una matriz cuyas filas y columnas estarán determinados por los índices de las matrices $u$ y $v$ respectivamente como se muestra a continuación,\n",
    "\n",
    "$$\\begin{bmatrix}\n",
    "(\\gamma^0,\\gamma^0) & (\\gamma^0,\\gamma^1) & (\\gamma^0,\\gamma^2) & (\\gamma^0,\\gamma^3) \\\\\n",
    "(\\gamma^1,\\gamma^0) & (\\gamma^1,\\gamma^1) & (\\gamma^1,\\gamma^2) & (\\gamma^1,\\gamma^3) \\\\\n",
    "(\\gamma^2,\\gamma^0) & (\\gamma^2,\\gamma^1) & (\\gamma^2,\\gamma^2) & (\\gamma^2,\\gamma^3) \\\\\n",
    "(\\gamma^3,\\gamma^0) & (\\gamma^3,\\gamma^1) & (\\gamma^3,\\gamma^2) & (\\gamma^3,\\gamma^3) \n",
    "\\end{bmatrix}\n",
    "\\rightarrow\n",
    "\\begin{bmatrix}\n",
    "1 & 0 & 0 & 0 \\\\\n",
    "0 & -1 & 0 & 0 \\\\\n",
    "0 & 0 & -1 & 0 \\\\\n",
    "0 & 0 & 0 & -1 \n",
    "\\end{bmatrix}$$\n",
    "\n",
    "Como podemos observar, la diagonal de dicha representación matricial corresponde a la métrica de Minkowsky, así podemos escribir la relación de anticonmutación como,\n",
    "\n",
    "$$ \\gamma^u \\gamma^v + \\gamma^v \\gamma^u = 2\\mu^{uv} I_{4x4} \\rightarrow \\mu^{uv} = diag(1,-1,-1,-1) $$\n",
    "\n",
    "Por lo que queda verificada que la anterior relación cumple con el álgebra de Clifford.\n"
   ]
  },
  {
   "cell_type": "code",
   "execution_count": 598,
   "metadata": {},
   "outputs": [
    {
     "name": "stdout",
     "output_type": "stream",
     "text": [
      "El punto solucón para el sistema de ecuaciones es: [1.42857143 0.42857143]\n"
     ]
    }
   ],
   "source": [
    "#segunda parte 1,7\n",
    "#1,a\n",
    "A = np.array([[2.,-1.],[1.,2.],[1.,1.]])\n",
    "b = np.array([2.,1.,4.])\n",
    "\n",
    "M = np.dot(A.T,A)\n",
    "n = np.dot(A.T,b)\n",
    "\n",
    "#En esta parte del código se solucionará el sistema hallado Mx* = b.\n",
    "x0 = np.array([0.,0.])\n",
    "\n",
    "def Jacobi(A,b,x0, itmax=1000, tolerancia= 1e-9):\n",
    "    x = x0.copy()\n",
    "    for it in range(itmax):\n",
    "        xn = np.zeros_like(x0)\n",
    "        for i in range(A.shape[0]):\n",
    "            sum_ = 0.\n",
    "            for j in range(A.shape[1]):\n",
    "                if j!=i:\n",
    "                    sum_ += A[i,j]*x[j] \n",
    "            xn[i] = (b[i] - sum_)/A[i,i]\n",
    "        residuo = np.linalg.norm( np.dot(A,xn) - b )\n",
    "        x = xn.copy()\n",
    "        if np.allclose(residuo,tolerancia,atol=tolerancia):\n",
    "            break\n",
    "    return x\n",
    "  \n",
    "solution = Jacobi(M,n,x0)\n",
    "print(\"El punto solucón para el sistema de ecuaciones es: {}\".format(solution))\n"
   ]
  },
  {
   "cell_type": "code",
   "execution_count": 638,
   "metadata": {},
   "outputs": [
    {
     "data": {
      "image/png": "[encoded data removed]",
      "text/plain": [
       "<Figure size 432x288 with 1 Axes>"
      ]
     },
     "metadata": {
      "needs_background": "light"
     },
     "output_type": "display_data"
    }
   ],
   "source": [
    "X = np.arange(-5., 5., 0.01)\n",
    "Y = np.arange(-5., 5., 0.01)\n",
    "\n",
    "y1 = (2*X) -2\n",
    "y2 = (1 - X)/2\n",
    "y3 = 4-X    \n",
    "\n",
    "plt.plot(X, y1,color='m',label='2x-y=2')\n",
    "plt.plot(X, y2,color='c',label='x+2y=1')\n",
    "plt.plot(X, y3,color='g',label='x+y=4')\n",
    "plt.scatter(solution[0],solution[1],color='k',label='Punto solución')\n",
    "plt.xlabel('x')\n",
    "plt.ylabel('y')\n",
    "plt.legend()\n",
    "plt.show()\n"
   ]
  },
  {
   "cell_type": "code",
   "execution_count": 607,
   "metadata": {},
   "outputs": [
    {
     "data": {
      "image/png": "[encoded data removed]",
      "text/plain": [
       "<Figure size 432x288 with 1 Axes>"
      ]
     },
     "metadata": {
      "needs_background": "light"
     },
     "output_type": "display_data"
    }
   ],
   "source": [
    "#En esta parte del código se hallarán las distancias mínimas.\n",
    "Z = np.zeros((len(X), len(Y)))\n",
    "\n",
    "for i in range(len(X)):\n",
    "    for j in range(len(Y)):\n",
    "        distance = np.linalg.norm(np.dot(A ,np.array([X[i],Y[j]]))-b)\n",
    "        Z[i][j] = distance\n",
    "\n",
    "fig = plt.figure()\n",
    "ax = fig.add_subplot(111, projection='3d')\n",
    "X, Y = np.meshgrid(X, Y)\n",
    "ax.plot_surface(X, Y, Z, cmap='coolwarm')\n",
    "ax.set_xlabel('x')\n",
    "ax.set_ylabel('y')\n",
    "ax.set_zlabel('Distancia')\n",
    "ax.view_init(elev=30, azim=45)\n",
    "plt.show()\n"
   ]
  },
  {
   "cell_type": "code",
   "execution_count": 640,
   "metadata": {},
   "outputs": [
    {
     "data": {
      "image/png": "[encoded data removed]",
      "text/plain": [
       "<Figure size 432x288 with 1 Axes>"
      ]
     },
     "metadata": {
      "needs_background": "light"
     },
     "output_type": "display_data"
    }
   ],
   "source": [
    "#Carga de datos.\n",
    "url = 'https://raw.githubusercontent.com/asegura4488/Database/main/MetodosComputacionalesReforma/Sigmoid.csv'\n",
    "data = pd.read_csv(url)\n",
    "\n",
    "plt.scatter(data['x'], data['y'])\n",
    "plt.xlabel('x')\n",
    "plt.ylabel('y')\n",
    "plt.show()"
   ]
  },
  {
   "cell_type": "code",
   "execution_count": 641,
   "metadata": {},
   "outputs": [],
   "source": [
    "#Variables.\n",
    "theta_0 = sym.symbols(\"theta_0\", real=True)\n",
    "theta_1 = sym.symbols(\"theta_1\", real=True)\n",
    "theta_2 = sym.symbols(\"theta_2\", real=True)\n",
    "x = sym.symbols(\"x\", real=True)\n",
    "\n",
    "#Datos.\n",
    "X = np.array(data['x'])\n",
    "Y = np.array(data['y'])\n",
    "\n",
    "#Parámetros.\n",
    "theta = np.array([1., 1., 1.])\n",
    "r = 1e-3\n",
    "e = 0.01\n",
    "it = 10000"
   ]
  },
  {
   "cell_type": "code",
   "execution_count": 642,
   "metadata": {},
   "outputs": [],
   "source": [
    "#a)\n",
    "def M():\n",
    "  return theta_0 / (theta_1 + sym.exp(-theta_2*x))"
   ]
  },
  {
   "cell_type": "code",
   "execution_count": 643,
   "metadata": {},
   "outputs": [],
   "source": [
    "#b)\n",
    "def X2(x, y,theta):\n",
    "    return np.sum((y - M(x, theta))**2)"
   ]
  },
  {
   "attachments": {},
   "cell_type": "markdown",
   "metadata": {},
   "source": [
    "c) Sea la función de costo $X^2(\\vec{\\theta})$ y al ser la derivada un operador lineal, podemos ingresar dicho operador y derivar dentro de la sumatoria aplicando regla de la cadena.\n",
    "\n",
    "$$\n",
    "\\frac{\\partial X^2(\\vec{\\theta})}{\\partial \\theta_i} = \\sum_{i=1}^N \\frac{\\partial}{\\partial \\theta_i} (y_i - M(x_i,\\vec{\\theta}))^2$$\n",
    "\n",
    "$$ \\frac{\\partial X^2(\\vec{\\theta})}{\\partial \\theta_i} = \\sum_{i=1}^N (2) (y_i - M(x_i,\\vec{\\theta})) \\Big( -\\frac{\\partial M(x_i,\\vec{\\theta})}{\\partial \\theta_i}\\Big) = -2\\sum_{i=1}^N (y_i - M(x_i,\\vec{\\theta})) \\frac{\\partial M(x_i,\\vec{\\theta})}{\\partial \\theta_i}$$\n",
    "\n",
    "Y así queda mostrado que las derivadas parciales están dadas por dicha expresión."
   ]
  },
  {
   "cell_type": "code",
   "execution_count": 644,
   "metadata": {},
   "outputs": [],
   "source": [
    "#Gradiente con respecto a theta.\n",
    "def Gradient_M():\n",
    "  M_d0_ = sym.lambdify([x,theta_0,theta_1,theta_2], sym.diff(M(), theta_0))\n",
    "  M_d1_ = sym.lambdify([x,theta_0,theta_1,theta_2], sym.diff(M(), theta_1))\n",
    "  M_d2_ = sym.lambdify([x,theta_0,theta_1,theta_2], sym.diff(M(), theta_2))\n",
    "\n",
    "  return M_d0_, M_d1_, M_d2_"
   ]
  },
  {
   "cell_type": "code",
   "execution_count": 645,
   "metadata": {},
   "outputs": [],
   "source": [
    "#Implementación del método.\n",
    "def DescendentGradient(Mod,x,y,theta,e,it,r):\n",
    "  error = e + 1\n",
    "  iterations = 0\n",
    "  d0, d1, d2 = Gradient_M()\n",
    "\n",
    "  while error > e and iterations < it:\n",
    "    sumatory = 0\n",
    "\n",
    "    for i in range(len(y)):\n",
    "      d_0 = d0(x[i],theta[0], theta[1], theta[2])\n",
    "      d_1 = d1(x[i],theta[0], theta[1], theta[2])\n",
    "      d_2 = d2(x[i],theta[0], theta[1], theta[2])\n",
    "\n",
    "      #Sumatoria dada por la derivada en cada punto\n",
    "      sumatory += (y[i]-Mod(x[i],theta[0],theta[1],theta[2]))*np.array([d_0,d_1,d_2])\n",
    "    \n",
    "    #Expresion del descenso gradiente demostrada vectorialmente.\n",
    "    theta_j = theta - (r * (-2*sumatory))\n",
    "    #Renovamos la variable theta.\n",
    "    theta = theta_j\n",
    "\n",
    "    #El error estará dado por norma del vector que sale de la expresión que minimizamos.\n",
    "    error = np.linalg.norm(r * (-2*sumatory))\n",
    "    iterations += 1\n",
    "\n",
    "  return theta_j"
   ]
  },
  {
   "cell_type": "code",
   "execution_count": 646,
   "metadata": {},
   "outputs": [
    {
     "data": {
      "text/plain": [
       "Text(0, 0.5, 'y')"
      ]
     },
     "execution_count": 646,
     "metadata": {},
     "output_type": "execute_result"
    },
    {
     "data": {
      "image/png": "[encoded data removed]",
      "text/plain": [
       "<Figure size 432x288 with 1 Axes>"
      ]
     },
     "metadata": {
      "needs_background": "light"
     },
     "output_type": "display_data"
    }
   ],
   "source": [
    "#Devolvemos las variables de sympy.\n",
    "M_ = sym.lambdify([x,theta_0,theta_1,theta_2],M())\n",
    "#Los theta_i serán los parámetros minimizados.\n",
    "theta_i = DescendentGradient(M_,X,Y,theta,e,it,r)\n",
    "\n",
    "#Definimos los x usados para el ploteo.\n",
    "_x = np.linspace(np.min(X),np.max(X),50)\n",
    "#Definimos los y dados el theta óptimo.\n",
    "_y = []\n",
    "for i in _x:\n",
    "    _y.append(theta_i[0] / (theta_i[1] + sym.exp(-theta_i[2]*i)))\n",
    "\n",
    "#Ploteo\n",
    "plt.scatter(X,Y,color='c', label='Función')\n",
    "plt.plot(_x,_y,color='r',label='BestFit Model')\n",
    "plt.legend()\n",
    "plt.xlabel('x')\n",
    "plt.ylabel('y')"
   ]
  },
  {
   "cell_type": "code",
   "execution_count": 647,
   "metadata": {},
   "outputs": [],
   "source": [
    "\n",
    "theta0 = sym.symbols(\"theta0\", real=True)\n",
    "theta1 = sym.symbols(\"theta1\", real=True)\n",
    "theta2 = sym.symbols(\"theta2\", real=True)\n",
    "x = sym.symbols(\"x\", real=True)\n",
    "\n",
    "def Model():\n",
    "  return theta0 / (theta1 + sym.exp(-theta2*x))\n",
    "\n",
    "def GetGradient():\n",
    "  Model_x = sym.diff(Model(), theta0)\n",
    "  Model_y = sym.diff(Model(), theta1)\n",
    "  Model_z = sym.diff(Model(), theta2)\n",
    "\n",
    "  Model_x_ = sym.lambdify([x,theta0,theta1,theta2], Model_x)\n",
    "  Model_y_ = sym.lambdify([x,theta0,theta1,theta2], Model_y)\n",
    "  Model_z_ = sym.lambdify([x,theta0,theta1,theta2], Model_z)\n",
    "\n",
    "  return Model_x_, Model_y_, Model_z_\n",
    "\n",
    "def GetSolution(Model,x,y,theta,tolerancia,itmax,gamma):\n",
    "  error = tolerancia + 1\n",
    "  iters = 0\n",
    "  Model_x, Model_y, Model_z = GetGradient()\n",
    "\n",
    "  while error > tolerancia and iters < itmax:\n",
    "    sigma = 0\n",
    "\n",
    "    for i in range(len(y)):\n",
    "      Modelx = Model_x(x[i],theta[0], theta[1], theta[2])\n",
    "      Modely = Model_y(x[i],theta[0], theta[1], theta[2])\n",
    "      Modelz = Model_z(x[i],theta[0], theta[1], theta[2])\n",
    "\n",
    "      sigma += (y[i]-Model(x[i],theta[0],theta[1],theta[2]))*np.array([Modelx,Modely,Modelz])\n",
    "    \n",
    "    criteria = gamma * (-2*sigma)\n",
    "    theta_new = theta - criteria\n",
    "    theta = theta_new\n",
    "\n",
    "    error = np.linalg.norm(criteria)\n",
    "    iters += 1\n",
    "\n",
    "  return theta_new\n",
    "\n",
    "Model_ = sym.lambdify([x,theta0,theta1,theta2],Model())\n",
    "theta = np.array([1,1,1])\n",
    "gamma = 1e-3\n",
    "tolerancia = 0.01\n",
    "itmax = 10000\n",
    "X = np.array(data['x'])\n",
    "Y = np.array(data['y'])\n",
    "xi = GetSolution(Model_,X,Y,theta,tolerancia,itmax,gamma)"
   ]
  },
  {
   "cell_type": "code",
   "execution_count": 648,
   "metadata": {},
   "outputs": [
    {
     "data": {
      "text/plain": [
       "[<matplotlib.lines.Line2D at 0x20ac2a653d0>]"
      ]
     },
     "execution_count": 648,
     "metadata": {},
     "output_type": "execute_result"
    },
    {
     "data": {
      "image/png": "[encoded data removed]",
      "text/plain": [
       "<Figure size 432x288 with 1 Axes>"
      ]
     },
     "metadata": {
      "needs_background": "light"
     },
     "output_type": "display_data"
    }
   ],
   "source": [
    "xi = GetSolution(Model_,X,Y,theta,tolerancia,itmax,gamma)\n",
    "_x = np.linspace(np.min(X),np.max(X),50)\n",
    "_y = []\n",
    "\n",
    "for i in _x:\n",
    "    _y.append(xi[0] / (xi[1] + sym.exp(-xi[2]*i)))\n",
    "\n",
    "plt.scatter(X,Y,color='b')\n",
    "plt.plot(_x,_y,color='r')"
   ]
  }
 ],
 "metadata": {
  "kernelspec": {
   "display_name": "base",
   "language": "python",
   "name": "python3"
  },
  "language_info": {
   "codemirror_mode": {
    "name": "ipython",
    "version": 3
   },
   "file_extension": ".py",
   "mimetype": "text/x-python",
   "name": "python",
   "nbconvert_exporter": "python",
   "pygments_lexer": "ipython3",
   "version": "3.9.7"
  },
  "orig_nbformat": 4,
  "vscode": {
   "interpreter": {
    "hash": "ad307bde91f31e4b718ec0c2fe9a8b9cebe22b2862231a694138fcba204f6685"
   }
  }
 },
 "nbformat": 4,
 "nbformat_minor": 2
}
