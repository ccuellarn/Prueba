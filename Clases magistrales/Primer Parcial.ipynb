{
 "cells": [
  {
   "attachments": {},
   "cell_type": "markdown",
   "metadata": {},
   "source": [
    "> **# Primer parcial, Métodos Computacionales**\n",
    "\n",
    "Código realizado por Claudia Cuellar Nieto & Thomas Andrade Hernández.\n",
    "\n",
    "**Primer punto:** El operador derivada central de orden superior se puede ver como una combinación lineal de las imágenes del conjunto soporte:\n",
    "\n",
    "$$\\frac{df(x)}{dx} \\cong \\sum_{i = -n}^{n}{c_{i + n} \\cdot f(x + ih)}.$$\n",
    "\n",
    "donde $n$ representa el número de vecinos del punto de la estimación, por ejemplo, para $n = 2$ se tiene: $X = \\{−2h, −h, 0, h, 2h\\}$. La primera derivada es entonces:\n",
    "\n",
    "$$\\frac{df(x)}{dx} \\cong c_{0} \\cdot f(x - 2h) + c_{1} \\cdot f(x - h) + c_{2} \\cdot f(x) + c_{3} \\cdot f(x + h) + c_{4} \\cdot f(x + 2h)$$\n",
    "\n",
    "El procedimiento de interpolación permite calcular el valor de los coeficientes y establecer el orden de aproximación de la derivada $(\\mathcal{O}(h^{k}))$. Los coeficientes del operador están dados por las derivadas de las funciones cardinales evaluadas en el punto central $X[2] = 0$:\n",
    "\n",
    "$$c_{i} = \\frac{\\mathcal{L}_{i}(x)}{dx}, \\quad x = 0$$\n",
    "\n",
    "Para cinco puntos nodales los coeficientes son:\n",
    "\n",
    "$$\\vec{c} = \\left[ +\\frac{1}{12h}, - \\frac{2}{3h}, 0, +\\frac{2}{3h}, -\\frac{1}{12} \\right]$$"
   ]
  },
  {
   "cell_type": "code",
   "execution_count": 83,
   "metadata": {},
   "outputs": [
    {
     "name": "stdout",
     "output_type": "stream",
     "text": [
      "Los coeficientes que buscamos son, pues, [1/(12*h), -2/(3*h), 0, 2/(3*h), -1/(12*h)].\n"
     ]
    }
   ],
   "source": [
    "import numpy as np\n",
    "import sympy as sym\n",
    "import matplotlib.pyplot as plt\n",
    "\n",
    "x = sym.Symbol('x',real=True)\n",
    "h = sym.Symbol('h',real=True)\n",
    "\n",
    "x_ = [-2*h, -1*h, 0*h, 1*h, 2*h]\n",
    "\n",
    "\n",
    "def Partial_Polynomia(x, x_, j):\n",
    "    \"\"\" La función genera los polinomios auxiliares que sirven para poder construir el\n",
    "    polinomio interpolador de Lagrange.\n",
    "    \"\"\"\n",
    "    init_poly = 1\n",
    "    iterations = len(x_)\n",
    "    for i in range(iterations):\n",
    "        if i != j:\n",
    "            init_poly *= (x - x_[i])/(x_[j] - x_[i])\n",
    "    return init_poly\n",
    "\n",
    "Coefficients = []\n",
    "\n",
    "def GetCoefficients(x,x_, p = 2):\n",
    "  \"\"\" Se obtienen los coeficientes necesarios para realizar correctamente el procedimiento.\n",
    "  \"\"\"\n",
    "  for i in range(len(x_)):\n",
    "    Lagrange_i = Partial_Polynomia(x,x_,i)\n",
    "    dLagrange_i = sym.diff(Lagrange_i,x,1)\n",
    "    coefficient = dLagrange_i.subs(x,x_[p])\n",
    "    Coefficients.append(coefficient)\n",
    "\n",
    "GetCoefficients(x,x_)\n",
    "print(\"Los coeficientes que buscamos son, pues, {}.\".format(Coefficients))"
   ]
  },
  {
   "attachments": {},
   "cell_type": "markdown",
   "metadata": {},
   "source": [
    "> **Punto teórico de ejercicios de derivación: ¿Cuál es el orden de aproximación $\\mathcal{O}(h^{k})$?**\n",
    "\n",
    "Dado el polinomio interpolador de grado $n$, usando el método de Lagrange, su derivada obtendrá un grado. Usando la definición para la primera derivada central, su orden de aproximación estará dado por la expansión de Taylor. En este caso, de grado dos, por ende, $\\mathcal{O}(h^{2})$."
   ]
  },
  {
   "attachments": {},
   "cell_type": "markdown",
   "metadata": {},
   "source": [
    "**Segundo punto:** Con relación a la Ley de Snell:"
   ]
  },
  {
   "cell_type": "code",
   "execution_count": 80,
   "metadata": {},
   "outputs": [
    {
     "name": "stdout",
     "output_type": "stream",
     "text": [
      "El punto mínimo de la función ct(x) es igual a x = 0.31690575795806336.\n",
      "La luz entra con un ángulo de 58.91121594336357° al agua, siendo modificado posteriormente a 40.08219172390684°.\n"
     ]
    }
   ],
   "source": [
    "x = np.linspace(-3, 3, 100)\n",
    "n_0 = 1\n",
    "n_1 = 1.33\n",
    "\n",
    "def Light_traveling(x, T = (-3, 2), R = (2, -2), n_0 = 1, n_1 = 1.33):\n",
    "    z_0 = n_0 * np.sqrt((x - T[0])**2 + T[1]**2)\n",
    "    z_1 = n_1 * np.sqrt((x - R[0])**2 + R[1]**2)\n",
    "    return z_0 + z_1\n",
    "\n",
    "\n",
    "# Hallar el mínimo de la función t(x):\n",
    "\n",
    "def NewtonRaphson_Method(function, x_n, itmax = 10000, precision = 1e-8):\n",
    "    \"\"\" Empleando el método de iteraciones de Newton sobre la derivada en puntos (x_n, f(x_n))\n",
    "    se consigue una aproximación aceptable de la raíz de una funciónd dada con base en alguna\n",
    "    estimación inicial proveída.\n",
    "    \"\"\"\n",
    "    error = 1\n",
    "    iteration = 0\n",
    "    while error >= precision and iteration < itmax:\n",
    "        try:\n",
    "            x_n1 = x_n - (Central_Derivative(function, x_n))/ (Second_Derivative(function, x_n))\n",
    "            error = np.abs((Central_Derivative(function, x_n))/ (Second_Derivative(function, x_n)))\n",
    "        except ZeroDivisionError:\n",
    "            print(\"No se puede dividir entre cero.\")\n",
    "        x_n = x_n1\n",
    "    if iteration == itmax:\n",
    "        return False\n",
    "    else:\n",
    "        return x_n\n",
    "\n",
    "# Sección general de las derivadas:\n",
    "\n",
    "def Central_Derivative(function, x, h = 1e-6): # Segundo Orden\n",
    "    \"\"\" Se emplean tanto valores posteriores como anteriores para la búsqueda de la \n",
    "    derivada en el punto de interés.\n",
    "    \"\"\"     \n",
    "    expression = function(x + h) - function(x - h)\n",
    "    return (1)/(2*h) * expression\n",
    "\n",
    "def Second_Derivative(function, x, h = 1e-6): # Segundo Orden\n",
    "    \"\"\" Y bueno... Es una segunda derivada con valores posteriores y anteriores,\n",
    "    no mucho más.\n",
    "    \"\"\"\n",
    "    expression = function(x + h) - 2*function(x) + function(x - h)\n",
    "    return (1)/(h**2) * expression\n",
    "\n",
    "min_point = NewtonRaphson_Method(Light_traveling, 0)\n",
    "\n",
    "# Búsqueda de ángulo:\n",
    "\n",
    "def Searching_Angle(point, point_ = (min_point, 0)):\n",
    "    angle = np.arctan(np.abs(point[0] - point_[0])/np.abs(point[1] - point_[1]))\n",
    "    return angle\n",
    "\n",
    "alpha_0 = np.degrees(Searching_Angle((-3, 2)))\n",
    "alpha_1 = np.degrees(Searching_Angle((2, -2)))\n",
    "\n",
    "print(\"El punto mínimo de la función ct(x) es igual a x = {}.\".format(min_point))\n",
    "\n",
    "print(\"La luz entra con un ángulo de {}° al agua, siendo modificado posteriormente a {}°.\".format(alpha_0, alpha_1))\n"
   ]
  },
  {
   "cell_type": "code",
   "execution_count": 82,
   "metadata": {},
   "outputs": [
    {
     "name": "stdout",
     "output_type": "stream",
     "text": [
      "Se puede apreciar que el cociente de los coeficients de refracción n_0 = 1 y n_1 = 1.33, comparado con el cociente de los senos es diferente (0.7518796992481203 != 0.978996414930158), lo que nos dice que la Ley de Snell no se cumple.\n",
      "Lo más seguro que sucedió es que fue error de cálculos propios.\n"
     ]
    },
    {
     "data": {
      "image/png": "[encoded data removed]",
      "text/plain": [
       "<Figure size 720x504 with 1 Axes>"
      ]
     },
     "metadata": {
      "needs_background": "light"
     },
     "output_type": "display_data"
    }
   ],
   "source": [
    "# Información general del ploteo del diagrama:\n",
    "\n",
    "fig = plt.figure(figsize = (10,7))\n",
    "plt.title('Envío de mensaje tierra-océano', fontsize = 15)\n",
    "plt.xlabel(r'Longitud horizontal',fontsize = 15)\n",
    "plt.ylabel(r'Altitud',fontsize = 15)\n",
    "plt.axhline(y = 0, color = '#800F0F', linestyle = '-')\n",
    "plt.axvline(x = min_point, color = '#800F0F', linestyle = '-')\n",
    "plt.scatter(min_point, 0, color = '#800F0F', marker = 'o')\n",
    "plt.scatter(-3, 2, color = \"#DC3333\", marker = 'o')\n",
    "plt.scatter(2, -2, color = \"#DC3333\", marker = 'o')\n",
    "plt.plot([min_point, -3], [0, 2], color = '#DC3333')\n",
    "plt.plot([min_point, 2], [0, -2], color = '#DC3333')\n",
    "plt.grid()\n",
    "\n",
    "# Respusta final:\n",
    "\n",
    "print(\"Se puede apreciar que el cociente de los coeficients de refracción n_0 = {} y n_1 = {}, comparado con el cociente de los senos es diferente ({} != {}), lo que nos dice que la Ley de Snell no se cumple.\".format(n_0, n_1, n_0/n_1, np.sin(alpha_1)/np.sin(alpha_0)))\n",
    "print(\"Lo más seguro que sucedió es que fue error de cálculos propios.\")"
   ]
  },
  {
   "attachments": {},
   "cell_type": "markdown",
   "metadata": {},
   "source": [
    "**Punto teórico de ejercicios de raíces de polinomio:** Muestre que el tiempo de viaje del pulso de luz está dado por:\n",
    "\n",
    "$$ C\\cdot t(x) = n_o\\sqrt ((x-T[0])^2 + T[1]^2) + n_1\\sqrt((x-R[0])^2 + R[1]^2)$$\n",
    "\n",
    "*Respuesta:*\n",
    "Dada la relación del índice de refracción con la velocidad de la luz $n = c/v$ y la definición básica de la velocidad $v = d/t$. Podemos obtener la siguiente ecuación,\n",
    "\n",
    "$$ c=n\\cdot(d/t) \\Rightarrow c\\cdot t= n\\cdot d$$\n",
    "\n",
    "Donde d estará definida por la distancia euclideana,\n",
    "\n",
    "$$d = ((x-x_0)^2 + (y-y_0)^2)  $$\n",
    "\n",
    "Como podemos observar, dicha distancia estará multiplicando por su respectivo coeficiente de refracción y tomando el eje y como el origen.\n",
    "\n",
    "$$d = \\sqrt((x-T[0])^2 + (T[1])^2)  + \\sqrt((x-R[0])^2 + (R[1])^2)$$\n",
    "\n",
    "$$ C\\cdot t(x) = n_0\\sqrt((x-T[0])^2 + (T[1])^2)  + n_1\\sqrt((x-R[0])^2 + (R[1])^2)$$\n",
    "\n",
    "Así, queda mostrado que el tiempo de viaje del pulso de luz en este caso estará dado por dicha expresión multiplicada por la constante de la velocidad de la luz."
   ]
  },
  {
   "attachments": {},
   "cell_type": "markdown",
   "metadata": {},
   "source": [
    "**Punto teórico de ejercicios de derivación:** Cuál es el orden de aproximación $\\sigma(h^k)$?\n",
    "\n",
    "Dado el polinomio interpolador de grado n, usando el método de Lagrange, su derivada obtendrá un grado $n+2$. Usando la definición para la primera derivada central, su orden de aproximación estará dado por la expansión de Taylor. En este caso, de grado dos, por ende $\\sigma(h^2)$."
   ]
  },
  {
   "attachments": {},
   "cell_type": "markdown",
   "metadata": {},
   "source": [
    "**Punto teórico de ejercicios de derivación:** Muestre que el tiempo de viaje del pulso de luz está dado por:\n",
    "\n",
    "$$ C\\cdot t(x) = n_o\\sqrt ((x-T[0])^2 + T[1]^2) + n_1\\sqrt((x-R[0])^2 + R[1]^2)$$\n",
    "\n",
    "**Respuesta:**\n",
    "Dada la relación del índice de refracción con la velocidad de la luz $n = c/v$ y la definición básica de la velocidad $v = d/t$. Podemos obtener la siguiente ecuación,\n",
    "\n",
    "$$ c=n\\cdot(d/t) \\Rightarrow c\\cdot t= n\\cdot d$$\n",
    "\n",
    "Donde d estará definida por la distancia euclideana,\n",
    "\n",
    "$$d = ((x-x_0)^2 + (y-y_0)^2)  $$\n",
    "\n",
    "Como podemos observar, dicha distancia estará multiplicando por su respectivo coeficiente de refracción y tomando el eje y como el origen.\n",
    "\n",
    "$$d = \\sqrt((x-T[0])^2 + (T[1])^2)  + \\sqrt((x-R[0])^2 + (R[1])^2)$$\n",
    "\n",
    "$$ C\\cdot t(x) = n_0\\sqrt((x-T[0])^2 + (T[1])^2)  + n_1\\sqrt((x-R[0])^2 + (R[1])^2)$$\n",
    "\n",
    "Así, queda mostrado que el tiempo de viaje del pulso de luz en este caso estará dado por dicha expresión multiplicada por la constante de la velocidad de la luz.\n"
   ]
  }
 ],
 "metadata": {
  "kernelspec": {
   "display_name": "base",
   "language": "python",
   "name": "python3"
  },
  "language_info": {
   "codemirror_mode": {
    "name": "ipython",
    "version": 3
   },
   "file_extension": ".py",
   "mimetype": "text/x-python",
   "name": "python",
   "nbconvert_exporter": "python",
   "pygments_lexer": "ipython3",
   "version": "3.9.7"
  },
  "orig_nbformat": 4,
  "vscode": {
   "interpreter": {
    "hash": "ad307bde91f31e4b718ec0c2fe9a8b9cebe22b2862231a694138fcba204f6685"
   }
  }
 },
 "nbformat": 4,
 "nbformat_minor": 2
}
