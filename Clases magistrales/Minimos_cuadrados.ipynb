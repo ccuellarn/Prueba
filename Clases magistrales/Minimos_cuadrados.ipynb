{
 "cells": [
  {
   "cell_type": "code",
   "execution_count": 2,
   "metadata": {},
   "outputs": [
    {
     "data": {
      "text/html": [
       "<style>.container { width:90% !important; }</style>"
      ],
      "text/plain": [
       "<IPython.core.display.HTML object>"
      ]
     },
     "metadata": {},
     "output_type": "display_data"
    }
   ],
   "source": [
    "#este metodo es solo polinomial\n",
    "\n",
    "from IPython.display import display, HTML\n",
    "display(HTML(\"<style>.container { width:90% !important; }</style>\"))\n",
    "\n",
    "import numpy as np\n",
    "import matplotlib.pyplot as plt\n",
    "import sympy as sym\n",
    "\n",
    "from scipy.stats import norm\n",
    "from scipy.stats import t\n",
    "from scipy.stats import chi2\n",
    "\n",
    "import os\n",
    "import os.path as path\n",
    "import wget"
   ]
  },
  {
   "cell_type": "code",
   "execution_count": 3,
   "metadata": {},
   "outputs": [],
   "source": [
    "if not path.exists('Data'):\n",
    "    os.mkdir('Data')\n",
    "    \n",
    "file = 'Data/Minimos.dat' \n",
    "\n",
    "url = 'https://raw.githubusercontent.com/asegura4488/Database/main/MetodosComputacionalesReforma/MinimosLineal.txt'\n",
    "#url = 'https://raw.githubusercontent.com/asegura4488/Database/main/MetodosComputacionalesReforma/MinimosCuadratico.txt'\n",
    "\n",
    "if not path.exists(file):\n",
    "    Path_ = wget.download(url,file)\n",
    "else:\n",
    "    Path_ = file"
   ]
  },
  {
   "cell_type": "code",
   "execution_count": 4,
   "metadata": {},
   "outputs": [
    {
     "data": {
      "text/plain": [
       "<matplotlib.collections.PathCollection at 0x1ef69c28ca0>"
      ]
     },
     "execution_count": 4,
     "metadata": {},
     "output_type": "execute_result"
    },
    {
     "data": {
      "image/png": "[encoded data removed]",
      "text/plain": [
       "<Figure size 432x288 with 1 Axes>"
      ]
     },
     "metadata": {
      "needs_background": "light"
     },
     "output_type": "display_data"
    }
   ],
   "source": [
    "data = np.loadtxt(Path_)\n",
    "x = data[:,0]\n",
    "y = data[:,1]\n",
    "plt.scatter(x,y)\n",
    "\n"
   ]
  },
  {
   "cell_type": "code",
   "execution_count": 5,
   "metadata": {},
   "outputs": [
    {
     "data": {
      "text/plain": [
       "<ErrorbarContainer object of 3 artists>"
      ]
     },
     "execution_count": 5,
     "metadata": {},
     "output_type": "execute_result"
    },
    {
     "data": {
      "image/png": "[encoded data removed]",
      "text/plain": [
       "<Figure size 432x288 with 1 Axes>"
      ]
     },
     "metadata": {
      "needs_background": "light"
     },
     "output_type": "display_data"
    }
   ],
   "source": [
    "N = len(x)\n",
    "sigma= np.random.uniform(0,0.2,N)\n",
    "plt.errorbar(x,y,yerr=sigma,fmt='o')"
   ]
  },
  {
   "cell_type": "code",
   "execution_count": 6,
   "metadata": {},
   "outputs": [],
   "source": [
    "def GetFit(x,y,n=2):\n",
    "    l = x.shape[0]\n",
    "    b = y\n",
    "    \n",
    "    A = np.ones((l,n+1))\n",
    "    \n",
    "    for i in range(1,n+1):\n",
    "        A[:,i] = x**i\n",
    "        \n",
    "    AT = np.dot(A.T,A)\n",
    "    bT = np.dot(A.T,b)\n",
    "    xsol = np.linalg.solve(AT,bT)\n",
    "    \n",
    "    return xsol"
   ]
  },
  {
   "cell_type": "code",
   "execution_count": 7,
   "metadata": {},
   "outputs": [
    {
     "data": {
      "text/plain": [
       "array([-5.45282232e+00,  2.22752179e+00, -5.12424875e-03])"
      ]
     },
     "execution_count": 7,
     "metadata": {},
     "output_type": "execute_result"
    }
   ],
   "source": [
    "n = 2\n",
    "param = GetFit(x,y,n)\n",
    "param"
   ]
  },
  {
   "cell_type": "code",
   "execution_count": 8,
   "metadata": {},
   "outputs": [],
   "source": [
    "def GetModel(x,p):\n",
    "    y = 0\n",
    "    for n in range(len(p)):\n",
    "        y += p[n]*x**n\n",
    "        \n",
    "    return y"
   ]
  },
  {
   "cell_type": "code",
   "execution_count": 9,
   "metadata": {},
   "outputs": [
    {
     "data": {
      "text/latex": [
       "$\\displaystyle - 0.00512424874937852 x^{2} + 2.22752178860941 x - 5.45282232464359$"
      ],
      "text/plain": [
       "-0.00512424874937852*x**2 + 2.22752178860941*x - 5.45282232464359"
      ]
     },
     "execution_count": 9,
     "metadata": {},
     "output_type": "execute_result"
    }
   ],
   "source": [
    "X = sym.Symbol('x',real=True)\n",
    "f = GetModel(X,param)\n",
    "f"
   ]
  },
  {
   "cell_type": "code",
   "execution_count": 10,
   "metadata": {},
   "outputs": [
    {
     "data": {
      "text/plain": [
       "[<matplotlib.lines.Line2D at 0x1ef6abb5d60>]"
      ]
     },
     "execution_count": 10,
     "metadata": {},
     "output_type": "execute_result"
    },
    {
     "data": {
      "image/png": "[encoded data removed]",
      "text/plain": [
       "<Figure size 432x288 with 1 Axes>"
      ]
     },
     "metadata": {
      "needs_background": "light"
     },
     "output_type": "display_data"
    }
   ],
   "source": [
    "_x= np.linspace(np.min(x),np.max(x),50)\n",
    "_y = GetModel(_x,param)\n",
    "\n",
    "plt.errorbar(x,y,yerr=sigma,fmt='o')\n",
    "plt.plot(_x,_y,color='r')"
   ]
  },
  {
   "attachments": {},
   "cell_type": "markdown",
   "metadata": {},
   "source": [
    "**Varianza**"
   ]
  },
  {
   "cell_type": "code",
   "execution_count": 11,
   "metadata": {},
   "outputs": [],
   "source": [
    "def GetError(x,y,p):\n",
    "    \n",
    "    l = x.shape[0]\n",
    "    \n",
    "    A = np.ones((l,n+1))\n",
    "    \n",
    "    for i in range(1,n+1):\n",
    "        A[:,i] = x**i\n",
    "    \n",
    "    # Residuos\n",
    "    R = y - np.dot(A,p)\n",
    "    \n",
    "    sigma2 = np.dot( R.T, R )/(N-len(p))\n",
    "    \n",
    "    print(sigma2)\n",
    "    \n",
    "    CVar = sigma2*np.linalg.inv(np.dot(A.T,A))\n",
    "    \n",
    "    return CVar\n",
    "    \n",
    "    "
   ]
  },
  {
   "cell_type": "code",
   "execution_count": 12,
   "metadata": {},
   "outputs": [
    {
     "name": "stdout",
     "output_type": "stream",
     "text": [
      "1.3120357599935037\n"
     ]
    },
    {
     "data": {
      "text/plain": [
       "array([[ 4.86475583e-01, -9.46965985e-02,  3.84451980e-03],\n",
       "       [-9.46965985e-02,  2.61292453e-02, -1.21743121e-03],\n",
       "       [ 3.84451980e-03, -1.21743121e-03,  6.08715573e-05]])"
      ]
     },
     "execution_count": 12,
     "metadata": {},
     "output_type": "execute_result"
    }
   ],
   "source": [
    "Cov = GetError(x,y,param)\n",
    "Cov"
   ]
  },
  {
   "cell_type": "code",
   "execution_count": 13,
   "metadata": {},
   "outputs": [
    {
     "data": {
      "text/plain": [
       "array([0.69747802, 0.16164543, 0.00780202])"
      ]
     },
     "execution_count": 13,
     "metadata": {},
     "output_type": "execute_result"
    }
   ],
   "source": [
    "std = np.sqrt(np.diag(Cov))\n",
    "std \n",
    "#la diganonal da el error"
   ]
  }
 ],
 "metadata": {
  "kernelspec": {
   "display_name": "base",
   "language": "python",
   "name": "python3"
  },
  "language_info": {
   "codemirror_mode": {
    "name": "ipython",
    "version": 3
   },
   "file_extension": ".py",
   "mimetype": "text/x-python",
   "name": "python",
   "nbconvert_exporter": "python",
   "pygments_lexer": "ipython3",
   "version": "3.9.7"
  },
  "orig_nbformat": 4
 },
 "nbformat": 4,
 "nbformat_minor": 2
}
