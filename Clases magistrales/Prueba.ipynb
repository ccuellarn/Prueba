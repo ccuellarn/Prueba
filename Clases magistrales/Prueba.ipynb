{
 "cells": [
  {
   "cell_type": "code",
   "execution_count": null,
   "metadata": {},
   "outputs": [],
   "source": [
    "class Mineral:\n",
    "    def __init__(nombre, du, lu,rp):\n",
    "    \n",
    "        self.mineral = nombre\n",
    "        self.dureza = du \n",
    "        self.lustre = lu \n",
    "        self.rompimiento = rp\n",
    "        \n",
    "    def silicato(self,i):self.composicion    \n",
    "    "
   ]
  }
 ],
 "metadata": {
  "language_info": {
   "name": "python"
  },
  "orig_nbformat": 4
 },
 "nbformat": 4,
 "nbformat_minor": 2
}
