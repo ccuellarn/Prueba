{
 "cells": [
  {
   "cell_type": "code",
   "execution_count": 276,
   "metadata": {},
   "outputs": [],
   "source": [
    "import numpy as np\n",
    "import sympy as sym\n",
    "import pandas as pd\n",
    "from scipy.optimize import minimize\n",
    "import matplotlib.pyplot as plt\n",
    "import scipy.optimize as spo\n",
    "from scipy.stats import norm\n",
    "from tqdm import tqdm"
   ]
  },
  {
   "cell_type": "code",
   "execution_count": 277,
   "metadata": {},
   "outputs": [
    {
     "name": "stdout",
     "output_type": "stream",
     "text": [
      "Optimization terminated successfully.\n",
      "         Current function value: 1.145718\n",
      "         Iterations: 3\n",
      "         Function evaluations: 8\n",
      "         Gradient evaluations: 4\n"
     ]
    },
    {
     "data": {
      "text/plain": [
       "array([7.24399804e-05])"
      ]
     },
     "execution_count": 277,
     "metadata": {},
     "output_type": "execute_result"
    }
   ],
   "source": [
    "url = 'https://raw.githubusercontent.com/asegura4488/Database/main/MetodosComputacionalesReforma/DataRotacion.csv'\n",
    "data = pd.read_csv(url)\n",
    "data\n",
    "\n",
    "D = data.copy()\n",
    "D.drop(D[(D['angle'] != 30) ].index, inplace=True)\n",
    "D\n",
    "\n",
    "def Model_y(h,omega,lambd,g):\n",
    "    return ((2*np.sqrt(2)) / 3 ) * omega * np.cos(lambd*np.pi/180) * np.sqrt((h**3/g))\n",
    "\n",
    "def X2_Function(omega, y, h, sigmay, g):\n",
    "    return np.sum ((y - Model_y(h, omega, 30, g))**2/(2*sigmay**2) )\n",
    "\n",
    "y = np.array(D['y'])\n",
    "h = np.array(D['h'])\n",
    "sigmay = np.array(D['sigmay'])\n",
    "N = len(y)\n",
    "\n",
    "p0 = np.ones(1)\n",
    "\n",
    "nll = lambda *p: X2_Function(*p)\n",
    "result = minimize(nll, p0, args = (y, h, sigmay, 9.81), options = {'disp':True})\n",
    "bestparam = result.x\n",
    "\n",
    "result.x"
   ]
  },
  {
   "cell_type": "code",
   "execution_count": 278,
   "metadata": {},
   "outputs": [
    {
     "data": {
      "text/plain": [
       "<ErrorbarContainer object of 3 artists>"
      ]
     },
     "execution_count": 278,
     "metadata": {},
     "output_type": "execute_result"
    },
    {
     "data": {
      "image/png": "[encoded data removed]",
      "text/plain": [
       "<Figure size 432x288 with 1 Axes>"
      ]
     },
     "metadata": {
      "needs_background": "light"
     },
     "output_type": "display_data"
    }
   ],
   "source": [
    "_x = np.linspace(np.min(h),np.max(h),1000)\n",
    "_y = Model_y(_x,bestparam, 30, 9.81)\n",
    "plt.plot(_x,_y,color='r')\n",
    "plt.errorbar(h, y, yerr = sigmay, fmt = '*')"
   ]
  },
  {
   "cell_type": "code",
   "execution_count": 279,
   "metadata": {},
   "outputs": [],
   "source": [
    "#intento diferente\n",
    "\n",
    "N = 300\n",
    "Gravedad = np.zeros(N)\n",
    "Omega = np.zeros(N)\n",
    "\n",
    "for i in range(N):\n",
    "    g = 9.81 + np.random.normal(loc  = 0, scale = 1)\n",
    "    Gravedad[i] = g\n",
    "\n",
    "    y_nuevo = np.abs(y + np.random.normal( loc = 0, scale = sigmay[0], size = len(y)))\n",
    "    \n",
    "    result = minimize(nll, x0 = [0], args = (y_nuevo, h, sigmay, Gravedad[i]), options={'disp':False})\n",
    "\n",
    "    Omega[i] = result.x\n",
    "\n",
    "gridy = np.linspace(min(Gravedad),max(Gravedad),30)\n",
    "gridx = np.linspace(min(Omega),max(Omega),30)\n",
    "\n",
    "H2, binsx, binsy = np.histogram2d(Omega, Gravedad, bins=(gridx,gridy))"
   ]
  },
  {
   "cell_type": "code",
   "execution_count": 328,
   "metadata": {},
   "outputs": [
    {
     "data": {
      "image/png": "[encoded data removed]",
      "text/plain": [
       "<Figure size 432x432 with 1 Axes>"
      ]
     },
     "metadata": {
      "needs_background": "light"
     },
     "output_type": "display_data"
    }
   ],
   "source": [
    "plt.figure(figsize = (6,6))\n",
    "plt.imshow(H2.T, origin='lower', extent=[binsx[0], binsx[-1], binsy[0], binsy[-1]],aspect='auto')\n",
    "plt.xlabel('Omega')\n",
    "plt.ylabel('Gravedad')\n",
    "plt.show()"
   ]
  },
  {
   "cell_type": "code",
   "execution_count": 325,
   "metadata": {},
   "outputs": [
    {
     "data": {
      "text/plain": [
       "7.263872467734578e-05"
      ]
     },
     "execution_count": 325,
     "metadata": {},
     "output_type": "execute_result"
    }
   ],
   "source": [
    "H1 = np.sum(H2,axis=1)\n",
    "\n",
    "cs = np.cumsum(H1)\n",
    "\n",
    "ij = np.searchsorted( cs, np.percentile(cs,16) )\n",
    "ii = np.searchsorted( cs, np.percentile(cs,50) )\n",
    "ji = np.searchsorted( cs, np.percentile(cs,84) )\n",
    "\n",
    "#tamaño del percentil\n",
    "t = (ji-ij)\n",
    "Omega[t]"
   ]
  }
 ],
 "metadata": {
  "kernelspec": {
   "display_name": "base",
   "language": "python",
   "name": "python3"
  },
  "language_info": {
   "codemirror_mode": {
    "name": "ipython",
    "version": 3
   },
   "file_extension": ".py",
   "mimetype": "text/x-python",
   "name": "python",
   "nbconvert_exporter": "python",
   "pygments_lexer": "ipython3",
   "version": "3.9.7"
  },
  "orig_nbformat": 4
 },
 "nbformat": 4,
 "nbformat_minor": 2
}
