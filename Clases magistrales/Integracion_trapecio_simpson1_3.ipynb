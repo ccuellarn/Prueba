{
  "cells": [
    {
      "cell_type": "code",
      "execution_count": 1,
      "metadata": {
        "colab": {
          "base_uri": "https://localhost:8080/",
          "height": 17
        },
        "id": "bjUCER7N6Rrp",
        "outputId": "2a9381a6-8e4f-4383-89cc-d292dafcd14c"
      },
      "outputs": [
        {
          "data": {
            "text/html": [
              "<style>.container { width:90% !important; }</style>"
            ],
            "text/plain": [
              "<IPython.core.display.HTML object>"
            ]
          },
          "metadata": {},
          "output_type": "display_data"
        }
      ],
      "source": [
        "from IPython.display import display, HTML\n",
        "display(HTML(\"<style>.container { width:90% !important; }</style>\"))\n",
        "import numpy as np\n",
        "import matplotlib.pyplot as plt\n",
        "from scipy import integrate"
      ]
    },
    {
      "cell_type": "code",
      "execution_count": 2,
      "metadata": {
        "id": "P-2wfhw75VV7"
      },
      "outputs": [],
      "source": [
        "class Integrator:\n",
        "\n",
        "  def __init__(self,x,f):\n",
        "\n",
        "    self.x = x\n",
        "    self.h = self.x[1] - self.x[0]\n",
        "\n",
        "    self.y = f(self.x)\n",
        "\n",
        "    self.Integral = 0\n",
        "    self.Error = 0\n",
        "\n",
        "  def GetStep(self ):\n",
        "    return self.h"
      ]
    },
    {
      "cell_type": "code",
      "execution_count": 3,
      "metadata": {
        "id": "Xt35dJvv5xOZ"
      },
      "outputs": [],
      "source": [
        "class Trapezoid(Integrator):\n",
        "\n",
        "  def __init__(self,x,f):\n",
        "    Integrator.__init__(self,x,f)\n",
        "\n",
        "  def GetIntegral(self):\n",
        "\n",
        "    self.Integral = 0\n",
        "    self.Integral += 0.5*(self.y[0] + self.y[-1])\n",
        "\n",
        "    self.Integral += np.sum(self.y[1:-1])\n",
        "\n",
        "    return self.Integral*self.h\n",
        "\n",
        "  def GetDerivative(self):\n",
        "        return ( f(self.x+self.h) - 2*f(self.x) + f(self.x-self.h) )/self.h**2\n",
        "    \n",
        "  def GetError(self):\n",
        "        \n",
        "        d = self.GetDerivative()\n",
        "        \n",
        "        max_ = np.max(np.abs(d))\n",
        "        \n",
        "        self.error = (max_*(self.x[-1]-self.x[0])**3)/(12*(len(self.x)-1)**2)\n",
        "        \n",
        "        return self.error"
      ]
    },
    {
      "cell_type": "code",
      "execution_count": 4,
      "metadata": {
        "id": "9526olWZ8WlZ"
      },
      "outputs": [],
      "source": [
        "f = lambda x: np.sin(x)\n",
        "N = 12\n",
        "X = np.linspace(0,0.5*np.pi,N)"
      ]
    },
    {
      "cell_type": "code",
      "execution_count": 5,
      "metadata": {
        "colab": {
          "base_uri": "https://localhost:8080/"
        },
        "id": "RUXhOyDJ8uzZ",
        "outputId": "3622dcb4-753f-4a6c-a234-fd574fb462ba"
      },
      "outputs": [
        {
          "data": {
            "text/plain": [
              "0.9983001101346353"
            ]
          },
          "execution_count": 5,
          "metadata": {},
          "output_type": "execute_result"
        }
      ],
      "source": [
        "Integrador1 = Trapezoid(X,f)\n",
        "Integrador1.GetIntegral()"
      ]
    },
    {
      "cell_type": "code",
      "execution_count": 6,
      "metadata": {
        "colab": {
          "base_uri": "https://localhost:8080/"
        },
        "id": "AAuZCfZ-H_16",
        "outputId": "cf2d494b-689a-49ac-fdee-0e155c93fbb6"
      },
      "outputs": [
        {
          "data": {
            "text/plain": [
              "0.0026647402842498702"
            ]
          },
          "execution_count": 6,
          "metadata": {},
          "output_type": "execute_result"
        }
      ],
      "source": [
        "Integrador1.GetError()"
      ]
    },
    {
      "cell_type": "code",
      "execution_count": 7,
      "metadata": {
        "colab": {
          "base_uri": "https://localhost:8080/"
        },
        "id": "wuHNQTz79RnB",
        "outputId": "eca34d3e-385f-4e8d-9cfe-46ef37845f85"
      },
      "outputs": [
        {
          "data": {
            "text/plain": [
              "0.9983001101346352"
            ]
          },
          "execution_count": 7,
          "metadata": {},
          "output_type": "execute_result"
        }
      ],
      "source": [
        "#metodo sin necesidad de clases\n",
        "integrate.trapezoid(f(X,),X)"
      ]
    },
    {
      "cell_type": "code",
      "execution_count": 8,
      "metadata": {
        "id": "e8sjwtac94By"
      },
      "outputs": [],
      "source": [
        "#Regla de simpson como clase hija del trapezoide\n",
        "class Simpson(Integrator):\n",
        "\n",
        "  def __init__(self,x,f):\n",
        "    Integrator.__init__(self,x,f)\n",
        "\n",
        "  def GetIntegral(self):\n",
        "\n",
        "    self.Integral = 0\n",
        "    self.Integral += self.y[0] + self.y[-1]\n",
        "\n",
        "    for i in range(len(self.y[1:-1])):\n",
        "      if i%2 == 0:\n",
        "        self.Integral += 4*self.y[i+1]\n",
        "      else:\n",
        "        self.Integral += 2*self.y[i+1]\n",
        "\n",
        "    return self.Integral*self.h/3\n",
        "\n",
        "  def GetDerivative(self):\n",
        "        \n",
        "        d = f(self.x+2*self.h) - 4*f(self.x+self.h) + 6*f(self.x) - 4*f(self.x-self.h) + f(self.x-2*self.h)\n",
        "        d = d/self.h**4\n",
        "        return d\n",
        "    \n",
        "  def GetError(self):\n",
        "            \n",
        "        d = self.GetDerivative()\n",
        "            \n",
        "        max_ = np.max( np.abs(d) )\n",
        "            \n",
        "        self.error = ( (self.x[-1]-self.x[0])*self.h**4 * max_  ) /180\n",
        "            \n",
        "        return self.error"
      ]
    },
    {
      "cell_type": "code",
      "execution_count": 9,
      "metadata": {
        "id": "p-4JSOznA04B"
      },
      "outputs": [],
      "source": [
        "f = lambda x: np.sin(x)\n",
        "N = 12\n",
        "X = np.linspace(0,0.5*np.pi,N+1)"
      ]
    },
    {
      "cell_type": "code",
      "execution_count": 10,
      "metadata": {
        "colab": {
          "base_uri": "https://localhost:8080/"
        },
        "id": "tnCLm_24A3IZ",
        "outputId": "d67733aa-1f6f-4a2c-e269-a37605c8d2d9"
      },
      "outputs": [
        {
          "data": {
            "text/plain": [
              "1.0000016344385796"
            ]
          },
          "execution_count": 10,
          "metadata": {},
          "output_type": "execute_result"
        }
      ],
      "source": [
        "Integrador2 = Simpson(X,f)\n",
        "Integrador2.GetIntegral()"
      ]
    },
    {
      "cell_type": "code",
      "execution_count": 11,
      "metadata": {
        "colab": {
          "base_uri": "https://localhost:8080/"
        },
        "id": "wrQ_6mHoRPoK",
        "outputId": "2a4b6446-22a4-482d-e164-20e3895e8d7d"
      },
      "outputs": [
        {
          "data": {
            "text/plain": [
              "2.5548268139593947e-06"
            ]
          },
          "execution_count": 11,
          "metadata": {},
          "output_type": "execute_result"
        }
      ],
      "source": [
        "Integrador2.GetError()"
      ]
    }
  ],
  "metadata": {
    "colab": {
      "provenance": []
    },
    "kernelspec": {
      "display_name": "base",
      "language": "python",
      "name": "python3"
    },
    "language_info": {
      "codemirror_mode": {
        "name": "ipython",
        "version": 3
      },
      "file_extension": ".py",
      "mimetype": "text/x-python",
      "name": "python",
      "nbconvert_exporter": "python",
      "pygments_lexer": "ipython3",
      "version": "3.9.7"
    },
    "vscode": {
      "interpreter": {
        "hash": "ad307bde91f31e4b718ec0c2fe9a8b9cebe22b2862231a694138fcba204f6685"
      }
    }
  },
  "nbformat": 4,
  "nbformat_minor": 0
}
