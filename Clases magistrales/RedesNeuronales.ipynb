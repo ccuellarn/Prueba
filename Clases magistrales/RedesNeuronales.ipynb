{
 "cells": [
  {
   "cell_type": "code",
   "execution_count": 63,
   "metadata": {},
   "outputs": [],
   "source": [
    "#la constante del grupo es el momento angular? en spines xd\n",
    "#las matrices de dirac, dos son de materia y dos de antimateria y se relacionan con la propiedad de anticonmutacion"
   ]
  },
  {
   "cell_type": "code",
   "execution_count": 64,
   "metadata": {},
   "outputs": [],
   "source": [
    "import numpy as np\n",
    "import matplotlib.pyplot as plt\n",
    "from matplotlib import cm\n",
    "from mpl_toolkits.mplot3d import axes3d\n",
    "from IPython.display import clear_output\n",
    "import time"
   ]
  },
  {
   "cell_type": "code",
   "execution_count": 65,
   "metadata": {},
   "outputs": [],
   "source": [
    "sigm = lambda x: 1/(1+np.exp(-x))"
   ]
  },
  {
   "cell_type": "code",
   "execution_count": 66,
   "metadata": {},
   "outputs": [],
   "source": [
    "class Layer:\n",
    "    #numero de neuronas NN\n",
    "    #NC num de conexiones\n",
    "    def __init__(self,NC,NN,ActFunc):\n",
    "        \n",
    "        self.NC = NC\n",
    "        self.NN = NN\n",
    "        self.ActFunc = ActFunc\n",
    "        \n",
    "        #los pesos se inicializan en random porque si concieramos los pesos la red no aprenderia\n",
    "        self.W = np.random.uniform(-10,10,size=(self.NC,self.NN)) #pesos\n",
    "        self.b = np.random.uniform(-10,10,size=(1,self.NN)) #bias/corte de la linea\n",
    "        #dicho modelo es lineal y de pocas neuronas\n",
    "        \n",
    "    def Activation(self,x):\n",
    "        #multiplico estimulo por el vector dada la funcion de activacion\n",
    "        z = np.dot(x,self.W)+ self.b\n",
    "        return self.ActFunc(z)[0]\n",
    "    \n",
    "    #vamos a hacer una mutacion variando pesos y bias pero con la normal y la desviacion estandar define la mutuacion\n",
    "    #loc es media de la normal\n",
    "    def Mutate(self):\n",
    "        self.W += np.random.normal( loc=0.,scale=0.05,size=(self.NC,self.NN) )\n",
    "        self.b += np.random.normal( loc=0.,scale=0.05,size=(1,self.NN) )\n",
    "        \n",
    "    #crear un perceptron con mas de una capa"
   ]
  },
  {
   "cell_type": "code",
   "execution_count": 67,
   "metadata": {},
   "outputs": [
    {
     "data": {
      "text/plain": [
       "array([[-5.81463581, -2.96198263, -6.01598455,  9.14046045],\n",
       "       [-5.9175158 ,  8.7593576 , -1.86715871,  5.78727556]])"
      ]
     },
     "execution_count": 67,
     "metadata": {},
     "output_type": "execute_result"
    }
   ],
   "source": [
    "L0 = Layer(2,4,sigm)\n",
    "L0.W"
   ]
  },
  {
   "cell_type": "code",
   "execution_count": 68,
   "metadata": {},
   "outputs": [
    {
     "data": {
      "text/plain": [
       "array([[-1.40083241,  8.64760756,  3.37575629,  7.8681652 ]])"
      ]
     },
     "execution_count": 68,
     "metadata": {},
     "output_type": "execute_result"
    }
   ],
   "source": [
    "#Son de espacio r2\n",
    "L0.b"
   ]
  },
  {
   "cell_type": "code",
   "execution_count": 69,
   "metadata": {},
   "outputs": [
    {
     "data": {
      "text/plain": [
       "array([0.00709634, 0.99999704, 0.86301711, 0.9999915 ])"
      ]
     },
     "execution_count": 69,
     "metadata": {},
     "output_type": "execute_result"
    }
   ],
   "source": [
    "#con una sola capa\n",
    "x = [0.1,0.5]\n",
    "L0.Activation(x)"
   ]
  },
  {
   "cell_type": "code",
   "execution_count": 70,
   "metadata": {},
   "outputs": [
    {
     "data": {
      "text/plain": [
       "array([0.00725892, 0.9999968 , 0.87035412, 0.9999902 ])"
      ]
     },
     "execution_count": 70,
     "metadata": {},
     "output_type": "execute_result"
    }
   ],
   "source": [
    "#si mutamos la capa la funcion de activacion cambia, y hace que cambie el comportamiento de la red, lo que hace que aprenda\n",
    "L0.Mutate()\n",
    "L0.Activation(x)"
   ]
  },
  {
   "cell_type": "code",
   "execution_count": 71,
   "metadata": {},
   "outputs": [],
   "source": [
    "#con capas ocultas es deep learning, es dificil de entrenar con evolucion\n",
    "#red neuronal\n",
    "l0 = Layer(2,4,sigm)\n",
    "l1 = Layer(4,10,sigm)\n",
    "l2 = Layer(10,5,sigm)\n",
    "l3 = Layer(5,2,sigm)\n",
    "Layers = [l0,l1,l2,l3]"
   ]
  },
  {
   "cell_type": "code",
   "execution_count": 72,
   "metadata": {},
   "outputs": [],
   "source": [
    "#se necesita el cerebro pero hara la activacion por todas las capas\n",
    "\n",
    "def Brain(Layers,x):\n",
    "    for i in range(len(Layers)):\n",
    "        if i==0:\n",
    "            output = Layers[i].Activation(x)\n",
    "        else:\n",
    "            output = Layers[i].Activation(output)\n",
    "            \n",
    "    return output\n",
    "\n",
    "#cuando sale de la region muere, en el caso de los robots se devuelve\n",
    "        "
   ]
  },
  {
   "cell_type": "code",
   "execution_count": 73,
   "metadata": {},
   "outputs": [
    {
     "data": {
      "text/plain": [
       "array([0.62442166, 0.07964282])"
      ]
     },
     "execution_count": 73,
     "metadata": {},
     "output_type": "execute_result"
    }
   ],
   "source": [
    "#la tarea es enchufar el cerebro en los robots d ela clase para que cuando lleguen a la frontera se devuelvan\n",
    "Brain(Layers,[1,1.2])"
   ]
  },
  {
   "cell_type": "code",
   "execution_count": 74,
   "metadata": {},
   "outputs": [],
   "source": [
    "#como ver el cerebro en la region y las conexiones lineales\n",
    "#i es el indice de recorrer y x_ son los valores que es lo que se quiere ver\n",
    "x = np.linspace(-1,1,10)\n",
    "y = x.copy()\n",
    "\n",
    "X,Y = np.meshgrid(x,y)\n",
    "\n",
    "N1 = np.zeros_like(X)\n",
    "N2 = np.zeros_like(X)\n",
    "\n",
    "for i, _x in enumerate(x):\n",
    "    for j, _y in enumerate(y):\n",
    "        N1[i,j] = Brain(Layers,[_x,_y])[0]\n",
    "        N2[i,j] = Brain(Layers,[_x,_y])[1]"
   ]
  },
  {
   "cell_type": "code",
   "execution_count": 75,
   "metadata": {},
   "outputs": [
    {
     "data": {
      "text/plain": [
       "<mpl_toolkits.mplot3d.art3d.Poly3DCollection at 0x2621bf436d0>"
      ]
     },
     "execution_count": 75,
     "metadata": {},
     "output_type": "execute_result"
    },
    {
     "data": {
      "image/png": "[encoded data removed]",
      "text/plain": [
       "<Figure size 432x288 with 1 Axes>"
      ]
     },
     "metadata": {
      "needs_background": "light"
     },
     "output_type": "display_data"
    }
   ],
   "source": [
    "#para ver como cambian los robots hay que definir una funcion de aptitud/fitness\n",
    "#en cada evolucion temporal, si el robot no muere su funcion de aptitud aumentara\n",
    "#si el robot se bugea, tiene retraso y la aptitud disminuye con una penalidad\n",
    "fig = plt.figure()\n",
    "ax = fig.add_subplot(111,projection='3d')\n",
    "\n",
    "ax.plot_surface(X,Y,N1)\n",
    "ax.plot_surface(X,Y,N2)"
   ]
  },
  {
   "cell_type": "code",
   "execution_count": 76,
   "metadata": {},
   "outputs": [],
   "source": [
    "class Robot:\n",
    "    \n",
    "    def __init__(self,dt,Layers,Id=0):\n",
    "        \n",
    "        # Time\n",
    "        self.dt = dt\n",
    "        self.Id = Id\n",
    "        \n",
    "        # Status\n",
    "        self.Status = 1\n",
    "        \n",
    "        # Position\n",
    "        self.r = np.array([0.,0.])\n",
    "         \n",
    "        # Velocity\n",
    "        #theta = np.random.uniform(0.25*np.pi - 0.2, 0.25*np.pi + 0.2)\n",
    "        theta = np.random.uniform(0.,2*np.pi)\n",
    "        #theta = 0.\n",
    "        V = 1.0 # parametro libre\n",
    "        self.v = np.array([V*np.cos(theta),V*np.sin(theta)])\n",
    "        \n",
    "        # Brain\n",
    "        self.SetLayers(Layers)\n",
    "        \n",
    "        # Fitness\n",
    "        self.Steps = 0\n",
    "        self.Fitness = np.inf\n",
    "        \n",
    "    def Evolution(self):\n",
    "        \n",
    "        self.r += self.dt*self.v\n",
    "        \n",
    "    def Reset(self):\n",
    "        \n",
    "        # Vuelve a la vida\n",
    "        self.Status = 1\n",
    "        \n",
    "        # Restart Steps\n",
    "        self.Steps = 0\n",
    "        # No reiniciamos el fitness para comparar entre epocas\n",
    "        \n",
    "        \n",
    "        # Vuelve al punto inicial\n",
    "        self.r = np.array([0.,0.]) \n",
    "        \n",
    "        # Si es buena idea\n",
    "        theta = np.random.uniform(0.,2*np.pi)\n",
    "        V = 1.0 # parametro libre\n",
    "        self.v = np.array([V*np.cos(theta),V*np.sin(theta)])\n",
    "        \n",
    "        #self.v += np.random.normal(0,0.05,size=(2,)) \n",
    "        \n",
    "    def CheckLimits(self,Limits):\n",
    "        \n",
    "        for i in range(2):\n",
    "            if self.r[i] > Limits[i][1] or self.r[i] < Limits[i][0]:\n",
    "                self.Status = 0  \n",
    "     \n",
    "    def SetLayers(self,Layers):\n",
    "        self.Layers = Layers\n",
    "        \n",
    "    def GetLayers(self):\n",
    "        return self.Layers\n",
    "    \n",
    "    def BrainActivation(self,x,threshold=0.8):\n",
    "        \n",
    "        for i in range(len(self.Layers)):\n",
    "            if i == 0:\n",
    "                output = self.Layers[i].Activation(x) \n",
    "            else:\n",
    "                output = self.Layers[i].Activation(output)\n",
    "        \n",
    "        self.Activation = np.round(output,6) # Significa cambiar vx o vy\n",
    "       \n",
    "        # Aqui cambiamos la velocidad\n",
    "        for i in range(2):\n",
    "            if self.Activation[i] >= threshold:\n",
    "                self.v[i] = -self.v[i]\n",
    "        #       self.Steps -= 0.5 # Penalizamos el cambio de velocidad\n",
    "                \n",
    "        return self.Activation\n",
    "     \n",
    "    # No necesitamos mutar en la prueba de la red neuronal    \n",
    "    def Mutate(self):\n",
    "        \n",
    "        for i in range(len(self.Layers)):\n",
    "            self.Layers[i].Mutate()\n",
    "            \n",
    "    def Print(self):\n",
    "        print('{} {} {} {} {} {}'.format(self.Id,self.r,self.Status,self.Steps,self.Fitness,self.Activation))"
   ]
  },
  {
   "cell_type": "code",
   "execution_count": 77,
   "metadata": {},
   "outputs": [],
   "source": [
    "dt = 0.05\n",
    "t = np.arange(0.,20.,dt)\n",
    "Limits = np.array([[-1,1],[-1,1]])"
   ]
  },
  {
   "cell_type": "code",
   "execution_count": 78,
   "metadata": {},
   "outputs": [],
   "source": [
    "def GetRobots(N):\n",
    "    \n",
    "    Robots = []\n",
    "    \n",
    "    # Creamos N robots con el grafo del entrenamiento,\n",
    "    ## para ver el comportamiento con los diferentes Condiciones I\n",
    "    for i in range(N):    \n",
    "        r = Robot(dt,Layers,Id=i)\n",
    "        Robots.append(r)\n",
    "        \n",
    "    return Robots"
   ]
  },
  {
   "cell_type": "code",
   "execution_count": 79,
   "metadata": {},
   "outputs": [],
   "source": [
    "def Plot(t):\n",
    "    \n",
    "    fig = plt.figure(figsize=(10,10))\n",
    "    ax = fig.add_subplot(221)\n",
    "    \n",
    "    \n",
    "    ax.set_xlim(Limits[0][0],Limits[0][1])\n",
    "    ax.set_ylim(Limits[1][0],Limits[1][1])  \n",
    "    \n",
    "    ax.set_title('t={:.2f}'.format(t))\n",
    "    \n",
    "    ax1 = fig.add_subplot(222)\n",
    "    ax1.set_ylim(0,1)\n",
    "    \n",
    "    ax2 = fig.add_subplot(224)\n",
    "    ax2.set_ylim(0,1)\n",
    "    \n",
    "    return ax,ax1,ax2"
   ]
  },
  {
   "cell_type": "code",
   "execution_count": 80,
   "metadata": {},
   "outputs": [],
   "source": [
    "def TimeEvolutionPlot(Robots,t):\n",
    "    \n",
    "    for it in range(len(t)):\n",
    "        \n",
    "        clear_output(wait=True)\n",
    "        \n",
    "        ax,ax1,ax2 = Plot(t[it])\n",
    "        \n",
    "        Activationx=np.zeros(len(Robots))\n",
    "        Activationy=np.zeros(len(Robots))\n",
    "        \n",
    "        for i,p in enumerate(Robots):\n",
    "            \n",
    "            p.Evolution()\n",
    "            p.CheckLimits(Limits)\n",
    "            \n",
    "            # Activamos el cerebro\n",
    "            _ = p.BrainActivation(p.r)\n",
    "            \n",
    "            if p.Status == 1:\n",
    "                p.Steps += 1\n",
    "            else:\n",
    "                Robots.pop(i)\n",
    "            \n",
    "            ax.scatter(p.r[0],p.r[1],label='Id {} Act {}'.format(p.Id,np.round(p.Activation,2)))   \n",
    "            ax.quiver(p.r[0],p.r[1],p.v[0],p.v[1])\n",
    "            ax.legend(loc='upper center', ncol=1, bbox_to_anchor=(0.5,-0.1),frameon=False, fontsize=10)\n",
    "            \n",
    "            Activationx[i] = p.Activation[0]\n",
    "            Activationy[i] = p.Activation[1]\n",
    "             \n",
    "        ax1.scatter(np.arange(0,len(Robots),1),Activationx,marker='o',label='Activación Cerebral X')    \n",
    "        ax1.axhline(y=0.8,color='r')\n",
    "        ax1.legend(loc=1)\n",
    "        ax2.scatter(np.arange(0,len(Robots),1),Activationy,marker='o',label='Activación Cerebral Y')    \n",
    "        ax2.axhline(y=0.8,color='r')\n",
    "        ax2.legend(loc=1)\n",
    "        \n",
    "        plt.show()\n",
    "            \n",
    "        \n",
    "        time.sleep(0.001)"
   ]
  },
  {
   "cell_type": "code",
   "execution_count": 81,
   "metadata": {},
   "outputs": [],
   "source": [
    "RobotsTesting = GetRobots(2)"
   ]
  },
  {
   "cell_type": "code",
   "execution_count": 82,
   "metadata": {},
   "outputs": [
    {
     "ename": "ValueError",
     "evalue": "x and y must be the same size",
     "output_type": "error",
     "traceback": [
      "\u001b[1;31m---------------------------------------------------------------------------\u001b[0m",
      "\u001b[1;31mValueError\u001b[0m                                Traceback (most recent call last)",
      "\u001b[1;32m~\\AppData\\Local\\Temp/ipykernel_7520/3652465043.py\u001b[0m in \u001b[0;36m<module>\u001b[1;34m\u001b[0m\n\u001b[1;32m----> 1\u001b[1;33m \u001b[0mTimeEvolutionPlot\u001b[0m\u001b[1;33m(\u001b[0m\u001b[0mRobotsTesting\u001b[0m\u001b[1;33m,\u001b[0m\u001b[0mt\u001b[0m\u001b[1;33m)\u001b[0m\u001b[1;33m\u001b[0m\u001b[1;33m\u001b[0m\u001b[0m\n\u001b[0m",
      "\u001b[1;32m~\\AppData\\Local\\Temp/ipykernel_7520/4215602799.py\u001b[0m in \u001b[0;36mTimeEvolutionPlot\u001b[1;34m(Robots, t)\u001b[0m\n\u001b[0;32m     30\u001b[0m             \u001b[0mActivationy\u001b[0m\u001b[1;33m[\u001b[0m\u001b[0mi\u001b[0m\u001b[1;33m]\u001b[0m \u001b[1;33m=\u001b[0m \u001b[0mp\u001b[0m\u001b[1;33m.\u001b[0m\u001b[0mActivation\u001b[0m\u001b[1;33m[\u001b[0m\u001b[1;36m1\u001b[0m\u001b[1;33m]\u001b[0m\u001b[1;33m\u001b[0m\u001b[1;33m\u001b[0m\u001b[0m\n\u001b[0;32m     31\u001b[0m \u001b[1;33m\u001b[0m\u001b[0m\n\u001b[1;32m---> 32\u001b[1;33m         \u001b[0max1\u001b[0m\u001b[1;33m.\u001b[0m\u001b[0mscatter\u001b[0m\u001b[1;33m(\u001b[0m\u001b[0mnp\u001b[0m\u001b[1;33m.\u001b[0m\u001b[0marange\u001b[0m\u001b[1;33m(\u001b[0m\u001b[1;36m0\u001b[0m\u001b[1;33m,\u001b[0m\u001b[0mlen\u001b[0m\u001b[1;33m(\u001b[0m\u001b[0mRobots\u001b[0m\u001b[1;33m)\u001b[0m\u001b[1;33m,\u001b[0m\u001b[1;36m1\u001b[0m\u001b[1;33m)\u001b[0m\u001b[1;33m,\u001b[0m\u001b[0mActivationx\u001b[0m\u001b[1;33m,\u001b[0m\u001b[0mmarker\u001b[0m\u001b[1;33m=\u001b[0m\u001b[1;34m'o'\u001b[0m\u001b[1;33m,\u001b[0m\u001b[0mlabel\u001b[0m\u001b[1;33m=\u001b[0m\u001b[1;34m'Activación Cerebral X'\u001b[0m\u001b[1;33m)\u001b[0m\u001b[1;33m\u001b[0m\u001b[1;33m\u001b[0m\u001b[0m\n\u001b[0m\u001b[0;32m     33\u001b[0m         \u001b[0max1\u001b[0m\u001b[1;33m.\u001b[0m\u001b[0maxhline\u001b[0m\u001b[1;33m(\u001b[0m\u001b[0my\u001b[0m\u001b[1;33m=\u001b[0m\u001b[1;36m0.8\u001b[0m\u001b[1;33m,\u001b[0m\u001b[0mcolor\u001b[0m\u001b[1;33m=\u001b[0m\u001b[1;34m'r'\u001b[0m\u001b[1;33m)\u001b[0m\u001b[1;33m\u001b[0m\u001b[1;33m\u001b[0m\u001b[0m\n\u001b[0;32m     34\u001b[0m         \u001b[0max1\u001b[0m\u001b[1;33m.\u001b[0m\u001b[0mlegend\u001b[0m\u001b[1;33m(\u001b[0m\u001b[0mloc\u001b[0m\u001b[1;33m=\u001b[0m\u001b[1;36m1\u001b[0m\u001b[1;33m)\u001b[0m\u001b[1;33m\u001b[0m\u001b[1;33m\u001b[0m\u001b[0m\n",
      "\u001b[1;32mc:\\Users\\aleja\\Anaconda\\lib\\site-packages\\matplotlib\\__init__.py\u001b[0m in \u001b[0;36minner\u001b[1;34m(ax, data, *args, **kwargs)\u001b[0m\n\u001b[0;32m   1359\u001b[0m     \u001b[1;32mdef\u001b[0m \u001b[0minner\u001b[0m\u001b[1;33m(\u001b[0m\u001b[0max\u001b[0m\u001b[1;33m,\u001b[0m \u001b[1;33m*\u001b[0m\u001b[0margs\u001b[0m\u001b[1;33m,\u001b[0m \u001b[0mdata\u001b[0m\u001b[1;33m=\u001b[0m\u001b[1;32mNone\u001b[0m\u001b[1;33m,\u001b[0m \u001b[1;33m**\u001b[0m\u001b[0mkwargs\u001b[0m\u001b[1;33m)\u001b[0m\u001b[1;33m:\u001b[0m\u001b[1;33m\u001b[0m\u001b[1;33m\u001b[0m\u001b[0m\n\u001b[0;32m   1360\u001b[0m         \u001b[1;32mif\u001b[0m \u001b[0mdata\u001b[0m \u001b[1;32mis\u001b[0m \u001b[1;32mNone\u001b[0m\u001b[1;33m:\u001b[0m\u001b[1;33m\u001b[0m\u001b[1;33m\u001b[0m\u001b[0m\n\u001b[1;32m-> 1361\u001b[1;33m             \u001b[1;32mreturn\u001b[0m \u001b[0mfunc\u001b[0m\u001b[1;33m(\u001b[0m\u001b[0max\u001b[0m\u001b[1;33m,\u001b[0m \u001b[1;33m*\u001b[0m\u001b[0mmap\u001b[0m\u001b[1;33m(\u001b[0m\u001b[0msanitize_sequence\u001b[0m\u001b[1;33m,\u001b[0m \u001b[0margs\u001b[0m\u001b[1;33m)\u001b[0m\u001b[1;33m,\u001b[0m \u001b[1;33m**\u001b[0m\u001b[0mkwargs\u001b[0m\u001b[1;33m)\u001b[0m\u001b[1;33m\u001b[0m\u001b[1;33m\u001b[0m\u001b[0m\n\u001b[0m\u001b[0;32m   1362\u001b[0m \u001b[1;33m\u001b[0m\u001b[0m\n\u001b[0;32m   1363\u001b[0m         \u001b[0mbound\u001b[0m \u001b[1;33m=\u001b[0m \u001b[0mnew_sig\u001b[0m\u001b[1;33m.\u001b[0m\u001b[0mbind\u001b[0m\u001b[1;33m(\u001b[0m\u001b[0max\u001b[0m\u001b[1;33m,\u001b[0m \u001b[1;33m*\u001b[0m\u001b[0margs\u001b[0m\u001b[1;33m,\u001b[0m \u001b[1;33m**\u001b[0m\u001b[0mkwargs\u001b[0m\u001b[1;33m)\u001b[0m\u001b[1;33m\u001b[0m\u001b[1;33m\u001b[0m\u001b[0m\n",
      "\u001b[1;32mc:\\Users\\aleja\\Anaconda\\lib\\site-packages\\matplotlib\\axes\\_axes.py\u001b[0m in \u001b[0;36mscatter\u001b[1;34m(self, x, y, s, c, marker, cmap, norm, vmin, vmax, alpha, linewidths, edgecolors, plotnonfinite, **kwargs)\u001b[0m\n\u001b[0;32m   4496\u001b[0m         \u001b[0my\u001b[0m \u001b[1;33m=\u001b[0m \u001b[0mnp\u001b[0m\u001b[1;33m.\u001b[0m\u001b[0mma\u001b[0m\u001b[1;33m.\u001b[0m\u001b[0mravel\u001b[0m\u001b[1;33m(\u001b[0m\u001b[0my\u001b[0m\u001b[1;33m)\u001b[0m\u001b[1;33m\u001b[0m\u001b[1;33m\u001b[0m\u001b[0m\n\u001b[0;32m   4497\u001b[0m         \u001b[1;32mif\u001b[0m \u001b[0mx\u001b[0m\u001b[1;33m.\u001b[0m\u001b[0msize\u001b[0m \u001b[1;33m!=\u001b[0m \u001b[0my\u001b[0m\u001b[1;33m.\u001b[0m\u001b[0msize\u001b[0m\u001b[1;33m:\u001b[0m\u001b[1;33m\u001b[0m\u001b[1;33m\u001b[0m\u001b[0m\n\u001b[1;32m-> 4498\u001b[1;33m             \u001b[1;32mraise\u001b[0m \u001b[0mValueError\u001b[0m\u001b[1;33m(\u001b[0m\u001b[1;34m\"x and y must be the same size\"\u001b[0m\u001b[1;33m)\u001b[0m\u001b[1;33m\u001b[0m\u001b[1;33m\u001b[0m\u001b[0m\n\u001b[0m\u001b[0;32m   4499\u001b[0m \u001b[1;33m\u001b[0m\u001b[0m\n\u001b[0;32m   4500\u001b[0m         \u001b[1;32mif\u001b[0m \u001b[0ms\u001b[0m \u001b[1;32mis\u001b[0m \u001b[1;32mNone\u001b[0m\u001b[1;33m:\u001b[0m\u001b[1;33m\u001b[0m\u001b[1;33m\u001b[0m\u001b[0m\n",
      "\u001b[1;31mValueError\u001b[0m: x and y must be the same size"
     ]
    },
    {
     "data": {
      "image/png": "[encoded data removed]",
      "text/plain": [
       "<Figure size 720x720 with 3 Axes>"
      ]
     },
     "metadata": {
      "needs_background": "light"
     },
     "output_type": "display_data"
    }
   ],
   "source": [
    "TimeEvolutionPlot(RobotsTesting,t)"
   ]
  }
 ],
 "metadata": {
  "kernelspec": {
   "display_name": "base",
   "language": "python",
   "name": "python3"
  },
  "language_info": {
   "codemirror_mode": {
    "name": "ipython",
    "version": 3
   },
   "file_extension": ".py",
   "mimetype": "text/x-python",
   "name": "python",
   "nbconvert_exporter": "python",
   "pygments_lexer": "ipython3",
   "version": "3.9.7"
  },
  "orig_nbformat": 4
 },
 "nbformat": 4,
 "nbformat_minor": 2
}
