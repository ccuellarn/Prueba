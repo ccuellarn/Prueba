{
  "cells": [
    {
      "cell_type": "code",
      "execution_count": 7,
      "metadata": {
        "colab": {
          "base_uri": "https://localhost:8080/",
          "height": 17
        },
        "id": "RVpfPcnkOmux",
        "outputId": "949eaddb-5f3a-4152-eaca-bbdd0c39ffce"
      },
      "outputs": [
        {
          "data": {
            "text/html": [
              "<style>.container { width:100% !important; }</style>"
            ],
            "text/plain": [
              "<IPython.core.display.HTML object>"
            ]
          },
          "metadata": {},
          "output_type": "display_data"
        }
      ],
      "source": [
        "from IPython.display import display, HTML\n",
        "display(HTML(\"<style>.container { width:100% !important; }</style>\"))\n",
        "import numpy as np\n",
        "import matplotlib.pyplot as plt\n",
        "import sympy as sym\n",
        "from scipy import integrate"
      ]
    },
    {
      "cell_type": "code",
      "execution_count": 2,
      "metadata": {
        "colab": {
          "base_uri": "https://localhost:8080/"
        },
        "id": "5eemdiizOqSz",
        "outputId": "54acad21-3467-4cc8-e503-eacf9a7fd9c7"
      },
      "outputs": [
        {
          "name": "stdout",
          "output_type": "stream",
          "text": [
            "Machine parameters for float128\n",
            "---------------------------------------------------------------\n",
            "precision =  18   resolution = 1e-18\n",
            "machep =    -63   eps =        1.084202172485504434e-19\n",
            "negep =     -64   epsneg =     5.42101086242752217e-20\n",
            "minexp = -16382   tiny =       3.3621031431120935063e-4932\n",
            "maxexp =  16384   max =        1.189731495357231765e+4932\n",
            "nexp =       15   min =        -max\n",
            "smallest_normal = 3.3621031431120935063e-4932   smallest_subnormal = 4e-4951\n",
            "---------------------------------------------------------------\n",
            "\n"
          ]
        }
      ],
      "source": [
        "print(np.finfo(np.float128))"
      ]
    },
    {
      "cell_type": "code",
      "execution_count": 3,
      "metadata": {
        "id": "VqjGOn2kN7y4"
      },
      "outputs": [],
      "source": [
        "a = 0\n",
        "b = 0.25*np.pi\n",
        "f = lambda x: np.sin(x)"
      ]
    },
    {
      "cell_type": "code",
      "execution_count": 4,
      "metadata": {
        "colab": {
          "base_uri": "https://localhost:8080/"
        },
        "id": "DKbJZeYBOJvz",
        "outputId": "d99f7284-909b-4b0a-d7ff-d06d8fb1982e"
      },
      "outputs": [
        {
          "data": {
            "text/plain": [
              "0.2928932188134524"
            ]
          },
          "execution_count": 4,
          "metadata": {},
          "output_type": "execute_result"
        }
      ],
      "source": [
        "I = -np.cos(b) + np.cos(a)\n",
        "I"
      ]
    },
    {
      "cell_type": "code",
      "execution_count": 5,
      "metadata": {
        "id": "bwCFj899OQ0h"
      },
      "outputs": [],
      "source": [
        "n = 8\n",
        "Roots1, Weights1 = np.polynomial.legendre.leggauss(n)"
      ]
    },
    {
      "cell_type": "code",
      "execution_count": 6,
      "metadata": {
        "colab": {
          "base_uri": "https://localhost:8080/"
        },
        "id": "YXjQdQgEOufs",
        "outputId": "7bb7181b-96a0-465b-d69e-d860c6fcf50e"
      },
      "outputs": [
        {
          "data": {
            "text/plain": [
              "0.2928932188134524"
            ]
          },
          "execution_count": 6,
          "metadata": {},
          "output_type": "execute_result"
        }
      ],
      "source": [
        "t1 = 0.5*( (b-a)*Roots1 + a + b )\n",
        "Integral1 = 0.5*(b-a)*np.sum(Weights1*f(t1))\n",
        "Integral1"
      ]
    },
    {
      "cell_type": "code",
      "execution_count": 8,
      "metadata": {
        "id": "WCSaX079Rrk9"
      },
      "outputs": [],
      "source": [
        "x = sym.Symbol('x',real=True)\n",
        "y = sym.Symbol('y',real=True)"
      ]
    },
    {
      "cell_type": "code",
      "execution_count": 9,
      "metadata": {
        "id": "_mcDUk0rR1IQ"
      },
      "outputs": [],
      "source": [
        "def GetLegendre(n,x,y):\n",
        "  y = (x**2 - 1)**n\n",
        "  poly = sym.diff(y,x,n)/(2**n*np.math.factorial(n))\n",
        "\n",
        "  return poly"
      ]
    },
    {
      "cell_type": "code",
      "execution_count": 10,
      "metadata": {
        "id": "XEw2WdYtSIZg"
      },
      "outputs": [],
      "source": [
        "Legendre = []\n",
        "DLegendre = []\n",
        "\n",
        "for i in range(n+1):\n",
        "  Poly = GetLegendre(i,x,y)\n",
        "  Legendre.append(Poly)\n",
        "  DLegendre.append( sym.diff(Poly,x,1) )"
      ]
    },
    {
      "cell_type": "code",
      "execution_count": 12,
      "metadata": {
        "colab": {
          "base_uri": "https://localhost:8080/",
          "height": 265
        },
        "id": "I12Xb0vNSotN",
        "outputId": "b1ecfde7-6f00-4c22-b42c-1d46f9e716f0"
      },
      "outputs": [
        {
          "data": {
            "image/png": "[encoded data removed]",
            "text/plain": [
              "<Figure size 432x288 with 1 Axes>"
            ]
          },
          "metadata": {
            "needs_background": "light"
          },
          "output_type": "display_data"
        }
      ],
      "source": [
        "_x = np.linspace(-1,1,100)\n",
        "\n",
        "for i, p in enumerate(Legendre):\n",
        "  if i != 0:\n",
        "    pn = sym.lambdify([x],p,'numpy')\n",
        "    plt.plot(_x,pn(_x))"
      ]
    },
    {
      "cell_type": "code",
      "execution_count": 16,
      "metadata": {
        "id": "DgJtgEelTn-T"
      },
      "outputs": [],
      "source": [
        "def GetAllRoots(n,xn,Legendre,DLegendre):\n",
        "\n",
        "  poly = sym.lambdify([x],Legendre[n],'numpy')\n",
        "  Dpoly = sym.lambdify([x],DLegendre[n],'numpy')\n",
        "  Roots = GetRoots(poly,Dpoly,xn)\n",
        "\n",
        "  return Roots"
      ]
    },
    {
      "cell_type": "code",
      "execution_count": 17,
      "metadata": {
        "id": "gvGOq6fvUE2l"
      },
      "outputs": [],
      "source": [
        "#scan\n",
        "xn = np.linspace(-1,1,100)\n",
        "Roots = GetAllRoots(n,xn,Legendre,DLegendre)"
      ]
    },
    {
      "cell_type": "code",
      "execution_count": 20,
      "metadata": {
        "colab": {
          "base_uri": "https://localhost:8080/"
        },
        "id": "WUdo75i4US1K",
        "outputId": "45748751-863b-4a0a-a1d2-14cd20400d15"
      },
      "outputs": [
        {
          "name": "stdout",
          "output_type": "stream",
          "text": [
            "-0.96028985649754 -0.9602898564975362\n",
            "-0.79666647741363 -0.7966664774136267\n",
            "-0.52553240991633 -0.525532409916329\n",
            "-0.18343464249565 -0.18343464249564978\n",
            "0.18343464249565 0.18343464249564978\n",
            "0.52553240991633 0.525532409916329\n",
            "0.79666647741363 0.7966664774136267\n",
            "0.96028985649754 0.9602898564975362\n"
          ]
        }
      ],
      "source": [
        "#el metodo mas eficiente es el de la derecha\n",
        "for i in range(len(Roots)):\n",
        "  print(Roots[i],Roots1[i])"
      ]
    },
    {
      "cell_type": "code",
      "execution_count": 13,
      "metadata": {
        "id": "sEEBv2VpTVxd"
      },
      "outputs": [],
      "source": [
        "def GetNewton(f,df,xn,itmax=10000,precision=1e-14):\n",
        "    \n",
        "    error = 1.\n",
        "    it = 0\n",
        "    \n",
        "    while error >= precision and it < itmax:\n",
        "        \n",
        "        try:\n",
        "            \n",
        "            xn1 = xn - f(xn)/df(xn)\n",
        "            \n",
        "            error = np.abs(f(xn)/df(xn))\n",
        "            \n",
        "        except ZeroDivisionError:\n",
        "            print('Zero Division')\n",
        "            \n",
        "        xn = xn1\n",
        "        it += 1\n",
        "        \n",
        "    if it == itmax:\n",
        "        return False\n",
        "    else:\n",
        "        return xn"
      ]
    },
    {
      "cell_type": "code",
      "execution_count": 14,
      "metadata": {
        "id": "wrENQ_fXTbHW"
      },
      "outputs": [],
      "source": [
        "def GetRoots(f,df,x,tolerancia = 14):\n",
        "    \n",
        "    Roots = np.array([])\n",
        "    \n",
        "    for i in x:\n",
        "        \n",
        "        root = GetNewton(f,df,i)\n",
        "        \n",
        "        if root != False:\n",
        "            \n",
        "            croot = np.round( root, tolerancia )\n",
        "            \n",
        "            if croot not in Roots:\n",
        "                Roots = np.append(Roots, croot)\n",
        "                \n",
        "    Roots.sort()\n",
        "    \n",
        "    return Roots"
      ]
    },
    {
      "cell_type": "code",
      "execution_count": 15,
      "metadata": {
        "colab": {
          "base_uri": "https://localhost:8080/"
        },
        "id": "McV2BdVrTmKz",
        "outputId": "b5febff2-0528-4e41-cabc-13e7e20724fc"
      },
      "outputs": [
        {
          "data": {
            "text/plain": [
              "(0.2928932188134524, 3.2517679528326894e-15)"
            ]
          },
          "execution_count": 15,
          "metadata": {},
          "output_type": "execute_result"
        }
      ],
      "source": [
        "integrate.quad(f,a,b)"
      ]
    },
    {
      "cell_type": "code",
      "execution_count": 21,
      "metadata": {
        "id": "RV5Y7BYfWTkq"
      },
      "outputs": [],
      "source": [
        "def GetWeights(Roots,DLegendre):\n",
        "\n",
        "  Dpoly = sym.lambdify([x],DLegendre[n],'numpy')\n",
        "  Weights = 2/((1-Roots**2)*Dpoly(Roots)**2)\n",
        "\n",
        "  return Weights\n",
        "  "
      ]
    },
    {
      "cell_type": "code",
      "execution_count": 22,
      "metadata": {
        "id": "d6pHthc5WzqU"
      },
      "outputs": [],
      "source": [
        "Weights = GetWeights(Roots,DLegendre)"
      ]
    },
    {
      "cell_type": "code",
      "execution_count": 23,
      "metadata": {
        "colab": {
          "base_uri": "https://localhost:8080/"
        },
        "id": "pUDPP0TQW8xF",
        "outputId": "58b91da5-36ac-4bb9-fc6c-14300a738410"
      },
      "outputs": [
        {
          "name": "stdout",
          "output_type": "stream",
          "text": [
            "0.10122853629036697 0.10122853629037669\n",
            "0.22238103445337154 0.22238103445337434\n",
            "0.31370664587788705 0.31370664587788705\n",
            "0.362683783378362 0.36268378337836177\n",
            "0.362683783378362 0.36268378337836177\n",
            "0.31370664587788705 0.31370664587788705\n",
            "0.22238103445337154 0.22238103445337434\n",
            "0.10122853629036697 0.10122853629037669\n"
          ]
        }
      ],
      "source": [
        "#el metodo mas eficiente es el de la derecha\n",
        "for i in range(len(Roots)):\n",
        "  print(Weights[i],Weights1[i])"
      ]
    }
  ],
  "metadata": {
    "colab": {
      "provenance": []
    },
    "kernelspec": {
      "display_name": "base",
      "language": "python",
      "name": "python3"
    },
    "language_info": {
      "name": "python",
      "version": "3.9.7"
    },
    "vscode": {
      "interpreter": {
        "hash": "ad307bde91f31e4b718ec0c2fe9a8b9cebe22b2862231a694138fcba204f6685"
      }
    }
  },
  "nbformat": 4,
  "nbformat_minor": 0
}
