{
  "cells": [
    {
      "cell_type": "code",
      "execution_count": 1,
      "metadata": {
        "id": "HiPIkoMkL0n6"
      },
      "outputs": [],
      "source": [
        "%matplotlib notebook\n",
        "import numpy as np\n",
        "import matplotlib.pyplot as plt\n",
        "from tqdm import tqdm\n",
        "from scipy import integrate\n",
        "from scipy.stats import norm \n",
        "from scipy.stats import beta\n",
        "import matplotlib.animation as anim"
      ]
    },
    {
      "cell_type": "code",
      "execution_count": 2,
      "metadata": {
        "id": "Zod-UmqAL9Sc"
      },
      "outputs": [],
      "source": [
        "def f(x):\n",
        "    #return beta.pdf(x,2,4)\n",
        "    return norm.pdf(x,0,1)"
      ]
    },
    {
      "cell_type": "code",
      "execution_count": 3,
      "metadata": {
        "id": "2Oj4E3pdL-Sc"
      },
      "outputs": [
        {
          "data": {
            "text/plain": [
              "(0.9999999999999998, 1.0178191349259989e-08)"
            ]
          },
          "execution_count": 3,
          "metadata": {},
          "output_type": "execute_result"
        }
      ],
      "source": [
        "I = integrate.quad(f,-np.inf,np.inf)\n",
        "I"
      ]
    },
    {
      "cell_type": "code",
      "execution_count": 4,
      "metadata": {
        "id": "AyL1PVSPMEJB"
      },
      "outputs": [
        {
          "data": {
            "text/plain": [
              "0.3989372836656826"
            ]
          },
          "execution_count": 4,
          "metadata": {},
          "output_type": "execute_result"
        }
      ],
      "source": [
        "a = -5\n",
        "b = 5 \n",
        "x = np.linspace(a,b,1000)\n",
        "y = f(x)\n",
        "Max = np.max(y)\n",
        "Max"
      ]
    }
  ],
  "metadata": {
    "colab": {
      "provenance": []
    },
    "kernelspec": {
      "display_name": "Python 3",
      "name": "python3"
    },
    "language_info": {
      "codemirror_mode": {
        "name": "ipython",
        "version": 3
      },
      "file_extension": ".py",
      "mimetype": "text/x-python",
      "name": "python",
      "nbconvert_exporter": "python",
      "pygments_lexer": "ipython3",
      "version": "3.9.7"
    }
  },
  "nbformat": 4,
  "nbformat_minor": 0
}
