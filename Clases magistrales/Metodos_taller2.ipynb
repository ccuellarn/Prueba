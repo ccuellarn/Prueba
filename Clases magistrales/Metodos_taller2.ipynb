{
  "cells": [
    {
      "cell_type": "code",
      "execution_count": 1,
      "metadata": {
        "id": "snIthsvCnjok"
      },
      "outputs": [],
      "source": [
        "import numpy as np\n",
        "import matplotlib.pyplot as plt\n",
        "from matplotlib import rc\n",
        "import pandas as pd\n",
        "import sympy as sym\n",
        "import os.path as path\n",
        "import os\n",
        "import wget\n",
        "import urllib.request"
      ]
    },
    {
      "attachments": {},
      "cell_type": "markdown",
      "metadata": {
        "id": "Ai79dZK5i_km"
      },
      "source": [
        "**1)** Demuestre que el polinomio interpolador es único.\n",
        "\n",
        "**Respuesta:** Dada la definición básica del polinomio de interpolación como,\n",
        "\n",
        "$$ P(x_k) = y_k,  \\quad \\forall k \\in \\{0,...,n\\}$$\n",
        "\n",
        "Podemos demostrar que dicho polinomio será único si la resta junto con otro polinomio interpolador que pase por los mismos puntos es igual a cero. Por ello, el conjunto interpolador estará dado por,\n",
        "\n",
        "$$\\Omega = \\{(x_i,y_i),...,(x_j,y_j)\\} \\quad | x_i \\neq x_j$$\n",
        "\n",
        "Es necesaria dicha condición para que el demoninador de la base de Lagrange no se indetermine. Ahora bien, sea U(x) y W(x) dos polinomios interpoladores que pasan por los mismos puntos. Dado el conjunto {0,1,2,..,n} obtenemos para cada polinomio,\n",
        "\n",
        "$$U(x_0) = y_0, \\quad W(x_0) = y_0$$\n",
        "$$U(x_1) = y_1, \\quad W(x_1) = y_1$$\n",
        "$$U(x_2) = y_2, \\quad W(x_2) = y_2$$\n",
        "$$U(x_k) = y_k, \\quad W(x_k) = y_k$$\n",
        "\n",
        "Entonces,\n",
        "\n",
        "$$U(x)=\\{y_0,y_1,y_1,...,y_k\\}, \\quad W(x)=\\{y_0,y_1,y_1,...,y_k\\}$$\n",
        "\n",
        "$$U(x) - W(x) = \\{y_0,y_1,y_1,...,y_k\\} - \\{y_0,y_1,y_1,...,y_k\\} = 0$$\n",
        "\n",
        "Por contradicción queda demostrado que U(x)=W(x), sólo existe un polinomio interpolador.\n"
      ]
    },
    {
      "attachments": {},
      "cell_type": "markdown",
      "metadata": {
        "id": "UFrih_MZjIZc"
      },
      "source": [
        "**2)** En el lanzamiento de una bala, una cámara fotográfica registra las siguientes posiciones\n",
        "en metros respecto al arma homicida (tome ~g = −9.8 m/s2 ˆj):\n",
        "https://raw.githubusercontent.com/asegura4488/Database/main/MetodosComputacionalesReforma/Parabolico.csv\n",
        "Estime el vector velocidad inicial, que estaría definido por la magnitud y dirección. Rpta:\n",
        "V0 = 10 m/s y θ = 20◦. Hint: Encuentre el termino lineal y cuadrático de la interpolación\n",
        "y compare con la ecuación de trayectoria de la bala."
      ]
    },
    {
      "cell_type": "code",
      "execution_count": 2,
      "metadata": {
        "id": "QfTZjDF3jGyD"
      },
      "outputs": [
        {
          "name": "stdout",
          "output_type": "stream",
          "text": [
            "[ 5. 10. 15.] [10. 15. 25.]\n"
          ]
        }
      ],
      "source": [
        "if not path.exists('Data'):\n",
        "    os.mkdir('Data')\n",
        "    \n",
        "file = 'Data/Interpolacion.dat'\n",
        "url = ' https://raw.githubusercontent.com/asegura4488/Database/main/MetodosComputacionalesReforma/Parabolico.csv'\n",
        "\n",
        "if not path.exists(file):\n",
        "    Path_ = wget.download(url,file)\n",
        "    \n",
        "else:\n",
        "    Path_ = file\n",
        "\n",
        "Data = pd.read_csv(Path_)\n",
        "\n",
        "X = np.float64(Data.X)\n",
        "Y = np.float64(Data.Y)\n",
        "print(X,Y)"
      ]
    },
    {
      "cell_type": "code",
      "execution_count": 10,
      "metadata": {},
      "outputs": [
        {
          "data": {
            "text/html": [
              "<div>\n",
              "<style scoped>\n",
              "    .dataframe tbody tr th:only-of-type {\n",
              "        vertical-align: middle;\n",
              "    }\n",
              "\n",
              "    .dataframe tbody tr th {\n",
              "        vertical-align: top;\n",
              "    }\n",
              "\n",
              "    .dataframe thead th {\n",
              "        text-align: right;\n",
              "    }\n",
              "</style>\n",
              "<table border=\"1\" class=\"dataframe\">\n",
              "  <thead>\n",
              "    <tr style=\"text-align: right;\">\n",
              "      <th></th>\n",
              "      <th>X</th>\n",
              "      <th>Y</th>\n",
              "    </tr>\n",
              "  </thead>\n",
              "  <tbody>\n",
              "    <tr>\n",
              "      <th>0</th>\n",
              "      <td>1.4</td>\n",
              "      <td>0.400795</td>\n",
              "    </tr>\n",
              "    <tr>\n",
              "      <th>1</th>\n",
              "      <td>3.5</td>\n",
              "      <td>0.594128</td>\n",
              "    </tr>\n",
              "    <tr>\n",
              "      <th>2</th>\n",
              "      <td>5.6</td>\n",
              "      <td>0.298028</td>\n",
              "    </tr>\n",
              "  </tbody>\n",
              "</table>\n",
              "</div>"
            ],
            "text/plain": [
              "     X         Y\n",
              "0  1.4  0.400795\n",
              "1  3.5  0.594128\n",
              "2  5.6  0.298028"
            ]
          },
          "execution_count": 10,
          "metadata": {},
          "output_type": "execute_result"
        }
      ],
      "source": [
        "datos = pd.read_csv('https://raw.githubusercontent.com/asegura4488/Database/main/MetodosComputacionalesReforma/Parabolico.csv')\n",
        "\n",
        "t=[0,1,2]\n",
        "X=[1.4,3.5,5.6]\n",
        "Y=[0.400795,0.594128,0.298028]\n",
        "datos"
      ]
    },
    {
      "cell_type": "code",
      "execution_count": 4,
      "metadata": {
        "id": "_3iFcdoKoy0C"
      },
      "outputs": [],
      "source": [
        "def Lagrange(x,xi,j):\n",
        "    \n",
        "    prod = 1.0\n",
        "    n = len(xi)\n",
        "    \n",
        "    for i in range(n):\n",
        "        if i != j:\n",
        "            prod *= (x - xi[i])/(xi[j]-xi[i])\n",
        "            \n",
        "    return prod\n",
        "\n",
        "def Interpolate(x,xi,yi):\n",
        "    \n",
        "    Sum = 0.\n",
        "    n = len(xi)\n",
        "    \n",
        "    for j in range(n):\n",
        "        Sum += yi[j]*Lagrange(x,xi,j)\n",
        "        \n",
        "    return Sum"
      ]
    },
    {
      "cell_type": "code",
      "execution_count": 5,
      "metadata": {
        "id": "vCkfWNbNo7Wz"
      },
      "outputs": [
        {
          "data": {
            "text/latex": [
              "$\\displaystyle - 0.2447165 x^{2} + 0.4380495 x + 0.400795$"
            ],
            "text/plain": [
              "-0.2447165*x**2 + 0.4380495*x + 0.400795"
            ]
          },
          "execution_count": 5,
          "metadata": {},
          "output_type": "execute_result"
        }
      ],
      "source": [
        "x = sym.Symbol('x',real=True)\n",
        "\n",
        "f = Interpolate(x,t,Y)\n",
        "fu = sym.simplify(f)\n",
        "func_pos = sym.lambdify([x],fu,'numpy')\n",
        "fu\n"
      ]
    },
    {
      "cell_type": "code",
      "execution_count": 6,
      "metadata": {},
      "outputs": [
        {
          "data": {
            "text/latex": [
              "$\\displaystyle 0.4380495 - 0.489433 x$"
            ],
            "text/plain": [
              "0.4380495 - 0.489433*x"
            ]
          },
          "execution_count": 6,
          "metadata": {},
          "output_type": "execute_result"
        }
      ],
      "source": [
        "df = sym.diff(f,x)\n",
        "dfu = sym.simplify(df)\n",
        "func_vel = sym.lambdify([x],df,'numpy')\n",
        "#reemplazar la segunda x por la gravedad\n",
        "dfu"
      ]
    },
    {
      "cell_type": "code",
      "execution_count": 7,
      "metadata": {
        "id": "AqFPr4uJrWtq"
      },
      "outputs": [],
      "source": [
        "\n",
        "#Para comparar la usamos como seria su ideal, encontrando el maximo de la velocidad y el tiempo\n",
        "#v0y = (ymax - y0 - (1/2)*g*t**2) / t\n",
        "#donde y0=0 y g el valor dado\n",
        "#para el movimiento en x, x0=0\n",
        "#v0x = (xmax - x0) / t\n",
        "#v= np.sqrt(v0x**2 + v0y**2)\n",
        "#theta = np.arctan(v0y /v0x)\n"
      ]
    },
    {
      "attachments": {},
      "cell_type": "markdown",
      "metadata": {
        "id": "F6nXs0BRjZ-g"
      },
      "source": [
        "**3)** Hacer pasos intermedios para regla de trapecio simple, Ecuación (3.81)."
      ]
    },
    {
      "attachments": {},
      "cell_type": "markdown",
      "metadata": {},
      "source": [
        "**Respuesta:** Dada la integral.\n",
        "$$\\int_{a}^{b} p_1(x) dx $$\n",
        "\n",
        "Donde,\n",
        "\n",
        "$$p_1(x) = \\frac{x-b}{a-b}f(a) + \\frac{x-a}{b-a}f(b), \\forall x \\in [a,b]$$\n",
        "\n",
        "Podemos desarrollar la integral para la regla del trapecio simple.\n",
        "\n",
        "$$\\int_{a}^{b} \\frac{x-b}{a-b}f(a) dx + \\frac{x-a}{b-a}f(b) dx = \\frac{f(a)}{a-b} \\int_{a}^{b} x-b \\cdot dx + \\frac{f(b)}{b-a} \\int_{a}^{b} x-a \\cdot dx$$\n",
        "\n",
        "$$\\frac{f(a)}{a-b} \\cdot \\frac{x^2}{2}-bx + \\frac{f(b)}{b-a} \\cdot \\frac{x^2}{2}-ax $$\n",
        "\n",
        "Evaluando en los límites obtenemos que,\n",
        "\n",
        "$$\\frac{f(a)}{a-b} \\cdot \\frac{b^2}{2}-b^2 - \\frac{f(a)}{a-b} \\cdot \\frac{a^2}{2}-ba + \\frac{f(b)}{b-a} \\cdot \\frac{b^2}{2}-ba - \\frac{f(b)}{b-a} \\cdot \\frac{a^2}{2}-a^2 $$\n",
        "\n",
        "$$\\frac{f(a)}{a-b} \\cdot \\frac{b^2 -a^2+2ab}{2} + \\frac{f(b)}{b-a} \\cdot \\frac{b^2-2ab +a^2}{2} = \\frac{f(a)}{a-b} \\cdot \\frac{(b-a)(a-b)}{2} + \\frac{f(b)}{b-a} \\cdot \\frac{(b-a)(b-a)}{2}$$\n",
        "\n",
        "Simplificando obtenemos el resultado para la integral,\n",
        "\n",
        "$$f(a)\\cdot \\frac{b-a}{2} + f(b) \\cdot \\frac{b-a}{2} \\Rightarrow \\int_{a}^{b} p_1(x) dx = \\frac{b-a}{2} (f(a) + f(b))$$"
      ]
    },
    {
      "attachments": {},
      "cell_type": "markdown",
      "metadata": {
        "id": "k0p1QRCgjdPW"
      },
      "source": [
        "**4)** Hacer los pasos intermedios para encontrar la regla de Simpson simple,\n",
        "Ecuación (3.94)."
      ]
    },
    {
      "attachments": {},
      "cell_type": "markdown",
      "metadata": {},
      "source": [
        "**Respuesta:** Dada la integral,\n",
        "\n",
        "Dada la integral.\n",
        "$$\\int_{a}^{b} p_2(x) dx $$\n",
        "\n",
        "Donde,\n",
        "\n",
        "$$p_2(x) = \\frac{(x-b)(x-x_m)}{(a-b)(a-x_m)}f(a) + \\frac{(x-a)(x-b)}{(x_m-a)(x_m-b)}f(x_m) + \\frac{(x-a)(x-x_m)}{(b-a)(b-x_m)}f(b)$$\n",
        "\n",
        "Podemos desarrollar la integral para la regla del trapecio simple teniendo en cuenta que $x_m = \\frac{a+b}{2}$.\n",
        "\n"
      ]
    },
    {
      "cell_type": "markdown",
      "metadata": {
        "id": "tGsYwIy5jj1Z"
      },
      "source": [
        "Escribir el polinomio p(x) = 3 + 5x + x\n",
        "2\n",
        "en la base de Legendre. Rpta: p(x) = 10\n",
        "3\n",
        "p0(x) +\n",
        "5p1(x) + 2\n",
        "3\n",
        "p2(x)"
      ]
    }
  ],
  "metadata": {
    "colab": {
      "provenance": []
    },
    "kernelspec": {
      "display_name": "base",
      "language": "python",
      "name": "python3"
    },
    "language_info": {
      "codemirror_mode": {
        "name": "ipython",
        "version": 3
      },
      "file_extension": ".py",
      "mimetype": "text/x-python",
      "name": "python",
      "nbconvert_exporter": "python",
      "pygments_lexer": "ipython3",
      "version": "3.9.7"
    },
    "vscode": {
      "interpreter": {
        "hash": "ad307bde91f31e4b718ec0c2fe9a8b9cebe22b2862231a694138fcba204f6685"
      }
    }
  },
  "nbformat": 4,
  "nbformat_minor": 0
}
