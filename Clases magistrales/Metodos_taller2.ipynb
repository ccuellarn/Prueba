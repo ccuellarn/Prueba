{
  "cells": [
    {
      "cell_type": "code",
      "execution_count": 11,
      "metadata": {
        "id": "snIthsvCnjok"
      },
      "outputs": [],
      "source": [
        "import numpy as np\n",
        "import matplotlib.pyplot as plt\n",
        "from matplotlib import rc\n",
        "import pandas as pd\n",
        "import sympy as sym\n",
        "import os.path as path\n",
        "import os\n",
        "import wget\n",
        "import urllib.request"
      ]
    },
    {
      "attachments": {},
      "cell_type": "markdown",
      "metadata": {
        "id": "tGsYwIy5jj1Z"
      },
      "source": [
        "**4)** Escribir el polinomio $p(x) = 3 + 5x + x^2$ en la base de Legendre. "
      ]
    },
    {
      "cell_type": "code",
      "execution_count": 14,
      "metadata": {},
      "outputs": [
        {
          "name": "stdout",
          "output_type": "stream",
          "text": [
            "1\n",
            "x\n",
            "3*x**2/2 - 1/2\n"
          ]
        }
      ],
      "source": [
        "x = sym.Symbol('x',real=True)\n",
        "\n",
        "#defino mi propio polinomio\n",
        "p = x**2 + 5*x +3\n",
        "\n",
        "#en una lista se tienen los dos primeros polinomios de legendre\n",
        "p0 = 1\n",
        "p1 = x\n",
        "leg_poly = [p0,p1]\n",
        "\n",
        "#para el resto\n",
        "for i in range(2,3):\n",
        "    #formula de las notas\n",
        "    re = ((2*i-1)*(x*p1) - (i-1)*p0) / i\n",
        "    #que se añadan y actualicen las variables\n",
        "    leg_poly.append(re)\n",
        "    p0 = p1\n",
        "    p1 = re\n",
        "    \n",
        "#imprimir los polinomios generados\n",
        "for poly in leg_poly:\n",
        "    print(poly)\n",
        "     "
      ]
    },
    {
      "cell_type": "code",
      "execution_count": 18,
      "metadata": {},
      "outputs": [
        {
          "name": "stdout",
          "output_type": "stream",
          "text": [
            "13.333333333333334\n"
          ]
        }
      ],
      "source": [
        "\n",
        "\n",
        "#creo un array para que guarde los coeficientes del polinomio\n",
        "coef = np.zeros(3)\n",
        "\n",
        "for i in range(0,3):\n",
        "    #se multplica el mio con el de legendre\n",
        "    multi = p * leg_poly[i]\n",
        "    #hago la integral pero entre -1,1 usando sympy porque que mamera integrar\n",
        "    inte = sym.integrate(multi,(x, -1, 1))\n",
        "    #cambiar al ceoficiente dividiendo la integral por la base de legendre\n",
        "    coef[i] = inte / ((2*i+1)*(0.5))\n",
        "    \n",
        "print(coef[0])\n",
        "    \n"
      ]
    },
    {
      "cell_type": "code",
      "execution_count": 27,
      "metadata": {},
      "outputs": [],
      "source": [
        "import numpy as np\n",
        "from sympy import symbols\n",
        "from sympy.physics.quantum.legendre import legendre\n",
        "\n",
        "x = symbols('x')\n",
        "n = 2  # grado del polinomio\n",
        "\n",
        "# Definir los polinomios de Legendre\n",
        "P = [legendre(i, x) for i in range(n+1)]\n",
        "\n",
        "# Definir el polinomio a expresar en términos de los polinomios de Legendre\n",
        "f = x**2 + 5*x + 3\n",
        "\n",
        "# Crear una matriz de coeficientes del sistema de ecuaciones\n",
        "A = np.zeros((3, 3))\n",
        "for i in range(3):\n",
        "    for j in range(3):\n",
        "        A[i, j] = P[j].coeff(x, i)\n",
        "\n",
        "# Crear un arreglo de valores de x en los que evaluaremos f\n",
        "x_vals = np.array([-1, 0, 1])\n",
        "\n",
        "# Evaluar f en los valores de x\n",
        "f_vals = np.array([f.subs(x, x_vals[i]) for i in range(3)])\n",
        "\n",
        "# Resolver el sistema de ecuaciones\n",
        "alpha = np.linalg.solve(A, f_vals)\n",
        "\n",
        "# Imprimir las constantes fraccionarias\n",
        "print(\"alpha_0 = {}\".format(alpha[0]))\n",
        "print(\"alpha_1 = {}\".format(alpha[1]))\n",
        "print(\"alpha_2 = {}\".format(alpha[2]))\n",
        "\n"
      ]
    }
  ],
  "metadata": {
    "colab": {
      "provenance": []
    },
    "kernelspec": {
      "display_name": "base",
      "language": "python",
      "name": "python3"
    },
    "language_info": {
      "codemirror_mode": {
        "name": "ipython",
        "version": 3
      },
      "file_extension": ".py",
      "mimetype": "text/x-python",
      "name": "python",
      "nbconvert_exporter": "python",
      "pygments_lexer": "ipython3",
      "version": "3.9.7"
    },
    "vscode": {
      "interpreter": {
        "hash": "ad307bde91f31e4b718ec0c2fe9a8b9cebe22b2862231a694138fcba204f6685"
      }
    }
  },
  "nbformat": 4,
  "nbformat_minor": 0
}
