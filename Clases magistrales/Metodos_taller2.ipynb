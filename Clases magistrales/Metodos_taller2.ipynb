{
  "cells": [
    {
      "cell_type": "code",
      "execution_count": 1,
      "metadata": {
        "id": "snIthsvCnjok"
      },
      "outputs": [],
      "source": [
        "import numpy as np\n",
        "import matplotlib.pyplot as plt\n",
        "from matplotlib import rc\n",
        "import pandas as pd\n",
        "import sympy as sym\n",
        "from scipy.special import roots_laguerre\n"
      ]
    },
    {
      "attachments": {},
      "cell_type": "markdown",
      "metadata": {
        "id": "tGsYwIy5jj1Z"
      },
      "source": [
        "**4)** Escribir el polinomio $p(x) = 3 + 5x + x^2$ en la base de Legendre. "
      ]
    },
    {
      "cell_type": "markdown",
      "metadata": {},
      "source": []
    },
    {
      "cell_type": "code",
      "execution_count": 46,
      "metadata": {},
      "outputs": [
        {
          "name": "stdout",
          "output_type": "stream",
          "text": [
            "El polinomio escrito en la base de Legendre es (3.3333333333333335)p_0(x) +(5.0)p_1(x)+(0.6666666666666666)p_2(x)\n"
          ]
        }
      ],
      "source": [
        "x = sym.Symbol('x',real=True)\n",
        "\n",
        "#Código que genera los polinomios de Legendre\n",
        "\n",
        "#Primeros polinomios de Legendre\n",
        "p0 = 1\n",
        "p1 = x\n",
        "Legendre_polynomy = [p0,p1]\n",
        "\n",
        "#Demás grados de polinomio\n",
        "for i in range(2,3):\n",
        "    Legendre_basis = ((2*i-1)*(x*p1) - (i-1)*p0) / i\n",
        "    Legendre_polynomy.append(Legendre_basis)\n",
        "    p0 = p1\n",
        "    p1 = Legendre_basis\n",
        "\n",
        "#Código para escribir el polinomio propio en base de Legendre\n",
        "polynomy = x**2 + 5*x +3\n",
        "coefficient = np.zeros(3)\n",
        "\n",
        "for i in range(0,3):\n",
        "    Multiplication = polynomy * Legendre_polynomy[i]\n",
        "    Integral = sym.integrate(Multiplication,(x, -1, 1))\n",
        "    a = Fraction(float(Integral*((2*i+1)/2)))\n",
        "    coefficient[i] = a\n",
        "\n",
        "print(\"El polinomio escrito en la base de Legendre es ({})p_0(x) +({})p_1(x)+({})p_2(x)\".format(coefficient[0],coefficient[1],coefficient[2]) )\n",
        "     "
      ]
    },
    {
      "cell_type": "code",
      "execution_count": 47,
      "metadata": {},
      "outputs": [],
      "source": [
        "#punto 8 cap derivacion\n",
        "\n",
        "h=0.01\n",
        "x = np.linspace(0.1,1.1,100)\n",
        "\n",
        "def f(x):\n",
        "    return np.sqrt(np.tan(x))\n"
      ]
    },
    {
      "attachments": {},
      "cell_type": "markdown",
      "metadata": {},
      "source": [
        "**c)** Para $f(x) = \\sqrt tan(x)$ estimar la derivada progresiva de orden $\\sigma(h^2)$ en el intervalo $[0.1, 1.1]$ con $h = 0.01$."
      ]
    },
    {
      "cell_type": "code",
      "execution_count": 48,
      "metadata": {},
      "outputs": [
        {
          "name": "stdout",
          "output_type": "stream",
          "text": [
            "El valor estimado para la derivada progresiva de f(x) en dicho punto es: 1.090426943319555\n"
          ]
        }
      ],
      "source": [
        "def derivate_progresive(x):\n",
        "    return (1/(2*h))*(-3*f(x) + 4*f(x + h) - f(x + (2*h))) \n",
        "\n",
        "num1 = (np.sum(derivate_progresive(x))) / 100\n",
        "print(\"El valor estimado para la derivada progresiva de f(x) en dicho punto es:\",num1)"
      ]
    },
    {
      "attachments": {},
      "cell_type": "markdown",
      "metadata": {},
      "source": [
        "**d)** Para $f(x) = \\sqrt tan(x)$ estimar la derivada central de orden $\\sigma(h^2)$ en el intervalo $[0.1, 1.1]$ con $h = 0.01$."
      ]
    },
    {
      "cell_type": "code",
      "execution_count": 49,
      "metadata": {},
      "outputs": [
        {
          "name": "stdout",
          "output_type": "stream",
          "text": [
            "El valor estimado para la derivada central de f(x) en dicho punto es: 1.091054631918836\n"
          ]
        }
      ],
      "source": [
        "def derivate_central(x):\n",
        "    return (f(x+h) - f(x-h)) / (2*h)\n",
        "\n",
        "num2 = (np.sum(derivate_central(x))) / 100\n",
        "print(\"El valor estimado para la derivada central de f(x) en dicho punto es:\",num2)"
      ]
    },
    {
      "attachments": {},
      "cell_type": "markdown",
      "metadata": {},
      "source": [
        "**e)** Calcule analíticamente la derivada de la función $f(x)$ y grafique con la estimación central y progresiva de orden $\\sigma(h^2)$."
      ]
    },
    {
      "cell_type": "code",
      "execution_count": 50,
      "metadata": {},
      "outputs": [
        {
          "name": "stdout",
          "output_type": "stream",
          "text": [
            "El valor estimado para la derivada analítica de f(x) en dicho punto es: 1.0908375524407108\n"
          ]
        }
      ],
      "source": [
        "def derivate_analitic(x):\n",
        "    return ((np.tan(x))**2 +1) / (2*np.sqrt(np.tan(x)))\n",
        "\n",
        "num3 = (np.sum(derivate_analitic(x))) / 100\n",
        "print(\"El valor estimado para la derivada analítica de f(x) en dicho punto es:\",num3)"
      ]
    },
    {
      "cell_type": "code",
      "execution_count": 51,
      "metadata": {},
      "outputs": [
        {
          "data": {
            "text/plain": [
              "<matplotlib.collections.PathCollection at 0x1ed4f6a5640>"
            ]
          },
          "execution_count": 51,
          "metadata": {},
          "output_type": "execute_result"
        },
        {
          "data": {
            "image/png": "[encoded data removed]",
            "text/plain": [
              "<Figure size 432x288 with 1 Axes>"
            ]
          },
          "metadata": {
            "needs_background": "light"
          },
          "output_type": "display_data"
        }
      ],
      "source": [
        "plt.scatter(x,derivate_progresive(x), color='b')\n",
        "plt.scatter(x,derivate_central(x), color='g')\n",
        "plt.scatter(x,derivate_analitic(x), color='k')\n"
      ]
    },
    {
      "attachments": {},
      "cell_type": "markdown",
      "metadata": {},
      "source": [
        "**f)** Grafique el error nodal para ambas aproximaciones."
      ]
    },
    {
      "cell_type": "code",
      "execution_count": 52,
      "metadata": {},
      "outputs": [
        {
          "data": {
            "image/png": "[encoded data removed]",
            "text/plain": [
              "<Figure size 432x288 with 1 Axes>"
            ]
          },
          "metadata": {
            "needs_background": "light"
          },
          "output_type": "display_data"
        }
      ],
      "source": [
        "x = np.linspace(0.1,1.1,100)\n",
        "error_progresive = np.zeros_like(x)\n",
        "error_central = np.zeros_like(x)\n",
        "\n",
        "for i in range(len(x)):\n",
        "    error_progresive[i] = np.abs(derivate_progresive(x[i]) - derivate_analitic(x[i]))\n",
        "    error_central[i] = np.abs(derivate_central(x[i]) - derivate_analitic(x[i]))\n",
        "    \n",
        "    \n",
        "plt.plot(x,error_central, color='k',label='Error central')\n",
        "plt.plot(x,error_progresive, color='b',label='Error central')\n",
        "plt.legend()\n",
        "plt.show()\n",
        "    "
      ]
    },
    {
      "attachments": {},
      "cell_type": "markdown",
      "metadata": {},
      "source": [
        "**17)** **$\\verb|(Python)|$** In the black-body radiation problem the following integral appears:\n",
        "\n",
        "$$\\int_{0}^{\\infty} \\frac{x^3}{e^x - 1}\\mathrm{d}x = \\frac{\\pi^4}{15}.$$\n",
        "\n",
        "**(a)** Compute this integral using the Gauss-Laguerre quadrature method for $n = 3$ evaluation\n",
        "points.\n",
        "\n",
        "Para este caso, debemos hallar las raíces y pesos para la cuadratura Gauss-Laguerre implementando el método de Newton-Rhapson. En primer lugar, generaremos los polinomios de Laguerre de grado 3 y hallaremos sus respectivas raíces reales. Dado este resultado podemos hallar los pesos de la cuadratura dados por la ecuación,\n",
        "\n",
        "$$w_k = \\frac{x_k}{(n + 1)^2 \\cdot [L_{n + 1}(x_{k})]^2}$$\n",
        "\n",
        "Donde $x_i$ son las raíces del polinomio de grado n de Laguerre. Con esto, la integral se podría aproximar a partir de la siguiente expresión,\n",
        "\n",
        "$$ \\int_{0}^{∞} f(x)e^{-x} = \\sum_{i=1}^{n} w_if(x_i)$$\n",
        "\n",
        "Sin embargo, nótese que la función evaluada por la integral debe estar acompañada de la expresión $e^{-x}$. Por ello, modificaremos la función dada para que cumpla con dicha condición. Sea $a$ la expresión a la que queremos llegar,\n",
        "\n",
        "$$ \\frac{x^3}{e^x - 1} = ae^{-x} \\rightarrow a = \\frac{x^3e^x}{e^x - 1}$$\n",
        "\n",
        "Esta será la función sobre la que realizaremos la cuadratura."
      ]
    },
    {
      "cell_type": "code",
      "execution_count": 17,
      "metadata": {},
      "outputs": [],
      "source": [
        "\n",
        "def CDerivative(function, x, h =1e-4):\n",
        "    return (function(x + h) - function(x - h))/(2*h)\n",
        "\n",
        "def NewtonRhapson(function, dfunction, xn, itmax = 100, precision = 1e-5):\n",
        "    error = 1\n",
        "    it = 0\n",
        "    while error > precision and it <= itmax:\n",
        "        try:\n",
        "            xn1 = xn - function(xn)/dfunction(function, xn)\n",
        "            error = np.abs(function(xn)/dfunction(function, xn))\n",
        "        \n",
        "        except ZeroDivisionError:\n",
        "            print('No es posible realizar la división entre cero.')\n",
        "        it += 1\n",
        "        xn = xn1\n",
        "    if itmax == it:\n",
        "        False\n",
        "    else:\n",
        "        return xn\n",
        "\n",
        "def FindingRoots(function, x, dfunction = CDerivative, tolerance = 8):\n",
        "    Roots = np.array([])\n",
        "    for i in x:\n",
        "        root = NewtonRhapson(function, dfunction, i)\n",
        "        if root != False:\n",
        "            root = np.round(root, tolerance)\n",
        "            if root not in Roots:\n",
        "                Roots = np.append(Roots, root)\n",
        "    Roots.sort()\n",
        "    return Roots"
      ]
    },
    {
      "cell_type": "code",
      "execution_count": 16,
      "metadata": {},
      "outputs": [
        {
          "name": "stdout",
          "output_type": "stream",
          "text": [
            "[0.58578644 3.41421356]\n"
          ]
        }
      ],
      "source": [
        "\n"
      ]
    },
    {
      "cell_type": "code",
      "execution_count": 137,
      "metadata": {},
      "outputs": [],
      "source": [
        "# X dada para simbolos:\n",
        "x_ = sym.symbols('x')\n",
        "\n",
        "# X dada para valores:\n",
        "x = np.linspace(-0.1, 40, 500)\n",
        "\n",
        "# Definimos la función que obtendrá los polinomios de Laguerre:\n",
        "def LaguerrePolynomia(n):\n",
        "    if n >= 0:\n",
        "        semi_laguerre = (np.e**x_)/np.math.factorial(n)\n",
        "        main_laguerre = (np.e**(-x_))*(x_**n)\n",
        "\n",
        "        if n >= 1:\n",
        "            for i in range(1, n + 1):\n",
        "                main_laguerre = sym.diff(main_laguerre, x_)\n",
        "        polynomia = sym.simplify(main_laguerre * semi_laguerre)\n",
        "        return polynomia\n",
        "    \n",
        "    else:\n",
        "        print(\"El valor de \\\"n\\\" digitado no es válido.\")\n",
        "    \n",
        "# Se define la función bajo la forma exigida de la cuadratura \n",
        "def General(x):\n",
        "    return ((x**3)*(np.exp(x))) / (np.exp(x) - 1)\n",
        "\n",
        "# Definimos la función que generará dicha integral para cualquier grado:\n",
        "def LaguerreIntegral(n):\n",
        "    function = sym.lambdify([x_], LaguerrePolynomia(n), 'numpy') \n",
        "    \n",
        "    #Raíces del polinomio de grado n de Laguerre:\n",
        "    x_i = FindingRoots(function, x)\n",
        "    \n",
        "    w = np.array([])\n",
        "    for k in range(n):\n",
        "        L_i = sym.lambdify([x_], LaguerrePolynomia(n+1), 'numpy')\n",
        "        \n",
        "        # Pesos de la cuadratura Gauss-Laguerre para el polinomio de grado n:\n",
        "        w_i = (x_i[k]) / ( ((n+1)**2) * ((L_i(x_i[k]))**2) )\n",
        "        w = np.append(w,w_i)\n",
        "        \n",
        "    Integral = np.sum(w*General(x_i))\n",
        "    \n",
        "    return Integral"
      ]
    },
    {
      "cell_type": "code",
      "execution_count": 138,
      "metadata": {},
      "outputs": [
        {
          "data": {
            "text/plain": [
              "6.48113017274292"
            ]
          },
          "execution_count": 138,
          "metadata": {},
          "output_type": "execute_result"
        }
      ],
      "source": [
        "LaguerreIntegral(3)"
      ]
    },
    {
      "cell_type": "code",
      "execution_count": 139,
      "metadata": {},
      "outputs": [
        {
          "data": {
            "text/plain": [
              "0.9980275101551707"
            ]
          },
          "execution_count": 139,
          "metadata": {},
          "output_type": "execute_result"
        }
      ],
      "source": [
        "c = ((np.pi)**4) / 15\n",
        "LaguerreIntegral(3) / c"
      ]
    },
    {
      "cell_type": "code",
      "execution_count": 152,
      "metadata": {},
      "outputs": [
        {
          "name": "stdout",
          "output_type": "stream",
          "text": [
            "El error relatiivo para el polinomio de grado 2 es de 0.988\n",
            "El error relatiivo para el polinomio de grado 3 es de 0.998\n",
            "El error relatiivo para el polinomio de grado 4 es de 1.0\n",
            "El error relatiivo para el polinomio de grado 5 es de 1.0\n",
            "El error relatiivo para el polinomio de grado 6 es de 1.0\n",
            "El error relatiivo para el polinomio de grado 7 es de 1.0\n",
            "El error relatiivo para el polinomio de grado 8 es de 1.0\n",
            "El error relatiivo para el polinomio de grado 9 es de 1.0\n",
            "El error relatiivo para el polinomio de grado 10 es de 1.0\n"
          ]
        }
      ],
      "source": [
        "# En esta parte se definirá la función del error relativo:\n",
        "def Laguerre_error(n):\n",
        "  Integral_value = ((np.pi)**4 ) / 15\n",
        "  return LaguerreIntegral(n)/ Integral_value\n",
        "\n",
        "error_relative = np.array([])\n",
        "for k in range(2,11):\n",
        "    error = round(Laguerre_error(k),3)\n",
        "    error_relative = np.append(error_relative,error)\n",
        "    print(\"El error relatiivo para el polinomio de grado {} es de {}\".format(k,error))"
      ]
    },
    {
      "cell_type": "code",
      "execution_count": 153,
      "metadata": {},
      "outputs": [
        {
          "data": {
            "image/png": "[encoded data removed]",
            "text/plain": [
              "<Figure size 432x288 with 1 Axes>"
            ]
          },
          "metadata": {
            "needs_background": "light"
          },
          "output_type": "display_data"
        }
      ],
      "source": [
        "n_values = [2,3,4,5,6,7,8,9,10]\n",
        "plt.title('Relative error', fontsize = 15)\n",
        "plt.xlabel(r'$n$',fontsize = 15)\n",
        "plt.ylabel(r'$\\varepsilon_{r}(n)$',fontsize = 15)\n",
        "plt.scatter(n_values,error_relative, color = '#0CC8F2',marker = 'o',label='Quadrature accuracy')\n",
        "plt.legend()\n",
        "plt.grid()"
      ]
    },
    {
      "cell_type": "code",
      "execution_count": 5,
      "metadata": {},
      "outputs": [],
      "source": [
        "def triangular_superior(A):\n",
        "    B = A.copy().astype(float)\n",
        "    n = B.shape[0]\n",
        "    for i in range(n): # recorrido por las columnas\n",
        "        for j in range(i+1, n): # recorrido por las filas\n",
        "            B[j] = ((B[j, i])/B[i, i]) * B[i] - B[j]\n",
        "    \n",
        "    return B\n",
        "\n",
        "def matriz_diagonal(A_t):\n",
        "  B = A_t.copy().astype(float)\n",
        "  n = B.shape[0]\n",
        "  for i in range(n - 1, -1, -1):\n",
        "    for j in range(i - 1, -1, -1):\n",
        "      B[j] = (B[j, i]/B[i, i]) * B[i] - B[j]\n",
        "\n",
        "    B[i] = B[i] / B[i, i]\n",
        "  return B"
      ]
    },
    {
      "cell_type": "code",
      "execution_count": 7,
      "metadata": {},
      "outputs": [
        {
          "name": "stdout",
          "output_type": "stream",
          "text": [
            "[[ 1.  0. -0.  2.]\n",
            " [ 0.  1.  0.  3.]\n",
            " [-0. -0.  1. -1.]]\n"
          ]
        }
      ],
      "source": [
        "A = np.array([\n",
        "    [2, 1, -1, 8],\n",
        "    [-3, -1, 2, -11],\n",
        "    [-2, 1, 2, -3]\n",
        "])\n",
        "\n",
        "A_t = triangular_superior(A)\n",
        "D = matriz_diagonal(A_t)\n",
        "print(D)"
      ]
    },
    {
      "cell_type": "code",
      "execution_count": 11,
      "metadata": {},
      "outputs": [],
      "source": [
        "\n"
      ]
    }
  ],
  "metadata": {
    "colab": {
      "provenance": []
    },
    "kernelspec": {
      "display_name": "base",
      "language": "python",
      "name": "python3"
    },
    "language_info": {
      "codemirror_mode": {
        "name": "ipython",
        "version": 3
      },
      "file_extension": ".py",
      "mimetype": "text/x-python",
      "name": "python",
      "nbconvert_exporter": "python",
      "pygments_lexer": "ipython3",
      "version": "3.9.7"
    },
    "vscode": {
      "interpreter": {
        "hash": "ad307bde91f31e4b718ec0c2fe9a8b9cebe22b2862231a694138fcba204f6685"
      }
    }
  },
  "nbformat": 4,
  "nbformat_minor": 0
}
