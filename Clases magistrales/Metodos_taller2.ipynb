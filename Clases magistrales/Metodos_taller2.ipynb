{
  "cells": [
    {
      "cell_type": "code",
      "execution_count": 1,
      "metadata": {
        "id": "snIthsvCnjok"
      },
      "outputs": [],
      "source": [
        "import numpy as np\n",
        "import matplotlib.pyplot as plt\n",
        "from matplotlib import rc\n",
        "import pandas as pd\n",
        "import sympy as sym\n",
        "from fractions import Fraction"
      ]
    },
    {
      "attachments": {},
      "cell_type": "markdown",
      "metadata": {
        "id": "tGsYwIy5jj1Z"
      },
      "source": [
        "**4)** Escribir el polinomio $p(x) = 3 + 5x + x^2$ en la base de Legendre. "
      ]
    },
    {
      "cell_type": "markdown",
      "metadata": {},
      "source": []
    },
    {
      "cell_type": "code",
      "execution_count": 4,
      "metadata": {},
      "outputs": [
        {
          "name": "stdout",
          "output_type": "stream",
          "text": [
            "El polinomio escrito en la base de Legendre es (3.3333333333333335)p_0(x) +(5.0)p_1(x)+(0.6666666666666666)p_2(x)\n"
          ]
        }
      ],
      "source": [
        "x = sym.Symbol('x',real=True)\n",
        "\n",
        "#Código que genera los polinomios de Legendre\n",
        "\n",
        "#Primeros polinomios de Legendre\n",
        "p0 = 1\n",
        "p1 = x\n",
        "Legendre_polynomy = [p0,p1]\n",
        "\n",
        "#Demás grados de polinomio\n",
        "for i in range(2,3):\n",
        "    Legendre_basis = ((2*i-1)*(x*p1) - (i-1)*p0) / i\n",
        "    Legendre_polynomy.append(Legendre_basis)\n",
        "    p0 = p1\n",
        "    p1 = Legendre_basis\n",
        "\n",
        "#Código para escribir el polinomio propio en base de Legendre\n",
        "polynomy = x**2 + 5*x +3\n",
        "coefficient = np.zeros(3)\n",
        "\n",
        "for i in range(0,3):\n",
        "    Multiplication = polynomy * Legendre_polynomy[i]\n",
        "    Integral = sym.integrate(Multiplication,(x, -1, 1))\n",
        "    a = Fraction(float(Integral*((2*i+1)/2)))\n",
        "    coefficient[i] = a\n",
        "\n",
        "print(\"El polinomio escrito en la base de Legendre es ({})p_0(x) +({})p_1(x)+({})p_2(x)\".format(coefficient[0],coefficient[1],coefficient[2]) )\n",
        "     "
      ]
    }
  ],
  "metadata": {
    "colab": {
      "provenance": []
    },
    "kernelspec": {
      "display_name": "base",
      "language": "python",
      "name": "python3"
    },
    "language_info": {
      "codemirror_mode": {
        "name": "ipython",
        "version": 3
      },
      "file_extension": ".py",
      "mimetype": "text/x-python",
      "name": "python",
      "nbconvert_exporter": "python",
      "pygments_lexer": "ipython3",
      "version": "3.9.7"
    },
    "vscode": {
      "interpreter": {
        "hash": "ad307bde91f31e4b718ec0c2fe9a8b9cebe22b2862231a694138fcba204f6685"
      }
    }
  },
  "nbformat": 4,
  "nbformat_minor": 0
}
