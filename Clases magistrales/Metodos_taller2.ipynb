{
  "cells": [
    {
      "cell_type": "code",
      "execution_count": 1,
      "metadata": {
        "id": "snIthsvCnjok"
      },
      "outputs": [],
      "source": [
        "import numpy as np\n",
        "import matplotlib.pyplot as plt\n",
        "from matplotlib import rc\n",
        "import pandas as pd\n",
        "import sympy as sym\n",
        "import os.path as path\n",
        "import os\n",
        "import wget"
      ]
    },
    {
      "cell_type": "markdown",
      "metadata": {
        "id": "Ai79dZK5i_km"
      },
      "source": [
        "Demuestre que el polinomio interpolador es unico.\n",
        "\n",
        "Dada la definicion de interpolacipn como la matriz dada entre la multiplicacion de filas y columnas entre vectores podemos demostrar usando bases de algebra lineal que su polinomio (determinante) sera unico ya que en una matriz simetrica siempre ocurrira dicha propiedad"
      ]
    },
    {
      "cell_type": "markdown",
      "metadata": {
        "id": "UFrih_MZjIZc"
      },
      "source": [
        "En el lanzamiento de una bala, una c´amara fotogr´afica registra las siguientes posiciones\n",
        "en metros respecto al arma homicida (tome ~g = −9.8 m/s2 ˆj):\n",
        "https://raw.githubusercontent.com/asegura4488/Database/main/MetodosComputacionalesRefoParabolico.csv\n",
        "Estime el vector velocidad inicial, que estar´ıa definido por la magnitud y direcci´on. Rpta:\n",
        "V0 = 10 m/s y θ = 20◦\n",
        ". Hint: Encuentre el termino lineal y cuadr´atico de la interpolaci´on\n",
        "y compare con la ecuaci´on de trayectoria de la bala."
      ]
    },
    {
      "cell_type": "markdown",
      "metadata": {
        "id": "40wqFKlQmg5r"
      },
      "source": [
        "como me dan los datos de posicion a traves del tiempo con interpolacion obtengo la funcion, la velocidad estará dada por la derivacion de dicha funcion. como dice ahi es localizar el termino lineal y cuadratico en la interpolación porque el lineal me dará velocidad inicial y con el cuadratico obtendre la variacion de l misma para hallar magnitud y angulo de direccion\n",
        "\n",
        "\n",
        "v = v_0 + at\n",
        "a = g \n",
        "por cada v se puede entrar en una lista"
      ]
    },
    {
      "cell_type": "code",
      "execution_count": 2,
      "metadata": {
        "id": "QfTZjDF3jGyD"
      },
      "outputs": [
        {
          "name": "stdout",
          "output_type": "stream",
          "text": [
            "[ 5. 10. 15.] [10. 15. 25.]\n"
          ]
        }
      ],
      "source": [
        "if not path.exists('Data'):\n",
        "    os.mkdir('Data')\n",
        "    \n",
        "file = 'Data/Interpolacion.dat'\n",
        "url = ' https://raw.githubusercontent.com/asegura4488/Database/main/MetodosComputacionalesRefoParabolico.csv '\n",
        "\n",
        "if not path.exists(file):\n",
        "    Path_ = wget.download(url,file)\n",
        "    \n",
        "else:\n",
        "    Path_ = file\n",
        "\n",
        "Data = pd.read_csv(Path_)\n",
        "\n",
        "X = np.float64(Data.X)\n",
        "Y = np.float64(Data.Y)\n",
        "print(X,Y)"
      ]
    },
    {
      "cell_type": "code",
      "execution_count": 3,
      "metadata": {
        "id": "_3iFcdoKoy0C"
      },
      "outputs": [],
      "source": [
        "def Lagrange(x,xi,j):\n",
        "    \n",
        "    prod = 1.0\n",
        "    n = len(xi)\n",
        "    \n",
        "    for i in range(n):\n",
        "        if i != j:\n",
        "            prod *= (x - xi[i])/(xi[j]-xi[i])\n",
        "            \n",
        "    return prod\n",
        "\n",
        "def Interpolate(x,xi,yi):\n",
        "    \n",
        "    Sum = 0.\n",
        "    n = len(xi)\n",
        "    \n",
        "    for j in range(n):\n",
        "        Sum += yi[j]*Lagrange(x,xi,j)\n",
        "        \n",
        "    return Sum"
      ]
    },
    {
      "cell_type": "code",
      "execution_count": 22,
      "metadata": {
        "id": "vCkfWNbNo7Wz"
      },
      "outputs": [
        {
          "data": {
            "text/latex": [
              "$\\displaystyle 0.1 x^{2} - 0.5 x + 10.0$"
            ],
            "text/plain": [
              "0.1*x**2 - 0.5*x + 10.0"
            ]
          },
          "execution_count": 22,
          "metadata": {},
          "output_type": "execute_result"
        }
      ],
      "source": [
        "x = sym.Symbol('x',real=True)\n",
        "\n",
        "f = Interpolate(x,X,Y)\n",
        "fu = sym.simplify(f)\n",
        "func_pos = sym.lambdify([x],fu,'numpy')\n",
        "fu\n"
      ]
    },
    {
      "cell_type": "code",
      "execution_count": 23,
      "metadata": {},
      "outputs": [
        {
          "data": {
            "text/latex": [
              "$\\displaystyle 0.2 x - 0.5$"
            ],
            "text/plain": [
              "0.2*x - 0.5"
            ]
          },
          "execution_count": 23,
          "metadata": {},
          "output_type": "execute_result"
        }
      ],
      "source": [
        "df = sym.diff(f,x)\n",
        "dfu = sym.simplify(df)\n",
        "func_vel = sym.lambdify([x],df,'numpy')\n",
        "#reemplazar la segunda x por la gravedad\n",
        "dfu"
      ]
    },
    {
      "cell_type": "code",
      "execution_count": 20,
      "metadata": {
        "id": "AqFPr4uJrWtq"
      },
      "outputs": [
        {
          "name": "stdout",
          "output_type": "stream",
          "text": [
            "[0.5, 1.5, 2.5]\n"
          ]
        }
      ],
      "source": [
        "values = []\n",
        "for i in X:\n",
        "  values.append(func_vel(i))\n",
        "\n",
        "print(values)"
      ]
    },
    {
      "cell_type": "markdown",
      "metadata": {
        "id": "F6nXs0BRjZ-g"
      },
      "source": [
        "Hacer pasos intermedios para regla de trapecio simple, Ecuaci´on (3.81)."
      ]
    },
    {
      "cell_type": "code",
      "execution_count": null,
      "metadata": {
        "id": "3QE--Lk8jK0H"
      },
      "outputs": [],
      "source": []
    },
    {
      "cell_type": "markdown",
      "metadata": {
        "id": "FC_5a9uNp2cJ"
      },
      "source": []
    },
    {
      "cell_type": "markdown",
      "metadata": {
        "id": "k0p1QRCgjdPW"
      },
      "source": [
        "Hacer los pasos intermedios para encontrar la regla de Simpson simple,\n",
        "Ecuaci´on (3.94)."
      ]
    },
    {
      "cell_type": "code",
      "execution_count": null,
      "metadata": {
        "id": "7elPcHCZjZi3"
      },
      "outputs": [],
      "source": []
    },
    {
      "cell_type": "markdown",
      "metadata": {
        "id": "tGsYwIy5jj1Z"
      },
      "source": [
        "Escribir el polinomio p(x) = 3 + 5x + x\n",
        "2\n",
        "en la base de Legendre. Rpta: p(x) = 10\n",
        "3\n",
        "p0(x) +\n",
        "5p1(x) + 2\n",
        "3\n",
        "p2(x)"
      ]
    }
  ],
  "metadata": {
    "colab": {
      "provenance": []
    },
    "kernelspec": {
      "display_name": "base",
      "language": "python",
      "name": "python3"
    },
    "language_info": {
      "codemirror_mode": {
        "name": "ipython",
        "version": 3
      },
      "file_extension": ".py",
      "mimetype": "text/x-python",
      "name": "python",
      "nbconvert_exporter": "python",
      "pygments_lexer": "ipython3",
      "version": "3.9.7"
    },
    "vscode": {
      "interpreter": {
        "hash": "ad307bde91f31e4b718ec0c2fe9a8b9cebe22b2862231a694138fcba204f6685"
      }
    }
  },
  "nbformat": 4,
  "nbformat_minor": 0
}
