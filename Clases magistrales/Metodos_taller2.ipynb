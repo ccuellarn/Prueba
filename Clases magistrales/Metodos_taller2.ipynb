{
  "cells": [
    {
      "cell_type": "code",
      "execution_count": 17,
      "metadata": {
        "id": "snIthsvCnjok"
      },
      "outputs": [],
      "source": [
        "import numpy as np\n",
        "import matplotlib.pyplot as plt\n",
        "from matplotlib import rc\n",
        "import pandas as pd\n",
        "import sympy as sym\n",
        "import os.path as path\n",
        "import os\n",
        "import wget\n",
        "import urllib.request"
      ]
    },
    {
      "attachments": {},
      "cell_type": "markdown",
      "metadata": {
        "id": "tGsYwIy5jj1Z"
      },
      "source": [
        "**4)** Escribir el polinomio $p(x) = 3 + 5x + x^2$ en la base de Legendre. "
      ]
    },
    {
      "cell_type": "code",
      "execution_count": 18,
      "metadata": {},
      "outputs": [],
      "source": [
        "x = sym.Symbol('x',real=True)\n",
        "y = sym.Symbol('y',real=True)"
      ]
    },
    {
      "cell_type": "code",
      "execution_count": 27,
      "metadata": {},
      "outputs": [],
      "source": [
        "def GetLegendre(n,x,y):\n",
        "  y = x**2 +5*x +3\n",
        "  poly = ( (sym.diff(y,x,n)) * (2**n*np.math.factorial(n)) * ((x**2-1)**n) )\n",
        "\n",
        "  return poly\n"
      ]
    },
    {
      "cell_type": "code",
      "execution_count": 32,
      "metadata": {},
      "outputs": [
        {
          "data": {
            "text/plain": [
              "[2*x + 5, 1, 0, 0, 0, 0, 0, 0, 0]"
            ]
          },
          "execution_count": 32,
          "metadata": {},
          "output_type": "execute_result"
        }
      ],
      "source": [
        "Legendre = []\n",
        "DLegendre = []\n",
        "\n",
        "for i in range(n+1):\n",
        "  Poly = GetLegendre(i,x,y)\n",
        "  Legendre.append(Poly)\n",
        "  DLegendre.append( sym.diff(Poly,x,1) )\n",
        "  \n",
        "DLegendre"
      ]
    }
  ],
  "metadata": {
    "colab": {
      "provenance": []
    },
    "kernelspec": {
      "display_name": "base",
      "language": "python",
      "name": "python3"
    },
    "language_info": {
      "codemirror_mode": {
        "name": "ipython",
        "version": 3
      },
      "file_extension": ".py",
      "mimetype": "text/x-python",
      "name": "python",
      "nbconvert_exporter": "python",
      "pygments_lexer": "ipython3",
      "version": "3.9.7"
    },
    "vscode": {
      "interpreter": {
        "hash": "ad307bde91f31e4b718ec0c2fe9a8b9cebe22b2862231a694138fcba204f6685"
      }
    }
  },
  "nbformat": 4,
  "nbformat_minor": 0
}
