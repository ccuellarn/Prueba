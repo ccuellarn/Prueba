{
 "cells": [
  {
   "cell_type": "code",
   "execution_count": 2,
   "metadata": {},
   "outputs": [],
   "source": [
    "import numpy as np"
   ]
  },
  {
   "cell_type": "code",
   "execution_count": 3,
   "metadata": {},
   "outputs": [
    {
     "data": {
      "text/plain": [
       "array([[ 1,  2, -1],\n",
       "       [ 1,  0,  1],\n",
       "       [ 4, -4,  5]])"
      ]
     },
     "execution_count": 3,
     "metadata": {},
     "output_type": "execute_result"
    }
   ],
   "source": [
    "A = np.array([[1,2,-1],[1,0,1],[4,-4,5]])\n",
    "A"
   ]
  },
  {
   "cell_type": "code",
   "execution_count": 11,
   "metadata": {},
   "outputs": [],
   "source": [
    "def EigValue(A,c=0,itmax=1000,tolerancia=1e-14):\n",
    "    \n",
    "    n = A.shape[0]\n",
    "    \n",
    "    v0 = np.zeros(n)\n",
    "    \n",
    "    v0[c] = 1.\n",
    "    \n",
    "    lambda1 = 0.\n",
    "    \n",
    "    for k in range(itmax):\n",
    "        \n",
    "        v1 = np.dot(A,v0)\n",
    "        v1 = v1/np.linalg.norm(v1) # Normaliza\n",
    "        \n",
    "        v2 = np.dot(A,v1)\n",
    "        v2 = v2/np.linalg.norm(v1)\n",
    "        \n",
    "        lambda0 = lambda1\n",
    "        lambda1 = v2[0]/v1[0]\n",
    "        \n",
    "        v0 = v2\n",
    "        \n",
    "        if np.abs(lambda0 - lambda1) <= tolerancia:\n",
    "            break\n",
    "            \n",
    "    return lambda1,v1"
   ]
  },
  {
   "cell_type": "code",
   "execution_count": 12,
   "metadata": {},
   "outputs": [
    {
     "name": "stdout",
     "output_type": "stream",
     "text": [
      "3.000000000000006 [-0.23570226  0.23570226  0.94280904]\n"
     ]
    }
   ],
   "source": [
    "value1,vector1 = EigValue(A)\n",
    "print(value1,vector1)"
   ]
  },
  {
   "cell_type": "code",
   "execution_count": 10,
   "metadata": {},
   "outputs": [
    {
     "data": {
      "text/plain": [
       "(array([3., 2., 1.]),\n",
       " array([[-0.23570226,  0.43643578,  0.40824829],\n",
       "        [ 0.23570226, -0.21821789, -0.40824829],\n",
       "        [ 0.94280904, -0.87287156, -0.81649658]]))"
      ]
     },
     "execution_count": 10,
     "metadata": {},
     "output_type": "execute_result"
    }
   ],
   "source": [
    "np.linalg.eig(A)"
   ]
  },
  {
   "cell_type": "code",
   "execution_count": 6,
   "metadata": {},
   "outputs": [],
   "source": [
    "def Tensor(v):\n",
    "    \n",
    "    n = v.shape[0]\n",
    "    T = np.zeros((n,n))\n",
    "    \n",
    "    for i in range(n):\n",
    "        for j in range(n):\n",
    "            T[i,j] = v[i]*v[j]\n",
    "    \n",
    "    return T"
   ]
  },
  {
   "cell_type": "code",
   "execution_count": 7,
   "metadata": {},
   "outputs": [
    {
     "data": {
      "text/plain": [
       "(1.9999999999999964, array([0.17069719, 0.23897606, 0.95590424]))"
      ]
     },
     "execution_count": 7,
     "metadata": {},
     "output_type": "execute_result"
    }
   ],
   "source": [
    "t = Tensor(vector1) #tensor de v1 con v1\n",
    "B = A - value1*t\n",
    "EigValue(B)"
   ]
  },
  {
   "cell_type": "code",
   "execution_count": 8,
   "metadata": {},
   "outputs": [
    {
     "data": {
      "text/plain": [
       "array([[ 0.77505828,  2.08508159, -0.65967366],\n",
       "       [ 1.08508159, -0.28088578, -0.12354312],\n",
       "       [ 4.34032634, -5.12354312,  0.50582751]])"
      ]
     },
     "execution_count": 8,
     "metadata": {},
     "output_type": "execute_result"
    }
   ],
   "source": [
    "#para hallar el tercer valor propio\n",
    "value2,vector2 = EigValue(B)\n",
    "t2 = Tensor(vector2)\n",
    "C = B - value2*t2\n",
    "C"
   ]
  }
 ],
 "metadata": {
  "kernelspec": {
   "display_name": "base",
   "language": "python",
   "name": "python3"
  },
  "language_info": {
   "codemirror_mode": {
    "name": "ipython",
    "version": 3
   },
   "file_extension": ".py",
   "mimetype": "text/x-python",
   "name": "python",
   "nbconvert_exporter": "python",
   "pygments_lexer": "ipython3",
   "version": "3.9.7"
  },
  "orig_nbformat": 4,
  "vscode": {
   "interpreter": {
    "hash": "ad307bde91f31e4b718ec0c2fe9a8b9cebe22b2862231a694138fcba204f6685"
   }
  }
 },
 "nbformat": 4,
 "nbformat_minor": 2
}
