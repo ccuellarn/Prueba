{
  "nbformat": 4,
  "nbformat_minor": 0,
  "metadata": {
    "colab": {
      "provenance": []
    },
    "kernelspec": {
      "name": "python3",
      "display_name": "Python 3"
    },
    "language_info": {
      "name": "python"
    }
  },
  "cells": [
    {
      "cell_type": "code",
      "execution_count": 1,
      "metadata": {
        "id": "dhCq64H-bbtQ"
      },
      "outputs": [],
      "source": [
        "import numpy as np\n",
        "import matplotlib.pyplot as plt\n",
        "from matplotlib import rc"
      ]
    },
    {
      "cell_type": "code",
      "source": [
        "class MyRandom():\n",
        "\n",
        "  def __init__(self,seed=15,method='simple'):\n",
        "\n",
        "    self.r = seed\n",
        "    self.method = method\n",
        "\n",
        "    if method=='simple':\n",
        "      self.a = 75\n",
        "      self.c = 3\n",
        "      self.M = 150\n",
        "    elif method == 'drand48':\n",
        "      self.a = int('5DEECE66D',16)\n",
        "      self.c = int('B',16)\n",
        "      self.M = 2**48\n",
        "    else:\n",
        "      print('Generador no existe')\n",
        "\n",
        "  def Random(self):\n",
        "\n",
        "    r = (self.a*self.r + self.c)%self.M\n",
        "    self.r\n",
        "    return r/float(self.M)"
      ],
      "metadata": {
        "id": "CRadU1tLb0yJ"
      },
      "execution_count": 3,
      "outputs": []
    },
    {
      "cell_type": "code",
      "source": [
        "rand0 = MyRandom(seed=2,method='simple')\n",
        "rand0.Random()"
      ],
      "metadata": {
        "colab": {
          "base_uri": "https://localhost:8080/"
        },
        "id": "S6i7zdczbxNj",
        "outputId": "01ce8c17-878a-407a-e5d8-5fc0e28081c7"
      },
      "execution_count": 5,
      "outputs": [
        {
          "output_type": "execute_result",
          "data": {
            "text/plain": [
              "0.02"
            ]
          },
          "metadata": {},
          "execution_count": 5
        }
      ]
    },
    {
      "cell_type": "code",
      "source": [
        "#la funcion aleatoria de numpy\n",
        "np.random.rand()"
      ],
      "metadata": {
        "colab": {
          "base_uri": "https://localhost:8080/"
        },
        "id": "Mky2enCdeQDY",
        "outputId": "48887c44-5036-4965-a27a-07010363f70f"
      },
      "execution_count": 6,
      "outputs": [
        {
          "output_type": "execute_result",
          "data": {
            "text/plain": [
              "0.0630998364861931"
            ]
          },
          "metadata": {},
          "execution_count": 6
        }
      ]
    }
  ]
}